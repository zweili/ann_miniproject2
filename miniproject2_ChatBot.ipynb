{
 "cells": [
  {
   "cell_type": "markdown",
   "metadata": {},
   "source": [
    "# Miniproject 2: Chatbot\n",
    "\n",
    "## Introduction\n",
    "\n",
    "### Description\n",
    "\n",
    "Developing a model employing ANN on real-world data requires going through several major steps, each of which with \n",
    "important design choices that directly impact the final results. \n",
    "In this project, we guide you through these choices starting from a large database of \n",
    "[conversations](http://parl.ai/downloads/personachat/personachat.tgz) to a functional chatbot. \n",
    "\n",
    "### Prerequisites\n",
    "\n",
    "- You should have a running installation of [tensorflow](https://www.tensorflow.org/install/) and [keras](https://keras.io/).\n",
    "- You should know the concepts \"recurrent neural networks\", \"LSTM\", \"training and validation data\", \"overfitting\" and \"early stopping\".\n",
    "\n",
    "### What you will learn\n",
    "\n",
    "- You will be guided through a data processing procedure and understand the importance of design choices in ANN modeling\n",
    "- You will learn how to define recurrent neural networks in keras and fit them to data.\n",
    "- You will be guided through a prototyping procedure for the application of deep learning to a specific domain.\n",
    "- You will get in contact with concepts discussed in the lecture, like \"overfitting\", \"LSTM network\", and \"Generative model\".\n",
    "- You will learn to be more patient :) Some fits may take your computer quite a bit of time; run them over night and make sure you save (and load) your data and models.\n",
    "\n",
    "### Evaluation criteria\n",
    "\n",
    "The evaluation is (mostly) based on the figures you submit and your answer sentences. \n",
    "We will only do random tests of your code and not re-run the full notebook. \n",
    "Please ensure that your notebook is fully executed before handing it in. \n",
    "\n",
    "### Submission \n",
    "\n",
    "You should submit your notebook through the Moodle page submission tool. You should work in teams of two people and each member should submit the same notebook to Moodle.\n",
    "\n"
   ]
  },
  {
   "cell_type": "markdown",
   "metadata": {},
   "source": [
    "## Functions and imports\n",
    "\n",
    "For your convenience we import some libraries and provide some functions below. Fill in your names, sciper numbers and run the following cell."
   ]
  },
  {
   "cell_type": "code",
   "execution_count": 1,
   "metadata": {},
   "outputs": [
    {
     "name": "stderr",
     "output_type": "stream",
     "text": [
      "Using TensorFlow backend.\n"
     ]
    },
    {
     "name": "stdout",
     "output_type": "stream",
     "text": [
      "[name: \"/device:CPU:0\"\n",
      "device_type: \"CPU\"\n",
      "memory_limit: 268435456\n",
      "locality {\n",
      "}\n",
      "incarnation: 4830123713063146811\n",
      ", name: \"/device:GPU:0\"\n",
      "device_type: \"GPU\"\n",
      "memory_limit: 4844879872\n",
      "locality {\n",
      "  bus_id: 1\n",
      "  links {\n",
      "  }\n",
      "}\n",
      "incarnation: 8013181030160337666\n",
      "physical_device_desc: \"device: 0, name: GeForce RTX 2060, pci bus id: 0000:01:00.0, compute capability: 7.5\"\n",
      "]\n"
     ]
    }
   ],
   "source": [
    "names = {'student_1': \"Lucas Zweili\",\n",
    "        'student_2': \"Raphaël Reis Nunes\"}\n",
    "\n",
    "sciper = {'student_1': 999999, \n",
    "          'student_2': 888888}\n",
    "\n",
    "seed = sciper['student_1']+sciper['student_2']\n",
    "\n",
    "%matplotlib inline\n",
    "\n",
    "#GPU acceleration\n",
    "from tensorflow.python.client import device_lib\n",
    "from keras import backend as K\n",
    "K.tensorflow_backend._get_available_gpus()\n",
    "print(device_lib.list_local_devices())\n",
    "\n",
    "import numpy as np\n",
    "import matplotlib.pyplot as plt\n",
    "import os, sys\n",
    "import copy\n",
    "\n",
    "plt.rcParams['font.size'] = 28\n",
    "plt.style.use('ggplot')\n",
    "plt.rcParams[\"axes.grid\"] = False\n",
    "c = plt.rcParams['axes.prop_cycle'].by_key()['color']\n",
    "\n",
    "import keras\n",
    "from keras.models import Model, load_model\n",
    "from keras.layers import Input, Masking, TimeDistributed, Dense, Concatenate, Dropout, LSTM, CuDNNLSTM, GRU, CuDNNGRU, SimpleRNN, Bidirectional, Embedding, BatchNormalization\n",
    "from keras.optimizers import Adam\n",
    "from keras.utils import np_utils\n",
    "from keras.preprocessing.sequence import pad_sequences\n",
    "from keras.callbacks import ModelCheckpoint, EarlyStopping\n",
    "\n",
    "\n",
    "def getRawDataFromFile(datapath=\"../../personachat/\", file=\"train_both_revised.txt\"):\n",
    "    \n",
    "    f = open(datapath+file)\n",
    "\n",
    "    conversations = []\n",
    "    current_conversation = []\n",
    "    \n",
    "    for l, line in enumerate(f):\n",
    "        #print(l, line)\n",
    "        if \"persona:\" in line:\n",
    "            if len(current_conversation) > 1:\n",
    "                conversations.append(current_conversation)\n",
    "            current_conversation = [] \n",
    "            continue\n",
    "\n",
    "        #remove numberings\n",
    "        processed_line = line.split(' ')\n",
    "        processed_line = \" \".join(processed_line[1:])\n",
    "        line = processed_line\n",
    "        #print(line)\n",
    "\n",
    "        conv = line.split('\\t')    \n",
    "        q = conv[0]\n",
    "        a = conv[1]\n",
    "        current_conversation.append(q)\n",
    "        current_conversation.append(a)\n",
    "    \n",
    "    return conversations "
   ]
  },
  {
   "cell_type": "markdown",
   "metadata": {
    "collapsed": true
   },
   "source": [
    "## Data visualization and preprocessing\n",
    "\n",
    "Here we will process and visualize the data.\n"
   ]
  },
  {
   "cell_type": "markdown",
   "metadata": {},
   "source": [
    "### Parse raw data \n",
    "\n",
    "Download the dataset on http://parl.ai/downloads/personachat/personachat.tgz. Unpack it and add it to your project folder. Read and run the getRawDataFromFile function (if needed, modify the default path). It extracts the conversations.\n",
    "\n",
    "**Output** Display two randomly selected conversations. [1 pt]"
   ]
  },
  {
   "cell_type": "code",
   "execution_count": 2,
   "metadata": {},
   "outputs": [
    {
     "data": {
      "text/plain": [
       "(['hi ! swift or katy perry ?',\n",
       "  'i pick katy perry lol',\n",
       "  'well , that is an excellent choice ! what kind of car do you drive ?',\n",
       "  'i drive a toyota camry . . . u ?',\n",
       "  'ford taurus . its a nice car . what do you do ?',\n",
       "  'i am a legal asst . for a dick boss',\n",
       "  'sorry to hear that ! i am in retail .',\n",
       "  'where are you located in ?',\n",
       "  'san fran , ca . what about you ?',\n",
       "  'i am in river side cali',\n",
       "  'what do you like to do for fun ? any hobbies ?',\n",
       "  'i like to do activist work in my free time'],\n",
       " ['hero buddy , hows it going today ?',\n",
       "  'my job takes a lot of hours away from spending time in nature',\n",
       "  'oh , but that means you get to be around a lot of people , huh',\n",
       "  'yes but i prefer to be in nature . whats your hobby ?',\n",
       "  'i like to make new friends',\n",
       "  'i work too many hours to have friends . whats your favorite color ?',\n",
       "  'i like all colors , none should be dismissed .',\n",
       "  'i agree , but my eyes are drawn to the color blue',\n",
       "  'blue is such a beautiful color . it reminds me of a blue doll i once had .',\n",
       "  'do you spend time in nature ? i love hiking',\n",
       "  'not so much . i used to hike outside the orphanage , but got terribly lost .',\n",
       "  'that sounds so frightening i am sorry to hear that . do you drive at all ?'])"
      ]
     },
     "execution_count": 2,
     "metadata": {},
     "output_type": "execute_result"
    }
   ],
   "source": [
    "conv = getRawDataFromFile()\n",
    "\n",
    "idx1, idx2 = np.random.choice(len(conv), 2)\n",
    "\n",
    "conv[idx1], conv[idx2]"
   ]
  },
  {
   "cell_type": "markdown",
   "metadata": {},
   "source": [
    "### Extract word tokens\n",
    "\n",
    "Let's start looking at our data. \n",
    "\n",
    "**Code** Compute the set of unique words (dictionary) in all sentences along with the number of occurences of each of these words. HINT: each word is separated by a space character, use the python string.split(' ') function to separate words. Consider punctuations as 'words'. [1 pt]"
   ]
  },
  {
   "cell_type": "code",
   "execution_count": 3,
   "metadata": {},
   "outputs": [
    {
     "name": "stdout",
     "output_type": "stream",
     "text": [
      "[('i', 103476), ('.', 101587), ('you', 48295), ('?', 43768), (',', 39499), ('a', 34213), ('to', 32102), ('do', 30574), ('is', 28573), ('my', 26950)]\n"
     ]
    }
   ],
   "source": [
    "dico = {}\n",
    "\n",
    "for c in conv:\n",
    "    for s in c:\n",
    "        words = s.split(\" \")\n",
    "        for w in words:\n",
    "            if w in dico.keys():\n",
    "                dico[w] += 1\n",
    "            else:\n",
    "                dico[w] = 1\n",
    "\n",
    "sorted_list = sorted(dico.items(), key = lambda x: x[1], reverse=True)\n",
    "# Display top 10 most frequent words used in these conversations.\n",
    "print(sorted_list[:10])"
   ]
  },
  {
   "cell_type": "markdown",
   "metadata": {},
   "source": [
    "**Figure** In a bar plot, show the first 75 most frequent words (x-axis) and their number of occurences (y-axis). [1 pt]"
   ]
  },
  {
   "cell_type": "code",
   "execution_count": 4,
   "metadata": {},
   "outputs": [
    {
     "data": {
      "image/png": "[encoded data removed]",
      "text/plain": [
       "<Figure size 360x1080 with 1 Axes>"
      ]
     },
     "metadata": {
      "needs_background": "light"
     },
     "output_type": "display_data"
    }
   ],
   "source": [
    "plt.figure(figsize=(5,15))\n",
    "x = np.arange(75)\n",
    "labels = [elem[0] for elem in sorted_list[:75][::-1]]\n",
    "heights = [elem[1] for elem in sorted_list[:75][::-1]]\n",
    "bars = plt.barh(x, heights)\n",
    "\n",
    "plt.yticks(x, labels)\n",
    "plt.title(\"Top 75 most frequent words\")\n",
    "plt.show()"
   ]
  },
  {
   "cell_type": "markdown",
   "metadata": {},
   "source": [
    "**Figure** In another bar plot, show the 75 least frequent words (x-axis) and their number of occurences (y-axis). [1 pt] "
   ]
  },
  {
   "cell_type": "code",
   "execution_count": 5,
   "metadata": {},
   "outputs": [
    {
     "data": {
      "image/png": "[encoded data removed]",
      "text/plain": [
       "<Figure size 360x1080 with 1 Axes>"
      ]
     },
     "metadata": {
      "needs_background": "light"
     },
     "output_type": "display_data"
    }
   ],
   "source": [
    "plt.figure(figsize=(5,15))\n",
    "x = np.arange(75)\n",
    "labels = [elem[0] for elem in sorted_list[-75:][::-1]]\n",
    "heights = [elem[1] for elem in sorted_list[-75:][::-1]]\n",
    "bars = plt.barh(x, heights)\n",
    "\n",
    "plt.yticks(x, labels)\n",
    "plt.title(\"Top 75 least frequent words\")\n",
    "plt.show()"
   ]
  },
  {
   "cell_type": "markdown",
   "metadata": {},
   "source": [
    "**Figure** In a log-log scale, plot the sorted word index (x-axis) vs their respective count (y-axis). [1 pt]"
   ]
  },
  {
   "cell_type": "code",
   "execution_count": 6,
   "metadata": {},
   "outputs": [
    {
     "data": {
      "image/png": "[encoded data removed]",
      "text/plain": [
       "<Figure size 432x288 with 1 Axes>"
      ]
     },
     "metadata": {
      "needs_background": "light"
     },
     "output_type": "display_data"
    }
   ],
   "source": [
    "x = np.arange(len(dico))\n",
    "heights = [elem[1] for elem in sorted_list]\n",
    "plt.loglog(x, heights)\n",
    "\n",
    "plt.title(\"log-log words frequency\")\n",
    "plt.ylabel(\"Frequency\")\n",
    "plt.xlabel(\"Index\")\n",
    "plt.show()"
   ]
  },
  {
   "cell_type": "markdown",
   "metadata": {},
   "source": [
    "**Question** Relate the sorted word count distribution with Zipf's law.\n",
    "Argue using the log-log plot. [1 pt]"
   ]
  },
  {
   "cell_type": "markdown",
   "metadata": {},
   "source": [
    "**Answer**"
   ]
  },
  {
   "cell_type": "markdown",
   "metadata": {},
   "source": [
    "**the Zip's law states that the frequency is inversely proportional to the rank or index in our sorted_list. So the most frequent word should be 2 times more frequent than the second one and three times more than the third word and so on.  This could be verify by the linearity of the log-log plot. Which implies that the word count distribution follows the zipf's law**"
   ]
  },
  {
   "cell_type": "markdown",
   "metadata": {},
   "source": [
    "**Question** How many words appear only once in the entire dataset? [1 pt]"
   ]
  },
  {
   "cell_type": "markdown",
   "metadata": {},
   "source": [
    "**Answer**"
   ]
  },
  {
   "cell_type": "code",
   "execution_count": 7,
   "metadata": {
    "scrolled": false
   },
   "outputs": [
    {
     "data": {
      "text/plain": [
       "'7080 / 18673 words appearing only once'"
      ]
     },
     "execution_count": 7,
     "metadata": {},
     "output_type": "execute_result"
    }
   ],
   "source": [
    "#Get the length of the filtered dictionary (where frequency of the word == 1)\n",
    "num_word_1 = len({k: v for k,v in dico.items() if v == 1})\n",
    "num_word_tot = len(dico)\n",
    "\"{un} / {tot} words appearing only once\".format(un=num_word_1, tot=num_word_tot)"
   ]
  },
  {
   "cell_type": "markdown",
   "metadata": {},
   "source": [
    "### Filtering\n",
    "\n",
    "We suggest to filter your data by removing sentences containing rare words. \n",
    "\n",
    "\n",
    "**Code** To achieve that, you should create a new dataset where sentences containing rare words (words that occur less than N times in the dataset) are removed. Keep at least 50'000 sentences (depending on your computing power, you can keep more). \n",
    "HINT: Start by updating the dictionary accordingly and then remove any sentence that contains at least a single word that is not in the dictionary of words. [2 pts]"
   ]
  },
  {
   "cell_type": "code",
   "execution_count": 8,
   "metadata": {},
   "outputs": [],
   "source": [
    "# if a word occur less than n times, we remove the sentence of the conversations.\n",
    "\n",
    "n = 10\n",
    "norare_dico = {k: v for k,v in dico.items() if v > n}\n",
    "norare_conv = copy.deepcopy(conv)\n",
    "\n",
    "for i,c in enumerate(conv):\n",
    "    for s in c:\n",
    "        words = s.split(\" \")\n",
    "        for w in words:\n",
    "            if s not in norare_conv[i]:\n",
    "                break\n",
    "            else:\n",
    "                if w not in norare_dico.keys():\n",
    "                    norare_conv[i].remove(s)\n"
   ]
  },
  {
   "cell_type": "markdown",
   "metadata": {},
   "source": [
    "**Question**: How much did you reduce the number of unique words with your rare event suppression procedure? [1 pt]\n",
    "    \n",
    "**Answer**: "
   ]
  },
  {
   "cell_type": "code",
   "execution_count": 9,
   "metadata": {},
   "outputs": [
    {
     "name": "stdout",
     "output_type": "stream",
     "text": [
      "14141 / 18673 words removed\n"
     ]
    }
   ],
   "source": [
    "print(len(dico)-len(norare_dico),\"/\",len(dico), \"words removed\")"
   ]
  },
  {
   "cell_type": "markdown",
   "metadata": {},
   "source": [
    "**Question**: How many sentences are in your filtered and original dataset? [1 pt]\n",
    "\n",
    "**Answer**:"
   ]
  },
  {
   "cell_type": "code",
   "execution_count": 10,
   "metadata": {},
   "outputs": [
    {
     "name": "stdout",
     "output_type": "stream",
     "text": [
      "102704 sentences in our filtered dataset versus 131424 sentences in original dataset\n"
     ]
    }
   ],
   "source": [
    "num_s_conv = len([x for y in conv for x in y])\n",
    "num_s_norare_conv = len([x for y in norare_conv for x in y])\n",
    "\n",
    "print(\"{f} sentences in our filtered dataset versus {n} sentences in original dataset\".format(f=num_s_norare_conv, n=num_s_conv))"
   ]
  },
  {
   "cell_type": "markdown",
   "metadata": {},
   "source": [
    "**Question**: What is the impact on learning and generalization of removing sentences with rare words from your dataset? [2 pt]\n",
    "\n",
    "**Answer**: "
   ]
  },
  {
   "cell_type": "markdown",
   "metadata": {},
   "source": [
    "**pros: we removed outliers so the models will be more generalized with less overfitting**\n",
    "\n",
    "**cons: we have less samples on which we could train our models and thus losing some improvements.**"
   ]
  },
  {
   "cell_type": "markdown",
   "metadata": {},
   "source": []
  },
  {
   "cell_type": "markdown",
   "metadata": {},
   "source": [
    "### Tokenization and padding\n",
    "\n",
    "Now you will transform our filtered data into a format that is understandable by an ANN. To achieve that, you should transform words to integers, where single integers in the range [1,size of the dictionary] are mapped to single words in your dictionary. This process is commonly named 'tokenization'. In addition, we will keep the value 0 to a specific artificial word 'PADD' that will be used to account for the variable length of sentences and add to each sentence a 'START' and an 'END' word. \n",
    "\n",
    "**Code** Start by adding the three artificial words to your dictionary (list of possible tokens) and then translate every sentences to a list of integers. \n",
    "HINT: use the Python List index() method. [2 pts]\n",
    "\n",
    "**Figure** Use the violinplot to show the density of tokenized sentences length. [1pt]\n",
    "\n",
    "**Code** From this figure, select a maximum number (=maxlen) of tokens for which most of the sentences have less. Padd (and eventually truncate) all sentences with the 'PADD' token (value 0 in the integer representation) until all tokenized sentences have the same length (maxlen).\n",
    "HINT: use the pad_sequences function from keras.preprocessing.sequence [2 pts]\n",
    "\n",
    "**Code** Check that you can recover the original sentence. Randomly select two sentences from your integer and padded representation and translate them back using your dictionary. [1 pt]"
   ]
  },
  {
   "cell_type": "code",
   "execution_count": 11,
   "metadata": {},
   "outputs": [],
   "source": [
    "tokens = copy.deepcopy(norare_dico)\n",
    "\n",
    "\n",
    "#Then tokenization of the dictionary\n",
    "for i,w in enumerate(norare_dico,1):\n",
    "    tokens[w] = i\n",
    "\n",
    "# Add the 3 artifical words\n",
    "tokens[\"PADD\"] = 0\n",
    "tokens[\"START\"] = i + 1\n",
    "tokens[\"STOP\"] = i + 2"
   ]
  },
  {
   "cell_type": "code",
   "execution_count": 12,
   "metadata": {},
   "outputs": [],
   "source": [
    "def translate(s, dico_to_token, to_token):\n",
    "    new_s = []\n",
    "    if to_token:\n",
    "        for w in s:\n",
    "            token = dico_to_token[w]\n",
    "            new_s.append(token)\n",
    "    else:\n",
    "        \n",
    "        inverted_dico = {token: word for word, token in dico_to_token.items()}\n",
    "        \n",
    "        for t in s:\n",
    "            word = inverted_dico[t]\n",
    "            if word in [\"PADD\",\"START\",\"STOP\"]:\n",
    "                continue\n",
    "            else:\n",
    "                new_s.append(word)\n",
    "\n",
    "    return new_s"
   ]
  },
  {
   "cell_type": "code",
   "execution_count": 13,
   "metadata": {},
   "outputs": [],
   "source": [
    "#Translate sentences to list of integers\n",
    "translate_conv = copy.deepcopy(norare_conv)\n",
    "\n",
    "for i,c in enumerate(norare_conv):\n",
    "    for j,s in enumerate(c):\n",
    "        \n",
    "        words = s.split(\" \")\n",
    "        new_s = translate(words,tokens,to_token=True)\n",
    "            \n",
    "        # Add to every sentences START and STOP tokens\n",
    "        new_s = [tokens[\"START\"]] + new_s\n",
    "        new_s.append(tokens[\"STOP\"])\n",
    "        \n",
    "        translate_conv[i][j] = new_s"
   ]
  },
  {
   "cell_type": "code",
   "execution_count": 14,
   "metadata": {},
   "outputs": [
    {
     "data": {
      "image/png": "[encoded data removed]",
      "text/plain": [
       "<Figure size 432x288 with 1 Axes>"
      ]
     },
     "metadata": {
      "needs_background": "light"
     },
     "output_type": "display_data"
    }
   ],
   "source": [
    "data = [len(s) for c in translate_conv for s in c]\n",
    "\n",
    "plt.violinplot(data,showmedians=True, showextrema=False)\n",
    "plt.ylabel(\"length of sentences\")\n",
    "plt.title(\"ViolinPlot (Showing density of tokenized sentences length)\")\n",
    "plt.show()"
   ]
  },
  {
   "cell_type": "code",
   "execution_count": 15,
   "metadata": {},
   "outputs": [],
   "source": [
    "# As, we can see on the violinPlot above, most of the sentences have less than 25 words.\n",
    "maxlen = 25\n",
    "padded_conv = copy.deepcopy(translate_conv)\n",
    "for i,c in enumerate(translate_conv):\n",
    "    padded = pad_sequences(c, maxlen = maxlen, dtype = \"uint32\", padding = \"post\", truncating = \"post\", value = 0)\n",
    "    padded_conv[i] = padded"
   ]
  },
  {
   "cell_type": "code",
   "execution_count": 25,
   "metadata": {},
   "outputs": [
    {
     "data": {
      "text/plain": [
       "(['i', 'am', 'great', ',', 'how', 'are', 'you', '?'],\n",
       " ['hello', '.', 'how', 'are', 'you', 'doing', 'today', '?'])"
      ]
     },
     "execution_count": 25,
     "metadata": {},
     "output_type": "execute_result"
    }
   ],
   "source": [
    "# Translate back 2 random sentences from padded_conv\n",
    "padded_s = [s for c in padded_conv for s in c]\n",
    "idx1, idx2 = np.random.choice(range(len(padded_s)), 2)\n",
    "\n",
    "translate(padded_s[idx1],tokens,to_token=False), translate(padded_s[idx2],tokens,to_token=False)"
   ]
  },
  {
   "cell_type": "code",
   "execution_count": 26,
   "metadata": {},
   "outputs": [
    {
     "data": {
      "text/plain": [
       "array([4533,    8,    9,  152,    2,    3,    4,    5,    7, 4534,    0,\n",
       "          0,    0,    0,    0,    0,    0,    0,    0,    0,    0,    0,\n",
       "          0,    0,    0], dtype=uint32)"
      ]
     },
     "execution_count": 26,
     "metadata": {},
     "output_type": "execute_result"
    }
   ],
   "source": [
    "padded_s[idx1]"
   ]
  },
  {
   "cell_type": "markdown",
   "metadata": {},
   "source": [
    "### Saving\n",
    "\n",
    "Now is a good time to save your data (end of processing). An example code using the pickle library is shown below.\n"
   ]
  },
  {
   "cell_type": "code",
   "execution_count": 3,
   "metadata": {},
   "outputs": [],
   "source": [
    "import pickle"
   ]
  },
  {
   "cell_type": "code",
   "execution_count": null,
   "metadata": {},
   "outputs": [],
   "source": [
    "#save\n",
    "with open(\"data.pkl\", \"wb\") as file:\n",
    "    pickle.dump([padded_conv, norare_dico, tokens], file)\n",
    "    "
   ]
  },
  {
   "cell_type": "code",
   "execution_count": 4,
   "metadata": {},
   "outputs": [],
   "source": [
    "#load\n",
    "with open(\"data.pkl\", \"rb\") as file:\n",
    "    [filtered_sentences, dictionary, tokens] = pickle.load(file)"
   ]
  },
  {
   "cell_type": "markdown",
   "metadata": {},
   "source": [
    "## Building and training generative models of language"
   ]
  },
  {
   "cell_type": "markdown",
   "metadata": {},
   "source": [
    "### RNN vs LSTM vs GRU \n",
    "\n",
    "Build, train and compare generative models of language based on RNNs with different recurrent units (SimpleRNN, GRU and LSTM). \n",
    "\n",
    "The target of the network will be to approximate the word transition probabilities Pr(word[n+1]|H[n]) with H[n]=f(word[:n]) being the hidden state of the network.  \n",
    "\n",
    "**code** You should complete the proposed model (using the Keras API rather than the Sequential model for more flexibility). Be sure to understand each line. The embedding layer allows to transform an integer to a dense vector. That would be our input to the recurrent network - each sentence is mapped to a sequence of vectors, each representing a single word. You can then design your own readout(s) and output layers. By default, use the proposed meta parameters. You can adapt them if you have more or less computing power (32 epochs should take around 30 minutes). [2 pts]\n",
    "\n",
    "**Question** How will your networks deal with the artificial word 'PADD' that you added at the end of each sentences  [2 pts]\n",
    "\n",
    "**Answer**: **It will always predict a \"PADD\" word after it. so \"PADD\" will be a**\n",
    "\n",
    "**code** Then train three different networks with the same architecture but using different recurrent units (simpleRNN, GRU and LSTM). Save the learning history (training/validation loss and accuracy for each epoch) as well as the models. [1 pt]\n",
    "\n",
    "**Question** How can you use this network to approximate the word transition probabilities? What will be the inputs and targets of the network at each batch? Give the input/output tensor dimensions. [2 pts]\n",
    "\n",
    "**Answer**: **TODO**\n",
    "\n",
    "**Figure** Show the learning curves (training and validation loss) for the different recurrent units. [1 pt]\n",
    "\n",
    "**Figure** Show the learning curves (training and validation accuracy) for the different recurrent units. [1 pt]\n",
    "\n",
    "**Question:** Which recurrent unit yields the best validation accuracy? Which is the fastest learner? [1 pt]\n",
    "\n",
    "**Answer**: **LSTM unit is yielding the best validation accuracy with 0.9787 versus 0.9424 and 0.9742 for SimpleRNN and GRU, respectively. Fastest learner is the SimpleRNN unit with an average of 11s per epochs versus 27s and 21s for LSTM and GRU, respectively.**\n",
    "\n",
    "**Question:** Do you observe an overfitting effect? Where and for which case? Give a possible explanation. [1 pt] \n",
    "\n",
    "**Answer**: **Yes for the SimpleRNN unit only. Maybe the model is too complex (too many hidden neurons).**\n",
    "\n",
    "**Question:** Suggest one option modifying your dataset to decrease overfitting. [1 pt]\n",
    "\n",
    "**Answer**: **We could increase the total number of unique words, making the dataset more complex to learn**\n",
    "\n",
    "**Question:** Suggest one possible option modifying your network to decrease overfitting. [1 pt]\n",
    "\n",
    "**Answer**: **We could decrease the number of hidden neurons, reducing the complexity of the model.**\n",
    "\n",
    "**Question:** Suggest one possible option modifying the training modalities to counter overfitting. [1 pt]   \n",
    "\n",
    "**Answer**: **We could increase the dropout probability of the recurrent layer, making the model more robust to new samples, thus decreasing overfitting. Or reducing the training duration by decreasing the number of epochs.**"
   ]
  },
  {
   "cell_type": "code",
   "execution_count": 10,
   "metadata": {},
   "outputs": [],
   "source": [
    "#Meta-parameters\n",
    "embedding_size = 128\n",
    "hidden_size = 64\n",
    "dropout = 0.\n",
    "recurrent_dropout = 0.\n",
    "\n",
    "batch_size = 64\n",
    "epochs = 32\n",
    "validation_split = 0.2\n",
    "\n",
    "dataset_cut = -1\n",
    "maxlen = 25"
   ]
  },
  {
   "cell_type": "code",
   "execution_count": 11,
   "metadata": {},
   "outputs": [],
   "source": [
    "I = {}\n",
    "E = {}\n",
    "H = {}\n",
    "R = {}\n",
    "Y = {}\n",
    "models = {}\n",
    "logs = {}"
   ]
  },
  {
   "cell_type": "code",
   "execution_count": 12,
   "metadata": {},
   "outputs": [],
   "source": [
    "list_sentences = [s for c in filtered_sentences for s in c]\n",
    "X = np.array(list_sentences.copy())\n",
    "T = np.array(list_sentences.copy())"
   ]
  },
  {
   "cell_type": "code",
   "execution_count": 25,
   "metadata": {
    "scrolled": false
   },
   "outputs": [
    {
     "name": "stdout",
     "output_type": "stream",
     "text": [
      "_________________________________________________________________\n",
      "Layer (type)                 Output Shape              Param #   \n",
      "=================================================================\n",
      "input (InputLayer)           (None, 24)                0         \n",
      "_________________________________________________________________\n",
      "embedding (Embedding)        (None, 24, 128)           580480    \n",
      "_________________________________________________________________\n",
      "simple_rnn_4 (SimpleRNN)     (None, 64)                12352     \n",
      "_________________________________________________________________\n",
      "dense_3 (Dense)              (None, 50)                3250      \n",
      "_________________________________________________________________\n",
      "output (Dense)               (None, 24)                1224      \n",
      "=================================================================\n",
      "Total params: 597,306\n",
      "Trainable params: 597,306\n",
      "Non-trainable params: 0\n",
      "_________________________________________________________________\n",
      "(102704, 24) (102704, 24)\n",
      "Train on 82162 samples, validate on 20541 samples\n",
      "Epoch 1/32\n",
      "82162/82162 [==============================] - 13s 153us/step - loss: 16526.2469 - acc: 0.9354 - val_loss: 15451.3348 - val_acc: 0.9966\n",
      "Epoch 2/32\n",
      "82162/82162 [==============================] - 11s 130us/step - loss: 14853.6908 - acc: 0.9837 - val_loss: 14413.0874 - val_acc: 0.9778\n",
      "Epoch 3/32\n",
      "82162/82162 [==============================] - 11s 129us/step - loss: 13927.3067 - acc: 0.9564 - val_loss: 13671.3255 - val_acc: 0.9358\n",
      "Epoch 4/32\n",
      "82162/82162 [==============================] - 11s 128us/step - loss: 13356.8344 - acc: 0.9394 - val_loss: 13193.5580 - val_acc: 0.9580\n",
      "Epoch 5/32\n",
      "82162/82162 [==============================] - 11s 129us/step - loss: 13021.6498 - acc: 0.9342 - val_loss: 13075.0749 - val_acc: 0.9236\n",
      "Epoch 6/32\n",
      "82162/82162 [==============================] - 11s 129us/step - loss: 12833.3220 - acc: 0.9339 - val_loss: 12873.9065 - val_acc: 0.9543\n",
      "Epoch 7/32\n",
      "82162/82162 [==============================] - 11s 129us/step - loss: 12706.4951 - acc: 0.9335 - val_loss: 12745.3570 - val_acc: 0.9515\n",
      "Epoch 8/32\n",
      "82162/82162 [==============================] - 11s 129us/step - loss: 12603.7605 - acc: 0.9327 - val_loss: 12752.5106 - val_acc: 0.9535\n",
      "Epoch 9/32\n",
      "82162/82162 [==============================] - 11s 129us/step - loss: 12518.5405 - acc: 0.9344 - val_loss: 12674.8349 - val_acc: 0.9023\n",
      "Epoch 10/32\n",
      "82162/82162 [==============================] - 11s 129us/step - loss: 12440.4725 - acc: 0.9347 - val_loss: 12637.7301 - val_acc: 0.9169\n",
      "Epoch 11/32\n",
      "82162/82162 [==============================] - 11s 129us/step - loss: 12384.6604 - acc: 0.9363 - val_loss: 12491.4000 - val_acc: 0.9113\n",
      "Epoch 12/32\n",
      "82162/82162 [==============================] - 11s 129us/step - loss: 12329.7661 - acc: 0.9366 - val_loss: 12490.8176 - val_acc: 0.9298\n",
      "Epoch 13/32\n",
      "82162/82162 [==============================] - 11s 130us/step - loss: 12281.1917 - acc: 0.9381 - val_loss: 12433.3532 - val_acc: 0.9345\n",
      "Epoch 14/32\n",
      "82162/82162 [==============================] - 11s 132us/step - loss: 12244.5486 - acc: 0.9385 - val_loss: 12430.0234 - val_acc: 0.9041\n",
      "Epoch 15/32\n",
      "82162/82162 [==============================] - 11s 129us/step - loss: 12210.7831 - acc: 0.9392 - val_loss: 12385.8898 - val_acc: 0.9121\n",
      "Epoch 16/32\n",
      "82162/82162 [==============================] - 11s 129us/step - loss: 12177.1330 - acc: 0.9413 - val_loss: 12320.2795 - val_acc: 0.9382\n",
      "Epoch 17/32\n",
      "82162/82162 [==============================] - 11s 130us/step - loss: 12143.2088 - acc: 0.9427 - val_loss: 12344.0981 - val_acc: 0.9419\n",
      "Epoch 18/32\n",
      "82162/82162 [==============================] - 11s 129us/step - loss: 12125.3354 - acc: 0.9420 - val_loss: 12346.9384 - val_acc: 0.9507\n",
      "Epoch 19/32\n",
      "82162/82162 [==============================] - 11s 130us/step - loss: 12096.8537 - acc: 0.9427 - val_loss: 12304.1083 - val_acc: 0.9058\n",
      "Epoch 20/32\n",
      "82162/82162 [==============================] - 11s 131us/step - loss: 12076.2192 - acc: 0.9435 - val_loss: 12213.2180 - val_acc: 0.9259\n",
      "Epoch 21/32\n",
      "82162/82162 [==============================] - 11s 130us/step - loss: 12055.5699 - acc: 0.9431 - val_loss: 12187.0980 - val_acc: 0.9421\n",
      "Epoch 22/32\n",
      "82162/82162 [==============================] - 11s 130us/step - loss: 12032.6730 - acc: 0.9450 - val_loss: 12226.2245 - val_acc: 0.9367\n",
      "Epoch 23/32\n",
      "82162/82162 [==============================] - 11s 129us/step - loss: 12016.9071 - acc: 0.9438 - val_loss: 12149.0522 - val_acc: 0.9346\n",
      "Epoch 24/32\n",
      "82162/82162 [==============================] - 11s 131us/step - loss: 11999.4311 - acc: 0.9453 - val_loss: 12199.9459 - val_acc: 0.9034\n",
      "Epoch 25/32\n",
      "82162/82162 [==============================] - 11s 131us/step - loss: 11985.2405 - acc: 0.9462 - val_loss: 12197.7836 - val_acc: 0.9440\n",
      "Epoch 26/32\n",
      "82162/82162 [==============================] - 11s 130us/step - loss: 11968.6111 - acc: 0.9465 - val_loss: 12147.5847 - val_acc: 0.9316\n",
      "Epoch 27/32\n",
      "82162/82162 [==============================] - 11s 131us/step - loss: 11956.4645 - acc: 0.9474 - val_loss: 12110.4258 - val_acc: 0.9319\n",
      "Epoch 28/32\n",
      "82162/82162 [==============================] - 11s 130us/step - loss: 11952.3179 - acc: 0.9473 - val_loss: 12083.0323 - val_acc: 0.9160\n",
      "Epoch 29/32\n",
      "82162/82162 [==============================] - 11s 130us/step - loss: 11938.3922 - acc: 0.9485 - val_loss: 12081.2071 - val_acc: 0.9186\n",
      "Epoch 30/32\n",
      "82162/82162 [==============================] - 11s 129us/step - loss: 11931.4654 - acc: 0.9479 - val_loss: 12068.5997 - val_acc: 0.9321\n",
      "Epoch 31/32\n",
      "82162/82162 [==============================] - 11s 130us/step - loss: 11919.2006 - acc: 0.9502 - val_loss: 12036.8599 - val_acc: 0.9387\n",
      "Epoch 32/32\n",
      "82162/82162 [==============================] - 11s 129us/step - loss: 11914.4902 - acc: 0.9505 - val_loss: 12057.4023 - val_acc: 0.9425\n"
     ]
    }
   ],
   "source": [
    "#Model suggestion\n",
    "\n",
    "I['RNN'] = Input(shape=(maxlen-1,), name=\"input\")\n",
    "E['RNN'] = Embedding(len(tokens), embedding_size, mask_zero=True, name=\"embedding\")(I['RNN'])\n",
    "\n",
    "#your network here\n",
    "H['RNN'] = SimpleRNN(hidden_size, activation='relu', dropout=dropout, recurrent_dropout=recurrent_dropout, unroll=True)(E['RNN'])\n",
    "\n",
    "R['RNN'] = Dense(50, activation=\"relu\")(H[\"RNN\"])\n",
    "Y['RNN'] = Dense(maxlen-1, activation='softmax', name='output')(R['RNN'])\n",
    "\n",
    "models['RNN'] = Model(inputs = [I['RNN']], outputs = [Y['RNN']])\n",
    "models['RNN'].compile(\n",
    "    loss='categorical_crossentropy', \n",
    "    optimizer=Adam(),\n",
    "    metrics=['acc'])\n",
    "models['RNN'].summary()\n",
    "\n",
    "print(X[:,:-1].shape, T[:,1:].shape)\n",
    "logs['RNN'] = models['RNN'].fit({'input': X[:dataset_cut,:-1]}, {'output': T[:dataset_cut,1:]}, \n",
    "                                    epochs=epochs, \n",
    "                                    validation_split=validation_split, \n",
    "                                    batch_size=batch_size).history\n",
    "\n",
    "#save\n",
    "with open(\"RNNmodel_\"+str(embedding_size)+'_'+str(hidden_size)+\"_log.pkl\", \"wb\") as file:\n",
    "    pickle.dump(logs['RNN'], file)\n",
    "models['RNN'].save(\"RNNmodel_\"+str(embedding_size)+'_'+str(hidden_size))"
   ]
  },
  {
   "cell_type": "code",
   "execution_count": 7,
   "metadata": {},
   "outputs": [
    {
     "name": "stdout",
     "output_type": "stream",
     "text": [
      "WARNING:tensorflow:From C:\\Users\\lucas\\Anaconda3\\envs\\gpu\\lib\\site-packages\\tensorflow\\python\\framework\\op_def_library.py:263: colocate_with (from tensorflow.python.framework.ops) is deprecated and will be removed in a future version.\n",
      "Instructions for updating:\n",
      "Colocations handled automatically by placer.\n",
      "WARNING:tensorflow:From C:\\Users\\lucas\\Anaconda3\\envs\\gpu\\lib\\site-packages\\keras\\backend\\tensorflow_backend.py:3445: calling dropout (from tensorflow.python.ops.nn_ops) with keep_prob is deprecated and will be removed in a future version.\n",
      "Instructions for updating:\n",
      "Please use `rate` instead of `keep_prob`. Rate should be set to `rate = 1 - keep_prob`.\n",
      "WARNING:tensorflow:From C:\\Users\\lucas\\Anaconda3\\envs\\gpu\\lib\\site-packages\\tensorflow\\python\\ops\\math_ops.py:3066: to_int32 (from tensorflow.python.ops.math_ops) is deprecated and will be removed in a future version.\n",
      "Instructions for updating:\n",
      "Use tf.cast instead.\n"
     ]
    }
   ],
   "source": [
    "#load\n",
    "with open(\"RNNmodel_\"+str(embedding_size)+'_'+str(hidden_size)+\"_log.pkl\", \"rb\") as file:\n",
    "    RNNmodel_log = pickle.load(file)\n",
    "RNNmodel = load_model(\"RNNmodel_\"+str(embedding_size)+'_'+str(hidden_size))"
   ]
  },
  {
   "cell_type": "code",
   "execution_count": 43,
   "metadata": {},
   "outputs": [
    {
     "name": "stdout",
     "output_type": "stream",
     "text": [
      "_________________________________________________________________\n",
      "Layer (type)                 Output Shape              Param #   \n",
      "=================================================================\n",
      "input (InputLayer)           (None, 24)                0         \n",
      "_________________________________________________________________\n",
      "embedding (Embedding)        (None, 24, 128)           580480    \n",
      "_________________________________________________________________\n",
      "lstm_3 (LSTM)                (None, 64)                49408     \n",
      "_________________________________________________________________\n",
      "dense_6 (Dense)              (None, 50)                3250      \n",
      "_________________________________________________________________\n",
      "output (Dense)               (None, 24)                1224      \n",
      "=================================================================\n",
      "Total params: 634,362\n",
      "Trainable params: 634,362\n",
      "Non-trainable params: 0\n",
      "_________________________________________________________________\n",
      "(102704, 24) (102704, 24)\n",
      "Train on 82162 samples, validate on 20541 samples\n",
      "Epoch 1/32\n",
      "82162/82162 [==============================] - 37s 452us/step - loss: 16729.7475 - acc: 0.8758 - val_loss: 14741.3701 - val_acc: 0.9623\n",
      "Epoch 2/32\n",
      "82162/82162 [==============================] - 31s 381us/step - loss: 13590.1481 - acc: 0.9472 - val_loss: 12923.9315 - val_acc: 0.9348\n",
      "Epoch 3/32\n",
      "82162/82162 [==============================] - 31s 380us/step - loss: 12518.7311 - acc: 0.9250 - val_loss: 12399.9899 - val_acc: 0.9390\n",
      "Epoch 4/32\n",
      "82162/82162 [==============================] - 31s 380us/step - loss: 12138.8337 - acc: 0.9302 - val_loss: 12058.7579 - val_acc: 0.9239\n",
      "Epoch 5/32\n",
      "82162/82162 [==============================] - 31s 381us/step - loss: 11979.0763 - acc: 0.9376 - val_loss: 12015.8014 - val_acc: 0.9349\n",
      "Epoch 6/32\n",
      "82162/82162 [==============================] - 31s 380us/step - loss: 11896.2352 - acc: 0.9438 - val_loss: 11929.0919 - val_acc: 0.9400\n",
      "Epoch 7/32\n",
      "82162/82162 [==============================] - 31s 380us/step - loss: 11850.8729 - acc: 0.9481 - val_loss: 11903.1661 - val_acc: 0.9300\n",
      "Epoch 8/32\n",
      "82162/82162 [==============================] - 31s 382us/step - loss: 11818.7480 - acc: 0.9520 - val_loss: 11848.3915 - val_acc: 0.9567\n",
      "Epoch 9/32\n",
      "82162/82162 [==============================] - 32s 383us/step - loss: 11794.6754 - acc: 0.9559 - val_loss: 11814.0798 - val_acc: 0.9538\n",
      "Epoch 10/32\n",
      "82162/82162 [==============================] - 31s 381us/step - loss: 11781.2520 - acc: 0.9578 - val_loss: 11791.4441 - val_acc: 0.9544\n",
      "Epoch 11/32\n",
      "82162/82162 [==============================] - 31s 380us/step - loss: 11765.7765 - acc: 0.9599 - val_loss: 11803.7604 - val_acc: 0.9504\n",
      "Epoch 12/32\n",
      "82162/82162 [==============================] - 31s 379us/step - loss: 11756.1033 - acc: 0.9621 - val_loss: 11786.1375 - val_acc: 0.9681\n",
      "Epoch 13/32\n",
      "82162/82162 [==============================] - 31s 380us/step - loss: 11745.5948 - acc: 0.9643 - val_loss: 11793.4300 - val_acc: 0.9600\n",
      "Epoch 14/32\n",
      "82162/82162 [==============================] - 31s 381us/step - loss: 11743.3770 - acc: 0.9648 - val_loss: 11780.5229 - val_acc: 0.9670\n",
      "Epoch 15/32\n",
      "82162/82162 [==============================] - 32s 384us/step - loss: 11733.4342 - acc: 0.9666 - val_loss: 11758.0893 - val_acc: 0.9704\n",
      "Epoch 16/32\n",
      "82162/82162 [==============================] - 31s 382us/step - loss: 11729.6036 - acc: 0.9678 - val_loss: 11802.6924 - val_acc: 0.9533\n",
      "Epoch 17/32\n",
      "82162/82162 [==============================] - 31s 380us/step - loss: 11728.2581 - acc: 0.9682 - val_loss: 11751.6709 - val_acc: 0.9660\n",
      "Epoch 18/32\n",
      "82162/82162 [==============================] - 31s 380us/step - loss: 11721.3345 - acc: 0.9704 - val_loss: 11746.7741 - val_acc: 0.9762\n",
      "Epoch 19/32\n",
      "82162/82162 [==============================] - 31s 380us/step - loss: 11719.3212 - acc: 0.9701 - val_loss: 11752.5934 - val_acc: 0.9654\n",
      "Epoch 20/32\n",
      "82162/82162 [==============================] - 31s 380us/step - loss: 11717.3741 - acc: 0.9707 - val_loss: 11753.1258 - val_acc: 0.9524\n",
      "Epoch 21/32\n",
      "82162/82162 [==============================] - 31s 383us/step - loss: 11710.2501 - acc: 0.9726 - val_loss: 11744.4857 - val_acc: 0.9746\n",
      "Epoch 22/32\n",
      "82162/82162 [==============================] - 31s 380us/step - loss: 11708.0164 - acc: 0.9735 - val_loss: 11760.0914 - val_acc: 0.9750\n",
      "Epoch 23/32\n",
      "82162/82162 [==============================] - 31s 379us/step - loss: 11711.1271 - acc: 0.9720 - val_loss: 11744.8526 - val_acc: 0.9642\n",
      "Epoch 24/32\n",
      "82162/82162 [==============================] - 31s 379us/step - loss: 11706.2129 - acc: 0.9743 - val_loss: 11734.0107 - val_acc: 0.9747\n",
      "Epoch 25/32\n",
      "82162/82162 [==============================] - 31s 378us/step - loss: 11702.5749 - acc: 0.9749 - val_loss: 11731.9136 - val_acc: 0.9739\n",
      "Epoch 26/32\n",
      "82162/82162 [==============================] - 31s 379us/step - loss: 11700.9117 - acc: 0.9754 - val_loss: 11726.8785 - val_acc: 0.9677\n",
      "Epoch 27/32\n",
      "82162/82162 [==============================] - 31s 380us/step - loss: 11699.9202 - acc: 0.9756 - val_loss: 11724.8293 - val_acc: 0.9756\n",
      "Epoch 28/32\n",
      "82162/82162 [==============================] - 31s 378us/step - loss: 11699.1485 - acc: 0.9756 - val_loss: 11739.2701 - val_acc: 0.9680\n",
      "Epoch 29/32\n",
      "82162/82162 [==============================] - 31s 378us/step - loss: 11695.0404 - acc: 0.9771 - val_loss: 11722.6780 - val_acc: 0.9736\n",
      "Epoch 30/32\n",
      "82162/82162 [==============================] - 31s 379us/step - loss: 11694.8025 - acc: 0.9776 - val_loss: 11721.4122 - val_acc: 0.9764\n",
      "Epoch 31/32\n",
      "82162/82162 [==============================] - 31s 380us/step - loss: 11696.0741 - acc: 0.9766 - val_loss: 11719.0556 - val_acc: 0.9771\n",
      "Epoch 32/32\n",
      "82162/82162 [==============================] - 31s 381us/step - loss: 11691.5477 - acc: 0.9784 - val_loss: 11714.5169 - val_acc: 0.9788\n"
     ]
    }
   ],
   "source": [
    "#Model suggestion\n",
    "\n",
    "I['LSTM'] = Input(shape=(maxlen-1,), name=\"input\")\n",
    "E['LSTM'] = Embedding(len(tokens), embedding_size, mask_zero=True, name=\"embedding\")(I['LSTM'])\n",
    "\n",
    "#your network here\n",
    "H['LSTM'] = LSTM(hidden_size, activation='relu', dropout=dropout, recurrent_dropout=recurrent_dropout, unroll=True)(E['LSTM'])\n",
    "#H['LSTM'] = CuDNNLSTM(hidden_size)(E['LSTM'])\n",
    "\n",
    "R['LSTM'] = Dense(50, activation=\"relu\")(H[\"LSTM\"])\n",
    "Y['LSTM'] = Dense(maxlen-1, activation='softmax', name='output')(R['LSTM'])\n",
    "\n",
    "models['LSTM'] = Model(inputs = [I['LSTM']], outputs = [Y['LSTM']])\n",
    "models['LSTM'].compile(\n",
    "    loss='categorical_crossentropy', \n",
    "    optimizer=Adam(),\n",
    "    metrics=['acc'])\n",
    "models['LSTM'].summary()\n",
    "\n",
    "print(X[:,:-1].shape, T[:,1:].shape)\n",
    "logs['LSTM'] = models['LSTM'].fit({'input': X[:dataset_cut,:-1]}, {'output': T[:dataset_cut,1:]}, \n",
    "                                    epochs=epochs, \n",
    "                                    validation_split=validation_split, \n",
    "                                    batch_size=batch_size).history\n",
    "\n",
    "#save\n",
    "with open(\"LSTMmodel_\"+str(embedding_size)+'_'+str(hidden_size)+\"_log.pkl\", \"wb\") as file:\n",
    "    pickle.dump(logs['LSTM'], file)\n",
    "models['LSTM'].save(\"LSTMmodel_\"+str(embedding_size)+'_'+str(hidden_size))"
   ]
  },
  {
   "cell_type": "code",
   "execution_count": 44,
   "metadata": {},
   "outputs": [
    {
     "name": "stdout",
     "output_type": "stream",
     "text": [
      "_________________________________________________________________\n",
      "Layer (type)                 Output Shape              Param #   \n",
      "=================================================================\n",
      "input (InputLayer)           (None, 24)                0         \n",
      "_________________________________________________________________\n",
      "embedding (Embedding)        (None, 24, 128)           580480    \n",
      "_________________________________________________________________\n",
      "gru_3 (GRU)                  (None, 64)                37056     \n",
      "_________________________________________________________________\n",
      "dense_7 (Dense)              (None, 50)                3250      \n",
      "_________________________________________________________________\n",
      "output (Dense)               (None, 24)                1224      \n",
      "=================================================================\n",
      "Total params: 622,010\n",
      "Trainable params: 622,010\n",
      "Non-trainable params: 0\n",
      "_________________________________________________________________\n",
      "(102704, 24) (102704, 24)\n",
      "Train on 82162 samples, validate on 20541 samples\n",
      "Epoch 1/32\n",
      "82162/82162 [==============================] - 30s 371us/step - loss: 17215.1909 - acc: 0.8432 - val_loss: 14696.1469 - val_acc: 0.9675\n",
      "Epoch 2/32\n",
      "82162/82162 [==============================] - 25s 302us/step - loss: 13591.2163 - acc: 0.9378 - val_loss: 12923.3648 - val_acc: 0.9012\n",
      "Epoch 3/32\n",
      "82162/82162 [==============================] - 25s 302us/step - loss: 12561.4788 - acc: 0.9217 - val_loss: 12367.5689 - val_acc: 0.9464\n",
      "Epoch 4/32\n",
      "82162/82162 [==============================] - 25s 302us/step - loss: 12179.7834 - acc: 0.9264 - val_loss: 12113.8866 - val_acc: 0.9538\n",
      "Epoch 5/32\n",
      "82162/82162 [==============================] - 25s 302us/step - loss: 11995.1652 - acc: 0.9350 - val_loss: 12017.6877 - val_acc: 0.9669\n",
      "Epoch 6/32\n",
      "82162/82162 [==============================] - 25s 302us/step - loss: 11907.6416 - acc: 0.9414 - val_loss: 11923.2287 - val_acc: 0.9385\n",
      "Epoch 7/32\n",
      "82162/82162 [==============================] - 25s 302us/step - loss: 11856.7197 - acc: 0.9456 - val_loss: 11881.5406 - val_acc: 0.9395\n",
      "Epoch 8/32\n",
      "82162/82162 [==============================] - 25s 303us/step - loss: 11825.1593 - acc: 0.9498 - val_loss: 11851.0144 - val_acc: 0.9416\n",
      "Epoch 9/32\n",
      "82162/82162 [==============================] - 25s 302us/step - loss: 11802.7604 - acc: 0.9515 - val_loss: 11830.5248 - val_acc: 0.9555\n",
      "Epoch 10/32\n",
      "82162/82162 [==============================] - 25s 302us/step - loss: 11786.1300 - acc: 0.9554 - val_loss: 11846.2529 - val_acc: 0.9382\n",
      "Epoch 11/32\n",
      "82162/82162 [==============================] - 25s 302us/step - loss: 11771.2621 - acc: 0.9574 - val_loss: 11810.3713 - val_acc: 0.9509\n",
      "Epoch 12/32\n",
      "82162/82162 [==============================] - 25s 302us/step - loss: 11760.1990 - acc: 0.9587 - val_loss: 11787.7932 - val_acc: 0.9351\n",
      "Epoch 13/32\n",
      "82162/82162 [==============================] - 25s 303us/step - loss: 11753.5456 - acc: 0.9595 - val_loss: 11804.0175 - val_acc: 0.9689\n",
      "Epoch 14/32\n",
      "82162/82162 [==============================] - 25s 302us/step - loss: 11744.9716 - acc: 0.9619 - val_loss: 11765.5823 - val_acc: 0.9626\n",
      "Epoch 15/32\n",
      "82162/82162 [==============================] - 25s 301us/step - loss: 11737.8927 - acc: 0.9640 - val_loss: 11781.9364 - val_acc: 0.9435\n",
      "Epoch 16/32\n",
      "82162/82162 [==============================] - 25s 302us/step - loss: 11730.3818 - acc: 0.9652 - val_loss: 11774.6134 - val_acc: 0.9512\n",
      "Epoch 17/32\n",
      "82162/82162 [==============================] - 25s 302us/step - loss: 11727.8541 - acc: 0.9660 - val_loss: 11792.9927 - val_acc: 0.9700\n",
      "Epoch 18/32\n",
      "82162/82162 [==============================] - 25s 301us/step - loss: 11723.2467 - acc: 0.9672 - val_loss: 11767.2827 - val_acc: 0.9632\n",
      "Epoch 19/32\n",
      "82162/82162 [==============================] - 25s 302us/step - loss: 11718.6952 - acc: 0.9679 - val_loss: 11751.6882 - val_acc: 0.9683\n",
      "Epoch 20/32\n",
      "82162/82162 [==============================] - 25s 302us/step - loss: 11715.0624 - acc: 0.9689 - val_loss: 11745.5569 - val_acc: 0.9702\n",
      "Epoch 21/32\n",
      "82162/82162 [==============================] - 25s 301us/step - loss: 11712.9217 - acc: 0.9691 - val_loss: 11737.0806 - val_acc: 0.9732\n",
      "Epoch 22/32\n",
      "82162/82162 [==============================] - 25s 301us/step - loss: 11709.2773 - acc: 0.9702 - val_loss: 11734.3750 - val_acc: 0.9689\n",
      "Epoch 23/32\n",
      "82162/82162 [==============================] - 25s 302us/step - loss: 11710.1357 - acc: 0.9702 - val_loss: 11733.1458 - val_acc: 0.9759\n",
      "Epoch 24/32\n",
      "82162/82162 [==============================] - 25s 301us/step - loss: 11704.3809 - acc: 0.9720 - val_loss: 11741.4162 - val_acc: 0.9623\n",
      "Epoch 25/32\n",
      "82162/82162 [==============================] - 25s 302us/step - loss: 11704.3252 - acc: 0.9721 - val_loss: 11742.9245 - val_acc: 0.9755\n",
      "Epoch 26/32\n",
      "82162/82162 [==============================] - 25s 301us/step - loss: 11704.3135 - acc: 0.9713 - val_loss: 11777.5628 - val_acc: 0.9694\n",
      "Epoch 27/32\n",
      "82162/82162 [==============================] - 25s 301us/step - loss: 11701.6501 - acc: 0.9735 - val_loss: 11731.9277 - val_acc: 0.9669\n",
      "Epoch 28/32\n",
      "82162/82162 [==============================] - 25s 301us/step - loss: 11699.3582 - acc: 0.9733 - val_loss: 11752.7100 - val_acc: 0.9774\n",
      "Epoch 29/32\n",
      "82162/82162 [==============================] - 25s 301us/step - loss: 11696.8641 - acc: 0.9740 - val_loss: 11734.8726 - val_acc: 0.9665\n",
      "Epoch 30/32\n",
      "82162/82162 [==============================] - 25s 302us/step - loss: 11696.1438 - acc: 0.9743 - val_loss: 11730.1927 - val_acc: 0.9595\n",
      "Epoch 31/32\n",
      "82162/82162 [==============================] - 25s 301us/step - loss: 11696.1422 - acc: 0.9742 - val_loss: 11728.0946 - val_acc: 0.9648\n",
      "Epoch 32/32\n",
      "82162/82162 [==============================] - 25s 302us/step - loss: 11693.8957 - acc: 0.9753 - val_loss: 11725.5627 - val_acc: 0.9743\n"
     ]
    }
   ],
   "source": [
    "#Model suggestion\n",
    "\n",
    "I['GRU'] = Input(shape=(maxlen-1,), name=\"input\")\n",
    "E['GRU'] = Embedding(len(tokens), embedding_size, mask_zero=True, name=\"embedding\")(I['GRU'])\n",
    "\n",
    "#your network here\n",
    "H['GRU'] = GRU(hidden_size, activation='relu', dropout=dropout, recurrent_dropout=recurrent_dropout, unroll=True)(E['GRU'])\n",
    "#H['GRU'] = CuDNNGRU(hidden_size)(E['GRU'])\n",
    "\n",
    "R['GRU'] = Dense(50, activation=\"relu\")(H[\"GRU\"])\n",
    "Y['GRU'] = Dense(maxlen-1, activation='softmax', name='output')(R['GRU'])\n",
    "\n",
    "models['GRU'] = Model(inputs = [I['GRU']], outputs = [Y['GRU']])\n",
    "models['GRU'].compile(\n",
    "    loss='categorical_crossentropy', \n",
    "    optimizer=Adam(),\n",
    "    metrics=['acc'])\n",
    "models['GRU'].summary()\n",
    "\n",
    "print(X[:,:-1].shape, T[:,1:].shape)\n",
    "logs['GRU'] = models['GRU'].fit({'input': X[:dataset_cut,:-1]}, {'output': T[:dataset_cut,1:]}, \n",
    "                                    epochs=epochs, \n",
    "                                    validation_split=validation_split, \n",
    "                                    batch_size=batch_size).history\n",
    "\n",
    "#save\n",
    "with open(\"GRUmodel_\"+str(embedding_size)+'_'+str(hidden_size)+\"_log.pkl\", \"wb\") as file:\n",
    "    pickle.dump(logs['GRU'], file)\n",
    "models['GRU'].save(\"GRUmodel_\"+str(embedding_size)+'_'+str(hidden_size))"
   ]
  },
  {
   "cell_type": "code",
   "execution_count": 45,
   "metadata": {},
   "outputs": [
    {
     "data": {
      "image/png": "[encoded data removed]",
      "text/plain": [
       "<Figure size 1080x360 with 3 Axes>"
      ]
     },
     "metadata": {
      "needs_background": "light"
     },
     "output_type": "display_data"
    }
   ],
   "source": [
    "r_units = [\"RNN\", \"LSTM\", \"GRU\"]\n",
    "\n",
    "\n",
    "f, ax = plt.subplots(1,3, sharey=True, figsize=(15,5))\n",
    "\n",
    "for i,r_unit in enumerate(r_units):\n",
    "    \n",
    "    ax[i].plot(logs[r_unit][\"loss\"],label=r_unit + \"_tr\", color='blue')\n",
    "    ax[i].plot(logs[r_unit][\"val_loss\"], ls=\"dashed\", label=r_unit + \"_val\", color=\"red\")\n",
    "    ax[i].set_ylabel(\"Loss\")\n",
    "    ax[i].set_xlabel(\"Epochs\")\n",
    "    ax[i].legend()\n",
    "\n",
    "plt.show()"
   ]
  },
  {
   "cell_type": "code",
   "execution_count": 46,
   "metadata": {},
   "outputs": [
    {
     "data": {
      "image/png": "[encoded data removed]",
      "text/plain": [
       "<Figure size 1080x360 with 3 Axes>"
      ]
     },
     "metadata": {
      "needs_background": "light"
     },
     "output_type": "display_data"
    }
   ],
   "source": [
    "r_units = [\"RNN\", \"LSTM\", \"GRU\"]\n",
    "\n",
    "f, ax = plt.subplots(1,3, sharey=True, figsize=(15,5))\n",
    "\n",
    "for i,r_unit in enumerate(r_units):\n",
    "    \n",
    "    ax[i].plot(logs[r_unit][\"acc\"],label=r_unit + \"_tr\", color='blue')\n",
    "    ax[i].plot(logs[r_unit][\"val_acc\"], ls=\"dashed\", label=r_unit + \"_val\", color=\"red\")\n",
    "    ax[i].set_ylabel(\"Accuracy\")\n",
    "    ax[i].set_xlabel(\"Epochs\")\n",
    "    ax[i].legend()\n",
    "\n",
    "plt.show()"
   ]
  },
  {
   "cell_type": "code",
   "execution_count": 47,
   "metadata": {},
   "outputs": [
    {
     "name": "stdout",
     "output_type": "stream",
     "text": [
      "yielded accuracy:\n",
      "RNN 0.9424565502530696\n",
      "LSTM 0.978774158999075\n",
      "GRU 0.9742953118153936\n"
     ]
    }
   ],
   "source": [
    "print(\"yielded accuracy:\")\n",
    "\n",
    "for r_unit in r_units:\n",
    "    \n",
    "    print(r_unit, logs[r_unit][\"val_acc\"][-1])"
   ]
  },
  {
   "cell_type": "markdown",
   "metadata": {},
   "source": [
    "### Optimal network size\n",
    "\n",
    "Compare the learning curves for three networks with 64 (previous exercise), 128 and 256 GRUs (single layer) and one with two hidden layers of 64 GRUs. \n",
    "\n",
    "**Code** Build and train the networks. Apply EarlyStopping (monitor='val_acc', min_delta=0.001, patience=2). Use transfer learning, do not train from scratch your embedding layer, rather re-use the embedding layer from your best performing network in the last exercise. [4 pts]\n",
    "\n",
    "**Figure** Show the learning curves (training and validation loss) for the four models. [1 pt]\n",
    "\n",
    "**Figure** Show the learning curves (training and validation accuracy) for the four models. [1 pt]\n",
    "\n",
    "**Question** List and briefly explain the differences in the learning curves for the different models? [2 pts]\n",
    "\n",
    "**Answer**: **TODO**\n",
    "\n",
    "**Question** What effect had EarlyStopping? Give one advantage and one drawback. [2 pts]\n",
    "\n",
    "**Answer**: **TODO**\n",
    "\n",
    "**Question** What is your best model? Why? [1 pt]\n",
    "\n",
    "**Answer**: **TODO**\n",
    "\n"
   ]
  },
  {
   "cell_type": "code",
   "execution_count": 87,
   "metadata": {},
   "outputs": [],
   "source": [
    "#Using the embedding layer of the best performing network of previous exercice. (E[\"LSTM\"])\n",
    "lstm_embedding = models[\"LSTM\"].layers[1].get_weights()[0]\n",
    "from keras.initializers import Constant"
   ]
  },
  {
   "cell_type": "code",
   "execution_count": 89,
   "metadata": {},
   "outputs": [
    {
     "name": "stdout",
     "output_type": "stream",
     "text": [
      "_________________________________________________________________\n",
      "Layer (type)                 Output Shape              Param #   \n",
      "=================================================================\n",
      "input (InputLayer)           (None, 24)                0         \n",
      "_________________________________________________________________\n",
      "embedding_10 (Embedding)     (None, 24, 128)           580480    \n",
      "_________________________________________________________________\n",
      "gru_11 (GRU)                 (None, 128)               98688     \n",
      "_________________________________________________________________\n",
      "dense_15 (Dense)             (None, 50)                6450      \n",
      "_________________________________________________________________\n",
      "output (Dense)               (None, 24)                1224      \n",
      "=================================================================\n",
      "Total params: 686,842\n",
      "Trainable params: 106,362\n",
      "Non-trainable params: 580,480\n",
      "_________________________________________________________________\n",
      "(102704, 24) (102704, 24)\n",
      "Train on 82162 samples, validate on 20541 samples\n",
      "Epoch 1/32\n",
      "82162/82162 [==============================] - 30s 364us/step - loss: 16904.6604 - acc: 0.7925 - val_loss: 14566.6188 - val_acc: 0.9532\n",
      "Epoch 2/32\n",
      "82162/82162 [==============================] - 22s 268us/step - loss: 13539.6071 - acc: 0.9348 - val_loss: 13014.4198 - val_acc: 0.9389\n",
      "Epoch 3/32\n",
      "82162/82162 [==============================] - 22s 268us/step - loss: 12626.3134 - acc: 0.9261 - val_loss: 12462.7313 - val_acc: 0.9221\n",
      "Epoch 4/32\n",
      "82162/82162 [==============================] - 22s 267us/step - loss: 12243.7355 - acc: 0.9306 - val_loss: 12167.5970 - val_acc: 0.9496\n",
      "Epoch 5/32\n",
      "82162/82162 [==============================] - 22s 269us/step - loss: 12078.8857 - acc: 0.9343 - val_loss: 12011.9043 - val_acc: 0.9371\n",
      "Epoch 6/32\n",
      "82162/82162 [==============================] - 22s 269us/step - loss: 11962.5689 - acc: 0.9390 - val_loss: 11967.4193 - val_acc: 0.9530\n",
      "Epoch 7/32\n",
      "82162/82162 [==============================] - 22s 266us/step - loss: 11877.1607 - acc: 0.9457 - val_loss: 11909.9404 - val_acc: 0.9372\n",
      "Epoch 8/32\n",
      "82162/82162 [==============================] - 22s 267us/step - loss: 11832.9766 - acc: 0.9502 - val_loss: 11819.6665 - val_acc: 0.9619\n",
      "Epoch 9/32\n",
      "82162/82162 [==============================] - 22s 266us/step - loss: 11941.8128 - acc: 0.9438 - val_loss: 11856.2978 - val_acc: 0.9454\n",
      "Epoch 10/32\n",
      "82162/82162 [==============================] - 22s 266us/step - loss: 11782.4293 - acc: 0.9582 - val_loss: 11794.2504 - val_acc: 0.9429\n",
      "Epoch 11/32\n",
      "82162/82162 [==============================] - 22s 267us/step - loss: 11761.2867 - acc: 0.9618 - val_loss: 11775.5251 - val_acc: 0.9611\n",
      "Epoch 12/32\n",
      "82162/82162 [==============================] - 22s 266us/step - loss: 11754.0615 - acc: 0.9627 - val_loss: 11766.8109 - val_acc: 0.9718\n",
      "Epoch 13/32\n",
      "82162/82162 [==============================] - 22s 266us/step - loss: 11738.8279 - acc: 0.9645 - val_loss: 11761.4057 - val_acc: 0.9542\n",
      "Epoch 14/32\n",
      "82162/82162 [==============================] - 22s 267us/step - loss: 11730.0134 - acc: 0.9663 - val_loss: 11762.9974 - val_acc: 0.9553\n",
      "Epoch 15/32\n",
      "82162/82162 [==============================] - 22s 265us/step - loss: 11745.1192 - acc: 0.9648 - val_loss: 12389.1862 - val_acc: 0.8597\n",
      "Epoch 16/32\n",
      "82162/82162 [==============================] - 22s 266us/step - loss: 11720.7424 - acc: 0.9702 - val_loss: 11729.2122 - val_acc: 0.9706\n",
      "Epoch 17/32\n",
      "82162/82162 [==============================] - 22s 267us/step - loss: 11706.3396 - acc: 0.9724 - val_loss: 11733.7450 - val_acc: 0.9679\n",
      "Epoch 18/32\n",
      "82162/82162 [==============================] - 22s 266us/step - loss: 11706.1524 - acc: 0.9723 - val_loss: 11739.6486 - val_acc: 0.9692\n",
      "Epoch 19/32\n",
      "82162/82162 [==============================] - 22s 268us/step - loss: 11705.3324 - acc: 0.9730 - val_loss: 11722.8554 - val_acc: 0.9633\n",
      "Epoch 20/32\n",
      "82162/82162 [==============================] - 22s 266us/step - loss: 11701.2000 - acc: 0.9748 - val_loss: 11720.2211 - val_acc: 0.9693\n",
      "Epoch 21/32\n",
      "82162/82162 [==============================] - 22s 266us/step - loss: 11697.9859 - acc: 0.9760 - val_loss: 11721.0107 - val_acc: 0.9798s: 11698.7442 - acc: 0.9\n",
      "Epoch 22/32\n",
      "82162/82162 [==============================] - 22s 266us/step - loss: 11696.6621 - acc: 0.9765 - val_loss: 11724.1584 - val_acc: 0.9807\n",
      "Epoch 23/32\n",
      "82162/82162 [==============================] - 22s 266us/step - loss: 11697.7670 - acc: 0.9758 - val_loss: 11715.9431 - val_acc: 0.9748\n",
      "Epoch 24/32\n",
      "82162/82162 [==============================] - 22s 266us/step - loss: 11692.4813 - acc: 0.9773 - val_loss: 11719.0824 - val_acc: 0.9642\n",
      "Epoch 25/32\n",
      "82162/82162 [==============================] - 22s 266us/step - loss: 11691.8469 - acc: 0.9790 - val_loss: 11720.1970 - val_acc: 0.9754\n",
      "Epoch 26/32\n",
      "82162/82162 [==============================] - 22s 266us/step - loss: 11691.9126 - acc: 0.9788 - val_loss: 11706.7286 - val_acc: 0.9814\n",
      "Epoch 27/32\n",
      "82162/82162 [==============================] - 22s 267us/step - loss: 11689.4689 - acc: 0.9796 - val_loss: 11703.5478 - val_acc: 0.9908\n",
      "Epoch 28/32\n",
      "82162/82162 [==============================] - 22s 266us/step - loss: 11687.6790 - acc: 0.9809 - val_loss: 11705.8419 - val_acc: 0.9797\n",
      "Epoch 29/32\n",
      "82162/82162 [==============================] - 22s 266us/step - loss: 11690.8408 - acc: 0.9797 - val_loss: 11705.8276 - val_acc: 0.9847\n",
      "Epoch 30/32\n",
      "82162/82162 [==============================] - 22s 266us/step - loss: 11684.1246 - acc: 0.9820 - val_loss: 11708.4328 - val_acc: 0.9888\n",
      "Epoch 31/32\n",
      "82162/82162 [==============================] - 22s 267us/step - loss: 11687.3823 - acc: 0.9812 - val_loss: 11712.2720 - val_acc: 0.9748\n",
      "Epoch 32/32\n",
      "82162/82162 [==============================] - 22s 266us/step - loss: 11684.4511 - acc: 0.9820 - val_loss: 11706.9621 - val_acc: 0.9750\n"
     ]
    }
   ],
   "source": [
    "#Model suggestion\n",
    "hidden_size = 128\n",
    "\n",
    "EarlyStopping(monitor='val_acc', min_delta=0.001, patience=2)\n",
    "\n",
    "I['GRU_128'] = Input(shape=(maxlen-1,), name=\"input\")\n",
    "\n",
    "E['GRU_128'] = Embedding(len(tokens), embedding_size, embeddings_initializer=Constant(lstm_embedding),\n",
    "                            input_length=24,\n",
    "                            trainable=False)(I['GRU_128'])\n",
    "\n",
    "#your network here\n",
    "H['GRU_128'] = GRU(hidden_size, activation='relu', dropout=dropout, recurrent_dropout=recurrent_dropout, unroll=True)(E['GRU_128'])\n",
    "#H['GRU'] = CuDNNGRU(hidden_size)(E['GRU'])\n",
    "\n",
    "R['GRU_128'] = Dense(50, activation=\"relu\")(H[\"GRU_128\"])\n",
    "Y['GRU_128'] = Dense(maxlen-1, activation='softmax', name='output')(R['GRU_128'])\n",
    "\n",
    "models['GRU_128'] = Model(inputs = [I['GRU_128']], outputs = [Y['GRU_128']])\n",
    "models['GRU_128'].compile(\n",
    "    loss='categorical_crossentropy', \n",
    "    optimizer=Adam(),\n",
    "    metrics=['acc'])\n",
    "models['GRU_128'].summary()\n",
    "\n",
    "print(X[:,:-1].shape, T[:,1:].shape)\n",
    "logs['GRU_128'] = models['GRU_128'].fit({'input': X[:dataset_cut,:-1]}, {'output': T[:dataset_cut,1:]}, \n",
    "                                    epochs=epochs, \n",
    "                                    validation_split=validation_split, \n",
    "                                    batch_size=batch_size).history\n",
    "\n",
    "#save\n",
    "with open(\"GRUmodel_\"+str(embedding_size)+'_'+str(hidden_size)+\"_log.pkl\", \"wb\") as file:\n",
    "    pickle.dump(logs['GRU_128'], file)\n",
    "models['GRU_128'].save(\"GRUmodel_\"+str(embedding_size)+'_'+str(hidden_size))"
   ]
  },
  {
   "cell_type": "code",
   "execution_count": 90,
   "metadata": {},
   "outputs": [
    {
     "name": "stdout",
     "output_type": "stream",
     "text": [
      "_________________________________________________________________\n",
      "Layer (type)                 Output Shape              Param #   \n",
      "=================================================================\n",
      "input (InputLayer)           (None, 24)                0         \n",
      "_________________________________________________________________\n",
      "embedding_11 (Embedding)     (None, 24, 128)           580480    \n",
      "_________________________________________________________________\n",
      "gru_12 (GRU)                 (None, 256)               295680    \n",
      "_________________________________________________________________\n",
      "dense_16 (Dense)             (None, 50)                12850     \n",
      "_________________________________________________________________\n",
      "output (Dense)               (None, 24)                1224      \n",
      "=================================================================\n",
      "Total params: 890,234\n",
      "Trainable params: 309,754\n",
      "Non-trainable params: 580,480\n",
      "_________________________________________________________________\n",
      "(102704, 24) (102704, 24)\n",
      "Train on 82162 samples, validate on 20541 samples\n",
      "Epoch 1/32\n",
      "82162/82162 [==============================] - 31s 376us/step - loss: 16267.7303 - acc: 0.8769 - val_loss: 13957.6721 - val_acc: 0.9622\n",
      "Epoch 2/32\n",
      "82162/82162 [==============================] - 22s 271us/step - loss: 13632.5557 - acc: 0.8747 - val_loss: 12551.3069 - val_acc: 0.8948\n",
      "Epoch 3/32\n",
      "82162/82162 [==============================] - 22s 271us/step - loss: 12083.2080 - acc: 0.9267 - val_loss: 11933.2471 - val_acc: 0.9100\n",
      "Epoch 4/32\n",
      "82162/82162 [==============================] - 22s 272us/step - loss: 11854.2008 - acc: 0.9416 - val_loss: 11840.6210 - val_acc: 0.9505\n",
      "Epoch 5/32\n",
      "82162/82162 [==============================] - 22s 272us/step - loss: 11794.0602 - acc: 0.9495 - val_loss: 11815.1207 - val_acc: 0.9601\n",
      "Epoch 6/32\n",
      "82162/82162 [==============================] - 22s 273us/step - loss: 11811.0589 - acc: 0.9500 - val_loss: 11761.3843 - val_acc: 0.9640\n",
      "Epoch 7/32\n",
      "82162/82162 [==============================] - 22s 273us/step - loss: 11729.8361 - acc: 0.9622 - val_loss: 11754.5507 - val_acc: 0.9697\n",
      "Epoch 8/32\n",
      "82162/82162 [==============================] - 22s 272us/step - loss: 11728.7042 - acc: 0.9611 - val_loss: 11739.1183 - val_acc: 0.9629\n",
      "Epoch 9/32\n",
      "82162/82162 [==============================] - 22s 271us/step - loss: 11720.9021 - acc: 0.9644 - val_loss: 11736.0982 - val_acc: 0.9678\n",
      "Epoch 10/32\n",
      "82162/82162 [==============================] - 22s 271us/step - loss: 11911.9491 - acc: 0.9498 - val_loss: 11727.9041 - val_acc: 0.9543\n",
      "Epoch 11/32\n",
      "82162/82162 [==============================] - 22s 271us/step - loss: 11709.5050 - acc: 0.9658 - val_loss: 11734.4162 - val_acc: 0.9650\n",
      "Epoch 12/32\n",
      "82162/82162 [==============================] - 22s 271us/step - loss: 11702.8670 - acc: 0.9682 - val_loss: 11722.6377 - val_acc: 0.9627\n",
      "Epoch 13/32\n",
      "82162/82162 [==============================] - 22s 271us/step - loss: 11703.1533 - acc: 0.9687 - val_loss: 11713.0911 - val_acc: 0.9623\n",
      "Epoch 14/32\n",
      "82162/82162 [==============================] - 22s 271us/step - loss: 11696.1564 - acc: 0.9704 - val_loss: 11725.9830 - val_acc: 0.9644\n",
      "Epoch 15/32\n",
      "82162/82162 [==============================] - 22s 271us/step - loss: 11694.6268 - acc: 0.9722 - val_loss: 11730.6010 - val_acc: 0.9606\n",
      "Epoch 16/32\n",
      "82162/82162 [==============================] - 22s 271us/step - loss: 11781.9604 - acc: 0.9625 - val_loss: 11724.1799 - val_acc: 0.9653\n",
      "Epoch 17/32\n",
      "82162/82162 [==============================] - 22s 271us/step - loss: 11689.6315 - acc: 0.9742 - val_loss: 11717.3320 - val_acc: 0.9710\n",
      "Epoch 18/32\n",
      "82162/82162 [==============================] - 22s 272us/step - loss: 11689.0611 - acc: 0.9746 - val_loss: 11707.0885 - val_acc: 0.9709\n",
      "Epoch 19/32\n",
      "82162/82162 [==============================] - 22s 270us/step - loss: 11686.5940 - acc: 0.9753 - val_loss: 11712.6618 - val_acc: 0.9696\n",
      "Epoch 20/32\n",
      "82162/82162 [==============================] - 22s 271us/step - loss: 11685.6955 - acc: 0.9754 - val_loss: 11715.0490 - val_acc: 0.9636\n",
      "Epoch 21/32\n",
      "82162/82162 [==============================] - 22s 271us/step - loss: 11683.9404 - acc: 0.9764 - val_loss: 11710.7222 - val_acc: 0.9737\n",
      "Epoch 22/32\n",
      "82162/82162 [==============================] - 22s 272us/step - loss: 11686.4663 - acc: 0.9763 - val_loss: 11705.4997 - val_acc: 0.9662\n",
      "Epoch 23/32\n",
      "82162/82162 [==============================] - 22s 271us/step - loss: 11682.7821 - acc: 0.9777 - val_loss: 11713.4960 - val_acc: 0.9562\n",
      "Epoch 24/32\n",
      "82162/82162 [==============================] - 22s 272us/step - loss: 11682.8103 - acc: 0.9776 - val_loss: 11694.7208 - val_acc: 0.9811\n",
      "Epoch 25/32\n",
      "82162/82162 [==============================] - 22s 271us/step - loss: 11679.8750 - acc: 0.9789 - val_loss: 11702.6810 - val_acc: 0.9802\n",
      "Epoch 26/32\n",
      "82162/82162 [==============================] - 22s 272us/step - loss: 11679.6069 - acc: 0.9792 - val_loss: 11698.1206 - val_acc: 0.9756\n",
      "Epoch 27/32\n",
      "82162/82162 [==============================] - 22s 271us/step - loss: 11678.7989 - acc: 0.9800 - val_loss: 11694.2141 - val_acc: 0.9765\n",
      "Epoch 28/32\n",
      "82162/82162 [==============================] - 22s 271us/step - loss: 11678.1213 - acc: 0.9806 - val_loss: 11697.5839 - val_acc: 0.9771\n",
      "Epoch 29/32\n",
      "82162/82162 [==============================] - 22s 271us/step - loss: 11783.2631 - acc: 0.9672 - val_loss: 11713.3004 - val_acc: 0.9677\n",
      "Epoch 30/32\n",
      "82162/82162 [==============================] - 22s 271us/step - loss: 11683.5131 - acc: 0.9782 - val_loss: 11700.2138 - val_acc: 0.9710\n",
      "Epoch 31/32\n",
      "82162/82162 [==============================] - 22s 271us/step - loss: 11680.9682 - acc: 0.9790 - val_loss: 11700.6891 - val_acc: 0.9756\n",
      "Epoch 32/32\n",
      "82162/82162 [==============================] - 22s 273us/step - loss: 11680.9587 - acc: 0.9795 - val_loss: 11692.4969 - val_acc: 0.9820\n"
     ]
    }
   ],
   "source": [
    "hidden_size = 256\n",
    "\n",
    "EarlyStopping(monitor='val_acc', min_delta=0.001, patience=2)\n",
    "\n",
    "I['GRU_256'] = Input(shape=(maxlen-1,), name=\"input\")\n",
    "\n",
    "#Using the embedding layer of the best performing network of previous exercice. (E[\"LSTM\"])\n",
    "E['GRU_256'] = Embedding(len(tokens), embedding_size, embeddings_initializer=Constant(lstm_embedding),\n",
    "                            input_length=24,\n",
    "                            trainable=False)(I['GRU_256'])\n",
    "\n",
    "#your network here\n",
    "H['GRU_256'] = GRU(hidden_size, activation='relu', dropout=dropout, recurrent_dropout=recurrent_dropout, unroll=True)(E['GRU_256'])\n",
    "#H['GRU'] = CuDNNGRU(hidden_size)(E['GRU'])\n",
    "\n",
    "R['GRU_256'] = Dense(50, activation=\"relu\")(H[\"GRU_256\"])\n",
    "Y['GRU_256'] = Dense(maxlen-1, activation='softmax', name='output')(R['GRU_256'])\n",
    "\n",
    "models['GRU_256'] = Model(inputs = [I['GRU_256']], outputs = [Y['GRU_256']])\n",
    "models['GRU_256'].compile(\n",
    "    loss='categorical_crossentropy', \n",
    "    optimizer=Adam(),\n",
    "    metrics=['acc'])\n",
    "models['GRU_256'].summary()\n",
    "\n",
    "print(X[:,:-1].shape, T[:,1:].shape)\n",
    "logs['GRU_256'] = models['GRU_256'].fit({'input': X[:dataset_cut,:-1]}, {'output': T[:dataset_cut,1:]}, \n",
    "                                    epochs=epochs, \n",
    "                                    validation_split=validation_split, \n",
    "                                    batch_size=batch_size).history\n",
    "\n",
    "#save\n",
    "with open(\"GRUmodel_\"+str(embedding_size)+'_'+str(hidden_size)+\"_log.pkl\", \"wb\") as file:\n",
    "    pickle.dump(logs['GRU_256'], file)\n",
    "models['GRU_256'].save(\"GRUmodel_\"+str(embedding_size)+'_'+str(hidden_size))"
   ]
  },
  {
   "cell_type": "code",
   "execution_count": 95,
   "metadata": {},
   "outputs": [
    {
     "name": "stdout",
     "output_type": "stream",
     "text": [
      "_________________________________________________________________\n",
      "Layer (type)                 Output Shape              Param #   \n",
      "=================================================================\n",
      "input (InputLayer)           (None, 24)                0         \n",
      "_________________________________________________________________\n",
      "embedding_16 (Embedding)     (None, 24, 128)           580480    \n",
      "_________________________________________________________________\n",
      "gru_21 (GRU)                 (None, 24, 64)            37056     \n",
      "_________________________________________________________________\n",
      "gru_22 (GRU)                 (None, 64)                24768     \n",
      "_________________________________________________________________\n",
      "dense_17 (Dense)             (None, 50)                3250      \n",
      "_________________________________________________________________\n",
      "output (Dense)               (None, 24)                1224      \n",
      "=================================================================\n",
      "Total params: 646,778\n",
      "Trainable params: 66,298\n",
      "Non-trainable params: 580,480\n",
      "_________________________________________________________________\n",
      "(102704, 24) (102704, 24)\n",
      "Train on 82162 samples, validate on 20541 samples\n",
      "Epoch 1/32\n",
      "82162/82162 [==============================] - 52s 639us/step - loss: 17250.4432 - acc: 0.8030 - val_loss: 14676.2626 - val_acc: 0.9554\n",
      "Epoch 2/32\n",
      "82162/82162 [==============================] - 40s 482us/step - loss: 13829.0946 - acc: 0.9302 - val_loss: 13182.3922 - val_acc: 0.9087\n",
      "Epoch 3/32\n",
      "82162/82162 [==============================] - 40s 483us/step - loss: 12751.0908 - acc: 0.9182 - val_loss: 12505.0141 - val_acc: 0.8959\n",
      "Epoch 4/32\n",
      "82162/82162 [==============================] - 40s 482us/step - loss: 12346.2784 - acc: 0.9249 - val_loss: 12207.9328 - val_acc: 0.9353\n",
      "Epoch 5/32\n",
      "82162/82162 [==============================] - 40s 483us/step - loss: 12360.7938 - acc: 0.9115 - val_loss: 12100.7310 - val_acc: 0.9204\n",
      "Epoch 6/32\n",
      "82162/82162 [==============================] - 40s 482us/step - loss: 12201.3716 - acc: 0.9160 - val_loss: 12594.7613 - val_acc: 0.9063\n",
      "Epoch 7/32\n",
      "82162/82162 [==============================] - 40s 484us/step - loss: 12016.0181 - acc: 0.9282 - val_loss: 11923.4304 - val_acc: 0.9312\n",
      "Epoch 8/32\n",
      "82162/82162 [==============================] - 40s 483us/step - loss: 11877.3493 - acc: 0.9420 - val_loss: 11881.3794 - val_acc: 0.9498\n",
      "Epoch 9/32\n",
      "82162/82162 [==============================] - 40s 483us/step - loss: 11876.4239 - acc: 0.9434 - val_loss: 11871.3949 - val_acc: 0.9523\n",
      "Epoch 10/32\n",
      "82162/82162 [==============================] - 40s 483us/step - loss: 11799.1236 - acc: 0.9536 - val_loss: 11796.2916 - val_acc: 0.9497\n",
      "Epoch 11/32\n",
      "82162/82162 [==============================] - 40s 483us/step - loss: 11782.6260 - acc: 0.9561 - val_loss: 11788.5337 - val_acc: 0.9682\n",
      "Epoch 12/32\n",
      "82162/82162 [==============================] - 40s 482us/step - loss: 11805.4668 - acc: 0.9564 - val_loss: 11775.7023 - val_acc: 0.9602\n",
      "Epoch 13/32\n",
      "82162/82162 [==============================] - 40s 481us/step - loss: 11753.1745 - acc: 0.9627 - val_loss: 11793.3127 - val_acc: 0.9711\n",
      "Epoch 14/32\n",
      "82162/82162 [==============================] - 40s 483us/step - loss: 11750.0483 - acc: 0.9630 - val_loss: 11786.9152 - val_acc: 0.9666\n",
      "Epoch 15/32\n",
      "82162/82162 [==============================] - 40s 482us/step - loss: 11762.7490 - acc: 0.9617 - val_loss: 11762.0972 - val_acc: 0.9528\n",
      "Epoch 16/32\n",
      "82162/82162 [==============================] - 40s 481us/step - loss: 11725.9919 - acc: 0.9695 - val_loss: 11741.6885 - val_acc: 0.9556\n",
      "Epoch 17/32\n",
      "82162/82162 [==============================] - 40s 482us/step - loss: 11724.2666 - acc: 0.9683 - val_loss: 11746.2801 - val_acc: 0.9652\n",
      "Epoch 18/32\n",
      "82162/82162 [==============================] - 40s 483us/step - loss: 12518.7557 - acc: 0.9384 - val_loss: 11966.3329 - val_acc: 0.9575\n",
      "Epoch 19/32\n",
      "82162/82162 [==============================] - 40s 482us/step - loss: 11804.2580 - acc: 0.9528 - val_loss: 11764.1757 - val_acc: 0.9601\n",
      "Epoch 20/32\n",
      "82162/82162 [==============================] - 40s 482us/step - loss: 11744.4599 - acc: 0.9618 - val_loss: 11754.2717 - val_acc: 0.9675\n",
      "Epoch 21/32\n",
      "82162/82162 [==============================] - 40s 481us/step - loss: 11731.1662 - acc: 0.9651 - val_loss: 11761.7557 - val_acc: 0.9599\n",
      "Epoch 22/32\n",
      "82162/82162 [==============================] - 40s 483us/step - loss: 11724.8642 - acc: 0.9662 - val_loss: 11764.4275 - val_acc: 0.9667\n",
      "Epoch 23/32\n",
      "82162/82162 [==============================] - 40s 482us/step - loss: 11720.7640 - acc: 0.9666 - val_loss: 11741.2572 - val_acc: 0.9660\n",
      "Epoch 24/32\n",
      "82162/82162 [==============================] - 40s 481us/step - loss: 11733.9399 - acc: 0.9682 - val_loss: 11723.3870 - val_acc: 0.9735\n",
      "Epoch 25/32\n",
      "82162/82162 [==============================] - 39s 480us/step - loss: 11702.9301 - acc: 0.9725 - val_loss: 11744.9833 - val_acc: 0.9593\n",
      "Epoch 26/32\n",
      "82162/82162 [==============================] - 39s 480us/step - loss: 11723.6193 - acc: 0.9693 - val_loss: 11723.8942 - val_acc: 0.9712\n",
      "Epoch 27/32\n",
      "82162/82162 [==============================] - 40s 486us/step - loss: 11697.3772 - acc: 0.9753 - val_loss: 11713.9877 - val_acc: 0.9855\n",
      "Epoch 28/32\n",
      "82162/82162 [==============================] - 39s 479us/step - loss: 11720.1363 - acc: 0.9719 - val_loss: 11796.6792 - val_acc: 0.9577\n",
      "Epoch 29/32\n",
      "82162/82162 [==============================] - 40s 483us/step - loss: 11698.7785 - acc: 0.9733 - val_loss: 11716.1114 - val_acc: 0.9745\n",
      "Epoch 30/32\n",
      "82162/82162 [==============================] - 40s 484us/step - loss: 11693.6242 - acc: 0.9757 - val_loss: 11725.7116 - val_acc: 0.9619\n",
      "Epoch 31/32\n",
      "82162/82162 [==============================] - 40s 482us/step - loss: 11692.6513 - acc: 0.9760 - val_loss: 11709.8759 - val_acc: 0.9632\n",
      "Epoch 32/32\n",
      "82162/82162 [==============================] - 40s 481us/step - loss: 11702.3059 - acc: 0.9744 - val_loss: 11706.8296 - val_acc: 0.9754\n"
     ]
    }
   ],
   "source": [
    "hidden_size = 64\n",
    "H2 = {}\n",
    "\n",
    "EarlyStopping(monitor='val_acc', min_delta=0.001, patience=2)\n",
    "\n",
    "I['GRU_64_64'] = Input(shape=(maxlen-1,), name=\"input\")\n",
    "\n",
    "#Using the embedding layer of the best performing network of previous exercice. (E[\"LSTM\"])\n",
    "E['GRU_64_64'] = Embedding(len(tokens), embedding_size, embeddings_initializer=Constant(lstm_embedding),\n",
    "                            input_length=24,\n",
    "                            trainable=False)(I['GRU_64_64'])\n",
    "\n",
    "#your network here\n",
    "H['GRU_64_64'] = GRU(hidden_size, activation='relu', dropout=dropout,\n",
    "                     recurrent_dropout=recurrent_dropout, unroll=True,\n",
    "                     return_sequences=True)(E['GRU_64_64'])\n",
    "H2['GRU_64_64'] = GRU(hidden_size, activation='relu', dropout=dropout, recurrent_dropout=recurrent_dropout, unroll=True)(H['GRU_64_64'])\n",
    "\n",
    "\n",
    "R['GRU_64_64'] = Dense(50, activation=\"relu\")(H2[\"GRU_64_64\"])\n",
    "Y['GRU_64_64'] = Dense(maxlen-1, activation='softmax', name='output')(R['GRU_64_64'])\n",
    "\n",
    "models['GRU_64_64'] = Model(inputs = [I['GRU_64_64']], outputs = [Y['GRU_64_64']])\n",
    "models['GRU_64_64'].compile(\n",
    "    loss='categorical_crossentropy', \n",
    "    optimizer=Adam(),\n",
    "    metrics=['acc'])\n",
    "models['GRU_64_64'].summary()\n",
    "\n",
    "print(X[:,:-1].shape, T[:,1:].shape)\n",
    "logs['GRU_64_64'] = models['GRU_64_64'].fit({'input': X[:dataset_cut,:-1]}, {'output': T[:dataset_cut,1:]}, \n",
    "                                    epochs=epochs, \n",
    "                                    validation_split=validation_split, \n",
    "                                    batch_size=batch_size).history\n",
    "\n",
    "#save\n",
    "with open(\"GRUmodel_\"+str(embedding_size)+'_'+str(hidden_size)+\"_log.pkl\", \"wb\") as file:\n",
    "    pickle.dump(logs['GRU_64_64'], file)\n",
    "models['GRU_64_64'].save(\"GRUmodel_\"+str(embedding_size)+'_'+str(hidden_size)+'_'+str(hidden_size))"
   ]
  },
  {
   "cell_type": "code",
   "execution_count": 96,
   "metadata": {},
   "outputs": [
    {
     "data": {
      "image/png": "[encoded data removed]",
      "text/plain": [
       "<Figure size 1080x360 with 3 Axes>"
      ]
     },
     "metadata": {
      "needs_background": "light"
     },
     "output_type": "display_data"
    }
   ],
   "source": [
    "r_units = [\"GRU_128\", \"GRU_256\", \"GRU_64_64\"]\n",
    "\n",
    "\n",
    "f, ax = plt.subplots(1,3, sharey=True, figsize=(15,5))\n",
    "\n",
    "for i,r_unit in enumerate(r_units):\n",
    "    \n",
    "    ax[i].plot(logs[r_unit][\"loss\"],label=r_unit + \"_tr\", color='blue')\n",
    "    ax[i].plot(logs[r_unit][\"val_loss\"], ls=\"dashed\", label=r_unit + \"_val\", color=\"red\")\n",
    "    ax[i].set_ylabel(\"Loss\")\n",
    "    ax[i].set_xlabel(\"Epochs\")\n",
    "    ax[i].legend()\n",
    "\n",
    "plt.show()"
   ]
  },
  {
   "cell_type": "code",
   "execution_count": 97,
   "metadata": {},
   "outputs": [
    {
     "data": {
      "image/png": "[encoded data removed]",
      "text/plain": [
       "<Figure size 1080x360 with 3 Axes>"
      ]
     },
     "metadata": {
      "needs_background": "light"
     },
     "output_type": "display_data"
    }
   ],
   "source": [
    "r_units = [\"GRU_128\", \"GRU_256\", \"GRU_64_64\"]\n",
    "\n",
    "f, ax = plt.subplots(1,3, sharey=True, figsize=(15,5))\n",
    "\n",
    "for i,r_unit in enumerate(r_units):\n",
    "    \n",
    "    ax[i].plot(logs[r_unit][\"acc\"],label=r_unit + \"_tr\", color='blue')\n",
    "    ax[i].plot(logs[r_unit][\"val_acc\"], ls=\"dashed\", label=r_unit + \"_val\", color=\"red\")\n",
    "    ax[i].set_ylabel(\"Accuracy\")\n",
    "    ax[i].set_xlabel(\"Epochs\")\n",
    "    ax[i].legend()\n",
    "\n",
    "plt.show()"
   ]
  },
  {
   "cell_type": "markdown",
   "metadata": {},
   "source": [
    "### Generate sentences\n",
    "\n",
    "Now you will generate new sentences from your best performing model.\n",
    "\n",
    "**Code** To achieve that, use the provided sample function below to generate new sentences from your model. You should start by constructing a sentence that starts with the 'START' artificial word and all other words being the 'PADD' artificial word. Then sample the first word from the corresponding probabilities given by your model. Add this word to the sentence and continue like this until you sample the 'END' artificial word or the maximum sentence length. [2 pts]\n",
    "\n",
    "**Code** Generate 10 sentences for different sampling temperature in [0., 0.25, 0.5, 0.75, 1., 1.5., 2.]. [1 pt]\n",
    "\n",
    "**7 Figures** For each temperature, use matplotlib imshow to plot the probablities of every word in one generated sentence (and only these words) at each time step. y-axis should be the words that are present in the sentence. x-axis the timesteps and the imshow value the probabilities given by the model for all words in the sentence at each timestep. Use the a colormap where 0 is white, e.g. cmap='Greys'. [2 pts]\n",
    "\n",
    "**Code** Finally, seed your model with two different beginnings of max 4 words and let it generate 10 possible continuations (use sampling temperature of 1.). [2 pts]\n",
    "\n",
    "**Question** What is the effect of sampling temperature on the generated sentences? [1 pt]\n",
    "\n",
    "**Answer**\n",
    "\n",
    "**Question** In terms of sampling a probability distribution, what does a sampling temperature of 0 corresponds to? [1 pt] \n",
    "\n",
    "**Answer**\n",
    "\n",
    "**Question** In terms of sampling a probability distribution, what does a sampling temperature of 1. corresponds to? [1 pt] \n",
    "\n",
    "**Answer**\n",
    "\n",
    "**Question** In terms of sampling a probability distribution, what does a very high sampling temperature corresponds to? [1 pt]\n",
    "\n",
    "**Answer**\n",
    "\n",
    "**Question** Based on the plotted word probabilities, explain how a sentence is generated. [2 pts]\n",
    "\n",
    "**Answer**\n",
    "\n",
    "**Question** Do you observe timesteps with more than one word with non-zero probability? How do these probable words relate in terms of language? [1 pt]\n",
    "\n",
    "**Answer**"
   ]
  },
  {
   "cell_type": "code",
   "execution_count": null,
   "metadata": {},
   "outputs": [],
   "source": [
    "def sample(preds, temperature=1.):\n",
    "    # helper function to sample an index from a probability array\n",
    "    if temperature == 0.:\n",
    "        return np.argmax(preds)\n",
    "    preds = np.asarray(preds).astype('float64')\n",
    "    preds = np.log(preds) / temperature\n",
    "    exp_preds = np.exp(preds)\n",
    "    preds = exp_preds / np.sum(exp_preds)\n",
    "    probas = np.random.multinomial(1, preds, 1)\n",
    "    return np.argmax(probas)\n"
   ]
  },
  {
   "cell_type": "code",
   "execution_count": null,
   "metadata": {
    "collapsed": true
   },
   "outputs": [],
   "source": []
  },
  {
   "cell_type": "code",
   "execution_count": null,
   "metadata": {
    "collapsed": true
   },
   "outputs": [],
   "source": []
  },
  {
   "cell_type": "code",
   "execution_count": null,
   "metadata": {
    "collapsed": true
   },
   "outputs": [],
   "source": []
  },
  {
   "cell_type": "code",
   "execution_count": null,
   "metadata": {
    "collapsed": true
   },
   "outputs": [],
   "source": []
  },
  {
   "cell_type": "markdown",
   "metadata": {},
   "source": [
    "###  Word embedding visualization\n",
    "\n",
    "Here, you are asked to visualize the embedding layer. \n",
    "\n",
    "**Code** To do that, project in 2D the embedding vectors for different words. Use t-SNE, a projection that conserve the neighborhood relationships between vectors. HINT: Build a Keras model that takes as input a list of words and outputs a list of vector embeddings as learned by your best performing model. Use t-SNE dimensionality reduction (from sklearn.manifold import TSNE). [2 pts]\n",
    "\n",
    "**Figure** Plot the projection of the first 200 most frequent words in a 2D plot. On the plot, write the words. [2 pt] \n",
    "\n",
    "**Question** Do you observe clusters of words with similar meaning or role in language? Report three of them here. [1 pt]\n",
    "\n",
    "**Answer**\n",
    "\n",
    "**Question** Why is having similar vector representation for similar words a good approach for such models? Explain using the example clusters from before and argue in terms of prediction accuracy and/or generalization. [2 pts]\n",
    "\n",
    "**Answer**"
   ]
  },
  {
   "cell_type": "code",
   "execution_count": null,
   "metadata": {
    "scrolled": true
   },
   "outputs": [],
   "source": []
  },
  {
   "cell_type": "code",
   "execution_count": null,
   "metadata": {},
   "outputs": [],
   "source": []
  },
  {
   "cell_type": "code",
   "execution_count": null,
   "metadata": {
    "scrolled": true
   },
   "outputs": [],
   "source": []
  },
  {
   "cell_type": "markdown",
   "metadata": {},
   "source": [
    "## Chatbot\n",
    "\n",
    "Finally, you will construct a model with which you can chat. The network will take as input a sentence and output a response.\n",
    "\n",
    "**Code** For that, you should go back to your original data and construct a new dataset containing pairs of sentences, where each pair is a sentence and its answer. Be careful to not include any pair of sentences that contains words not present in your filtered dictionary. [2 pts]\n",
    "\n",
    "**Code** You should then tokenize, padd, truncate each sentence. Only the answers need the 'START' and 'END' artificial words. [1 pt]\n",
    "\n",
    "We provide you with a possible model, you are welcome to change it. This model uses an LSTM layer to encode the first sentence (the context). The final state of this LSTM layer is transfered to initialize the state of a decoder LSTM layer from which the answer sentence will be generated. \n",
    "\n",
    "**Code** Train your chatbot model on your dataset. [1 pt]\n",
    "\n",
    "**Code** Adapt your sentence generation code from before so that you can generate an answer given a context sentence from your model. [2 pts] \n",
    "\n",
    "**Code** After training, randomly select 10 context-answers pairs from your data and show both the real answer (the one from the data) and the generated one for two different sampling temperatures (e.g. 0.5 and 1.0). [2 pts]\n",
    "\n",
    "**Question** How similar are the generated answers and the real ones? Does your model provide probable answers (given the dataset)? Report here one good and one bad example. [2 pts]\n",
    "\n",
    "**Answer**\n",
    "\n",
    "**Question** Which sampling temperature gives better answers? why? [2 pts]\n",
    "\n",
    "**Answer**\n",
    "\n",
    "**Question** Would it be good if your model was able to reproduce exactly each real answer? Why? [1 pt]\n",
    "\n",
    "**Answer**\n",
    "\n",
    "**Code** Entertain yourself with your model. Write some code to chat with your bot, let it discuss with itself, ... be creative! [2 **bonus** pts]\n",
    "\n",
    "\n"
   ]
  },
  {
   "cell_type": "code",
   "execution_count": null,
   "metadata": {
    "collapsed": true
   },
   "outputs": [],
   "source": []
  },
  {
   "cell_type": "code",
   "execution_count": null,
   "metadata": {
    "collapsed": true
   },
   "outputs": [],
   "source": []
  },
  {
   "cell_type": "code",
   "execution_count": null,
   "metadata": {
    "collapsed": true
   },
   "outputs": [],
   "source": []
  },
  {
   "cell_type": "code",
   "execution_count": null,
   "metadata": {
    "collapsed": true
   },
   "outputs": [],
   "source": [
    "context = Input(shape=(maxlen-2,), name=\"input_context\")\n",
    "shared_embedding = E['GRU']\n",
    "context_embedding = shared_embedding(context)\n",
    "\n",
    "encoder_y, encoder_h, encoder_c = LSTM(hidden_size, \n",
    "            return_sequences=False,\n",
    "            return_state=True,\n",
    "            stateful=False,\n",
    "            dropout=dropout,\n",
    "            recurrent_dropout=recurrent_dropout,\n",
    "            go_backwards=True,\n",
    "            name=\"encoder\")(context_embedding)\n",
    "\n",
    "answer = Input(shape=(maxlen-1,), name=\"input_answer\")\n",
    "answer_embedding = shared_embedding(answer)\n",
    "\n",
    "decoder_input = answer_embedding\n",
    "decoder = LSTM(hidden_size, \n",
    "            return_sequences=True,\n",
    "            stateful=False,\n",
    "            dropout=dropout,\n",
    "            recurrent_dropout=recurrent_dropout,\n",
    "            name=\"decoder\")(answer_embedding, initial_state=[encoder_h, encoder_c])\n",
    "# decoder2 = LSTM(hidden_size, \n",
    "#             return_sequences=True,\n",
    "#             stateful=False,\n",
    "#             dropout=dropout,\n",
    "#             recurrent_dropout=recurrent_dropout,\n",
    "#             name=\"decoder2\")(decoder)\n",
    "\n",
    "R = TimeDistributed(Dense(embedding_size, activation='relu'), name='readout')(decoder)\n",
    "Y = TimeDistributed(Dense(len(tokens), activation='softmax'), name='output')(R)\n",
    "\n",
    "Chatbot = Model(inputs = [context, answer], outputs = [Y])\n",
    "Chatbot.compile(\n",
    "    loss='categorical_crossentropy', \n",
    "    optimizer=Adam(),\n",
    "    metrics=['acc'])\n",
    "Chatbot.summary()\n"
   ]
  },
  {
   "cell_type": "code",
   "execution_count": null,
   "metadata": {
    "scrolled": true
   },
   "outputs": [],
   "source": []
  },
  {
   "cell_type": "code",
   "execution_count": null,
   "metadata": {
    "collapsed": true
   },
   "outputs": [],
   "source": []
  },
  {
   "cell_type": "code",
   "execution_count": null,
   "metadata": {
    "collapsed": true
   },
   "outputs": [],
   "source": []
  }
 ],
 "metadata": {
  "kernelspec": {
   "display_name": "Python 3",
   "language": "python",
   "name": "python3"
  },
  "language_info": {
   "codemirror_mode": {
    "name": "ipython",
    "version": 3
   },
   "file_extension": ".py",
   "mimetype": "text/x-python",
   "name": "python",
   "nbconvert_exporter": "python",
   "pygments_lexer": "ipython3",
   "version": "3.6.8"
  }
 },
 "nbformat": 4,
 "nbformat_minor": 2
}
