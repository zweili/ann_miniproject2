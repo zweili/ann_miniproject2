{
 "cells": [
  {
   "cell_type": "markdown",
   "metadata": {},
   "source": [
    "# Miniproject 2: Chatbot\n",
    "\n",
    "## Introduction\n",
    "\n",
    "### Description\n",
    "\n",
    "Developing a model employing ANN on real-world data requires going through several major steps, each of which with \n",
    "important design choices that directly impact the final results. \n",
    "In this project, we guide you through these choices starting from a large database of \n",
    "[conversations](http://parl.ai/downloads/personachat/personachat.tgz) to a functional chatbot. \n",
    "\n",
    "### Prerequisites\n",
    "\n",
    "- You should have a running installation of [tensorflow](https://www.tensorflow.org/install/) and [keras](https://keras.io/).\n",
    "- You should know the concepts \"recurrent neural networks\", \"LSTM\", \"training and validation data\", \"overfitting\" and \"early stopping\".\n",
    "\n",
    "### What you will learn\n",
    "\n",
    "- You will be guided through a data processing procedure and understand the importance of design choices in ANN modeling\n",
    "- You will learn how to define recurrent neural networks in keras and fit them to data.\n",
    "- You will be guided through a prototyping procedure for the application of deep learning to a specific domain.\n",
    "- You will get in contact with concepts discussed in the lecture, like \"overfitting\", \"LSTM network\", and \"Generative model\".\n",
    "- You will learn to be more patient :) Some fits may take your computer quite a bit of time; run them over night and make sure you save (and load) your data and models.\n",
    "\n",
    "### Evaluation criteria\n",
    "\n",
    "The evaluation is (mostly) based on the figures you submit and your answer sentences. \n",
    "We will only do random tests of your code and not re-run the full notebook. \n",
    "Please ensure that your notebook is fully executed before handing it in. \n",
    "\n",
    "### Submission \n",
    "\n",
    "You should submit your notebook through the Moodle page submission tool. You should work in teams of two people and each member should submit the same notebook to Moodle.\n",
    "\n"
   ]
  },
  {
   "cell_type": "markdown",
   "metadata": {},
   "source": [
    "## Functions and imports\n",
    "\n",
    "For your convenience we import some libraries and provide some functions below. Fill in your names, sciper numbers and run the following cell."
   ]
  },
  {
   "cell_type": "code",
   "execution_count": 79,
   "metadata": {},
   "outputs": [
    {
     "name": "stdout",
     "output_type": "stream",
     "text": [
      "[name: \"/device:CPU:0\"\n",
      "device_type: \"CPU\"\n",
      "memory_limit: 268435456\n",
      "locality {\n",
      "}\n",
      "incarnation: 6668417930731632481\n",
      ", name: \"/device:GPU:0\"\n",
      "device_type: \"GPU\"\n",
      "memory_limit: 4844879872\n",
      "locality {\n",
      "  bus_id: 1\n",
      "  links {\n",
      "  }\n",
      "}\n",
      "incarnation: 18353836817305140563\n",
      "physical_device_desc: \"device: 0, name: GeForce RTX 2060, pci bus id: 0000:01:00.0, compute capability: 7.5\"\n",
      "]\n"
     ]
    }
   ],
   "source": [
    "names = {'student_1': \"John Doe\",\n",
    "        'student_2': \"Ann Onymous\"}\n",
    "\n",
    "sciper = {'student_1': 999999, \n",
    "          'student_2': 888888}\n",
    "\n",
    "seed = sciper['student_1']+sciper['student_2']\n",
    "\n",
    "%matplotlib inline\n",
    "\n",
    "#GPU acceleration\n",
    "from tensorflow.python.client import device_lib\n",
    "from keras import backend as K\n",
    "K.tensorflow_backend._get_available_gpus()\n",
    "print(device_lib.list_local_devices())\n",
    "\n",
    "import numpy as np\n",
    "import matplotlib.pyplot as plt\n",
    "import os, sys\n",
    "import copy\n",
    "\n",
    "plt.rcParams['font.size'] = 28\n",
    "plt.style.use('ggplot')\n",
    "plt.rcParams[\"axes.grid\"] = False\n",
    "c = plt.rcParams['axes.prop_cycle'].by_key()['color']\n",
    "\n",
    "import keras\n",
    "from keras.models import Model, load_model\n",
    "from keras.layers import Input, Masking, TimeDistributed, Dense, Concatenate, Dropout, LSTM, CuDNNLSTM, GRU, CuDNNGRU, SimpleRNN, Bidirectional, Embedding, BatchNormalization\n",
    "from keras.optimizers import Adam\n",
    "from keras.utils import np_utils\n",
    "from keras.preprocessing.sequence import pad_sequences\n",
    "from keras.callbacks import ModelCheckpoint, EarlyStopping\n",
    "\n",
    "\n",
    "def getRawDataFromFile(datapath=\"../../personachat/\", file=\"train_both_revised.txt\"):\n",
    "    \n",
    "    f = open(datapath+file)\n",
    "\n",
    "    conversations = []\n",
    "    current_conversation = []\n",
    "    \n",
    "    for l, line in enumerate(f):\n",
    "        #print(l, line)\n",
    "        if \"persona:\" in line:\n",
    "            if len(current_conversation) > 1:\n",
    "                conversations.append(current_conversation)\n",
    "            current_conversation = [] \n",
    "            continue\n",
    "\n",
    "        #remove numberings\n",
    "        processed_line = line.split(' ')\n",
    "        processed_line = \" \".join(processed_line[1:])\n",
    "        line = processed_line\n",
    "        #print(line)\n",
    "\n",
    "        conv = line.split('\\t')    \n",
    "        q = conv[0]\n",
    "        a = conv[1]\n",
    "        current_conversation.append(q)\n",
    "        current_conversation.append(a)\n",
    "    \n",
    "    return conversations "
   ]
  },
  {
   "cell_type": "markdown",
   "metadata": {
    "collapsed": true
   },
   "source": [
    "## Data visualization and preprocessing\n",
    "\n",
    "Here we will process and visualize the data.\n"
   ]
  },
  {
   "cell_type": "markdown",
   "metadata": {},
   "source": [
    "### Parse raw data \n",
    "\n",
    "Download the dataset on http://parl.ai/downloads/personachat/personachat.tgz. Unpack it and add it to your project folder. Read and run the getRawDataFromFile function (if needed, modify the default path). It extracts the conversations.\n",
    "\n",
    "**Output** Display two randomly selected conversations. [1 pt]"
   ]
  },
  {
   "cell_type": "code",
   "execution_count": 2,
   "metadata": {},
   "outputs": [
    {
     "data": {
      "text/plain": [
       "(['hi ! swift or katy perry ?',\n",
       "  'i pick katy perry lol',\n",
       "  'well , that is an excellent choice ! what kind of car do you drive ?',\n",
       "  'i drive a toyota camry . . . u ?',\n",
       "  'ford taurus . its a nice car . what do you do ?',\n",
       "  'i am a legal asst . for a dick boss',\n",
       "  'sorry to hear that ! i am in retail .',\n",
       "  'where are you located in ?',\n",
       "  'san fran , ca . what about you ?',\n",
       "  'i am in river side cali',\n",
       "  'what do you like to do for fun ? any hobbies ?',\n",
       "  'i like to do activist work in my free time'],\n",
       " ['hero buddy , hows it going today ?',\n",
       "  'my job takes a lot of hours away from spending time in nature',\n",
       "  'oh , but that means you get to be around a lot of people , huh',\n",
       "  'yes but i prefer to be in nature . whats your hobby ?',\n",
       "  'i like to make new friends',\n",
       "  'i work too many hours to have friends . whats your favorite color ?',\n",
       "  'i like all colors , none should be dismissed .',\n",
       "  'i agree , but my eyes are drawn to the color blue',\n",
       "  'blue is such a beautiful color . it reminds me of a blue doll i once had .',\n",
       "  'do you spend time in nature ? i love hiking',\n",
       "  'not so much . i used to hike outside the orphanage , but got terribly lost .',\n",
       "  'that sounds so frightening i am sorry to hear that . do you drive at all ?'])"
      ]
     },
     "execution_count": 2,
     "metadata": {},
     "output_type": "execute_result"
    }
   ],
   "source": [
    "conv = getRawDataFromFile()\n",
    "\n",
    "idx1, idx2 = np.random.choice(len(conv), 2)\n",
    "\n",
    "conv[idx1], conv[idx2]"
   ]
  },
  {
   "cell_type": "markdown",
   "metadata": {},
   "source": [
    "### Extract word tokens\n",
    "\n",
    "Let's start looking at our data. \n",
    "\n",
    "**Code** Compute the set of unique words (dictionary) in all sentences along with the number of occurences of each of these words. HINT: each word is separated by a space character, use the python string.split(' ') function to separate words. Consider punctuations as 'words'. [1 pt]"
   ]
  },
  {
   "cell_type": "code",
   "execution_count": 3,
   "metadata": {},
   "outputs": [
    {
     "name": "stdout",
     "output_type": "stream",
     "text": [
      "[('i', 103476), ('.', 101587), ('you', 48295), ('?', 43768), (',', 39499), ('a', 34213), ('to', 32102), ('do', 30574), ('is', 28573), ('my', 26950)]\n"
     ]
    }
   ],
   "source": [
    "dico = {}\n",
    "\n",
    "for c in conv:\n",
    "    for s in c:\n",
    "        words = s.split(\" \")\n",
    "        for w in words:\n",
    "            if w in dico.keys():\n",
    "                dico[w] += 1\n",
    "            else:\n",
    "                dico[w] = 1\n",
    "\n",
    "sorted_list = sorted(dico.items(), key = lambda x: x[1], reverse=True)\n",
    "# Display top 10 most frequent words used in these conversations.\n",
    "print(sorted_list[:10])"
   ]
  },
  {
   "cell_type": "markdown",
   "metadata": {},
   "source": [
    "**Figure** In a bar plot, show the first 75 most frequent words (x-axis) and their number of occurences (y-axis). [1 pt]"
   ]
  },
  {
   "cell_type": "code",
   "execution_count": 4,
   "metadata": {},
   "outputs": [
    {
     "data": {
      "image/png": "[encoded data removed]",
      "text/plain": [
       "<Figure size 360x1080 with 1 Axes>"
      ]
     },
     "metadata": {
      "needs_background": "light"
     },
     "output_type": "display_data"
    }
   ],
   "source": [
    "plt.figure(figsize=(5,15))\n",
    "x = np.arange(75)\n",
    "labels = [elem[0] for elem in sorted_list[:75][::-1]]\n",
    "heights = [elem[1] for elem in sorted_list[:75][::-1]]\n",
    "bars = plt.barh(x, heights)\n",
    "\n",
    "plt.yticks(x, labels)\n",
    "plt.title(\"Top 75 most frequent words\")\n",
    "plt.show()"
   ]
  },
  {
   "cell_type": "markdown",
   "metadata": {},
   "source": [
    "**Figure** In another bar plot, show the 75 least frequent words (x-axis) and their number of occurences (y-axis). [1 pt] "
   ]
  },
  {
   "cell_type": "code",
   "execution_count": 5,
   "metadata": {},
   "outputs": [
    {
     "data": {
      "image/png": "[encoded data removed]",
      "text/plain": [
       "<Figure size 360x1080 with 1 Axes>"
      ]
     },
     "metadata": {
      "needs_background": "light"
     },
     "output_type": "display_data"
    }
   ],
   "source": [
    "plt.figure(figsize=(5,15))\n",
    "x = np.arange(75)\n",
    "labels = [elem[0] for elem in sorted_list[-75:][::-1]]\n",
    "heights = [elem[1] for elem in sorted_list[-75:][::-1]]\n",
    "bars = plt.barh(x, heights)\n",
    "\n",
    "plt.yticks(x, labels)\n",
    "plt.title(\"Top 75 least frequent words\")\n",
    "plt.show()"
   ]
  },
  {
   "cell_type": "markdown",
   "metadata": {},
   "source": [
    "**Figure** In a log-log scale, plot the sorted word index (x-axis) vs their respective count (y-axis). [1 pt]"
   ]
  },
  {
   "cell_type": "code",
   "execution_count": 6,
   "metadata": {},
   "outputs": [
    {
     "data": {
      "image/png": "[encoded data removed]",
      "text/plain": [
       "<Figure size 432x288 with 1 Axes>"
      ]
     },
     "metadata": {
      "needs_background": "light"
     },
     "output_type": "display_data"
    }
   ],
   "source": [
    "x = np.arange(len(dico))\n",
    "heights = [elem[1] for elem in sorted_list]\n",
    "plt.loglog(x, heights)\n",
    "\n",
    "plt.title(\"log-log words frequency\")\n",
    "plt.ylabel(\"Frequency\")\n",
    "plt.xlabel(\"Index\")\n",
    "plt.show()"
   ]
  },
  {
   "cell_type": "markdown",
   "metadata": {},
   "source": [
    "**Question** Relate the sorted word count distribution with Zipf's law.\n",
    "Argue using the log-log plot. [1 pt]"
   ]
  },
  {
   "cell_type": "markdown",
   "metadata": {},
   "source": [
    "**Answer**"
   ]
  },
  {
   "cell_type": "markdown",
   "metadata": {},
   "source": [
    "the Zip's law states that the frequency is inversely proportional to the rank or index in our sorted_list. So the most frequent word should be 2 times more frequent than the second one and three times more than the third word and so on.  This could be verify by the linearity of the log-log plot. Which implies that the word count distribution follows the zipf's law"
   ]
  },
  {
   "cell_type": "markdown",
   "metadata": {},
   "source": [
    "**Question** How many words appear only once in the entire dataset? [1 pt]"
   ]
  },
  {
   "cell_type": "markdown",
   "metadata": {},
   "source": [
    "**Answer**"
   ]
  },
  {
   "cell_type": "code",
   "execution_count": 7,
   "metadata": {
    "scrolled": false
   },
   "outputs": [
    {
     "data": {
      "text/plain": [
       "'7080 / 18673 words appearing only once'"
      ]
     },
     "execution_count": 7,
     "metadata": {},
     "output_type": "execute_result"
    }
   ],
   "source": [
    "#Get the length of the filtered dictionary (where frequency of the word == 1)\n",
    "num_word_1 = len({k: v for k,v in dico.items() if v == 1})\n",
    "num_word_tot = len(dico)\n",
    "\"{un} / {tot} words appearing only once\".format(un=num_word_1, tot=num_word_tot)"
   ]
  },
  {
   "cell_type": "markdown",
   "metadata": {},
   "source": [
    "### Filtering\n",
    "\n",
    "We suggest to filter your data by removing sentences containing rare words. \n",
    "\n",
    "\n",
    "**Code** To achieve that, you should create a new dataset where sentences containing rare words (words that occur less than N times in the dataset) are removed. Keep at least 50'000 sentences (depending on your computing power, you can keep more). \n",
    "HINT: Start by updating the dictionary accordingly and then remove any sentence that contains at least a single word that is not in the dictionary of words. [2 pts]"
   ]
  },
  {
   "cell_type": "code",
   "execution_count": 8,
   "metadata": {},
   "outputs": [],
   "source": [
    "# if a word occur less than n times, we remove the sentence of the conversations.\n",
    "\n",
    "n = 10\n",
    "norare_dico = {k: v for k,v in dico.items() if v > n}\n",
    "norare_conv = copy.deepcopy(conv)\n",
    "\n",
    "for i,c in enumerate(conv):\n",
    "    for s in c:\n",
    "        words = s.split(\" \")\n",
    "        for w in words:\n",
    "            if s not in norare_conv[i]:\n",
    "                break\n",
    "            else:\n",
    "                if w not in norare_dico.keys():\n",
    "                    norare_conv[i].remove(s)\n"
   ]
  },
  {
   "cell_type": "markdown",
   "metadata": {},
   "source": [
    "**Question**: How much did you reduce the number of unique words with your rare event suppression procedure? [1 pt]\n",
    "    \n",
    "**Answer**: "
   ]
  },
  {
   "cell_type": "code",
   "execution_count": 9,
   "metadata": {},
   "outputs": [
    {
     "name": "stdout",
     "output_type": "stream",
     "text": [
      "14141 / 18673 words removed\n"
     ]
    }
   ],
   "source": [
    "print(len(dico)-len(norare_dico),\"/\",len(dico), \"words removed\")"
   ]
  },
  {
   "cell_type": "markdown",
   "metadata": {},
   "source": [
    "**Question**: How many sentences are in your filtered and original dataset? [1 pt]\n",
    "\n",
    "**Answer**:"
   ]
  },
  {
   "cell_type": "code",
   "execution_count": 10,
   "metadata": {},
   "outputs": [
    {
     "name": "stdout",
     "output_type": "stream",
     "text": [
      "102704 sentences in our filtered dataset versus 131424 sentences in original dataset\n"
     ]
    }
   ],
   "source": [
    "num_s_conv = len([x for y in conv for x in y])\n",
    "num_s_norare_conv = len([x for y in norare_conv for x in y])\n",
    "\n",
    "print(\"{f} sentences in our filtered dataset versus {n} sentences in original dataset\".format(f=num_s_norare_conv, n=num_s_conv))"
   ]
  },
  {
   "cell_type": "markdown",
   "metadata": {},
   "source": [
    "**Question**: What is the impact on learning and generalization of removing sentences with rare words from your dataset? [2 pt]\n",
    "\n",
    "**Answer**: "
   ]
  },
  {
   "cell_type": "markdown",
   "metadata": {},
   "source": [
    "pros: we removed outliers so the models will be more generalized with less overfitting\n",
    "\n",
    "cons: we have less samples on which we could train our models and thus losing some improvements."
   ]
  },
  {
   "cell_type": "markdown",
   "metadata": {},
   "source": []
  },
  {
   "cell_type": "markdown",
   "metadata": {},
   "source": [
    "### Tokenization and padding\n",
    "\n",
    "Now you will transform our filtered data into a format that is understandable by an ANN. To achieve that, you should transform words to integers, where single integers in the range [1,size of the dictionary] are mapped to single words in your dictionary. This process is commonly named 'tokenization'. In addition, we will keep the value 0 to a specific artificial word 'PADD' that will be used to account for the variable length of sentences and add to each sentence a 'START' and an 'END' word. \n",
    "\n",
    "**Code** Start by adding the three artificial words to your dictionary (list of possible tokens) and then translate every sentences to a list of integers. \n",
    "HINT: use the Python List index() method. [2 pts]\n",
    "\n",
    "**Figure** Use the violinplot to show the density of tokenized sentences length. [1pt]\n",
    "\n",
    "**Code** From this figure, select a maximum number (=maxlen) of tokens for which most of the sentences have less. Padd (and eventually truncate) all sentences with the 'PADD' token (value 0 in the integer representation) until all tokenized sentences have the same length (maxlen).\n",
    "HINT: use the pad_sequences function from keras.preprocessing.sequence [2 pts]\n",
    "\n",
    "**Code** Check that you can recover the original sentence. Randomly select two sentences from your integer and padded representation and translate them back using your dictionary. [1 pt]"
   ]
  },
  {
   "cell_type": "code",
   "execution_count": 11,
   "metadata": {},
   "outputs": [],
   "source": [
    "tokens = copy.deepcopy(norare_dico)\n",
    "\n",
    "\n",
    "#Then tokenization of the dictionary\n",
    "for i,w in enumerate(norare_dico,1):\n",
    "    tokens[w] = i\n",
    "\n",
    "# Add the 3 artifical words\n",
    "tokens[\"PADD\"] = 0\n",
    "tokens[\"START\"] = i + 1\n",
    "tokens[\"STOP\"] = i + 2"
   ]
  },
  {
   "cell_type": "code",
   "execution_count": 12,
   "metadata": {},
   "outputs": [],
   "source": [
    "def translate(s, dico_to_token, to_token):\n",
    "    new_s = []\n",
    "    if to_token:\n",
    "        for w in s:\n",
    "            token = dico_to_token[w]\n",
    "            new_s.append(token)\n",
    "    else:\n",
    "        \n",
    "        inverted_dico = {token: word for word, token in dico_to_token.items()}\n",
    "        \n",
    "        for t in s:\n",
    "            word = inverted_dico[t]\n",
    "            if word in [\"PADD\",\"START\",\"STOP\"]:\n",
    "                continue\n",
    "            else:\n",
    "                new_s.append(word)\n",
    "\n",
    "    return new_s"
   ]
  },
  {
   "cell_type": "code",
   "execution_count": 13,
   "metadata": {},
   "outputs": [],
   "source": [
    "#Translate sentences to list of integers\n",
    "translate_conv = copy.deepcopy(norare_conv)\n",
    "\n",
    "for i,c in enumerate(norare_conv):\n",
    "    for j,s in enumerate(c):\n",
    "        \n",
    "        words = s.split(\" \")\n",
    "        new_s = translate(words,tokens,to_token=True)\n",
    "            \n",
    "        # Add to every sentences START and STOP tokens\n",
    "        new_s = [tokens[\"START\"]] + new_s\n",
    "        new_s.append(tokens[\"STOP\"])\n",
    "        \n",
    "        translate_conv[i][j] = new_s"
   ]
  },
  {
   "cell_type": "code",
   "execution_count": 14,
   "metadata": {},
   "outputs": [
    {
     "data": {
      "image/png": "[encoded data removed]",
      "text/plain": [
       "<Figure size 432x288 with 1 Axes>"
      ]
     },
     "metadata": {
      "needs_background": "light"
     },
     "output_type": "display_data"
    }
   ],
   "source": [
    "data = [len(s) for c in translate_conv for s in c]\n",
    "\n",
    "plt.violinplot(data,showmedians=True, showextrema=False)\n",
    "plt.ylabel(\"length of sentences\")\n",
    "plt.title(\"ViolinPlot (Showing density of tokenized sentences length)\")\n",
    "plt.show()"
   ]
  },
  {
   "cell_type": "code",
   "execution_count": 15,
   "metadata": {},
   "outputs": [],
   "source": [
    "# As, we can see on the violinPlot above, most of the sentences have less than 25 words.\n",
    "maxlen = 25\n",
    "padded_conv = copy.deepcopy(translate_conv)\n",
    "for i,c in enumerate(translate_conv):\n",
    "    padded = pad_sequences(c, maxlen = maxlen, dtype = \"uint32\", padding = \"post\", truncating = \"post\", value = 0)\n",
    "    padded_conv[i] = padded"
   ]
  },
  {
   "cell_type": "code",
   "execution_count": 25,
   "metadata": {},
   "outputs": [
    {
     "data": {
      "text/plain": [
       "(['i', 'am', 'great', ',', 'how', 'are', 'you', '?'],\n",
       " ['hello', '.', 'how', 'are', 'you', 'doing', 'today', '?'])"
      ]
     },
     "execution_count": 25,
     "metadata": {},
     "output_type": "execute_result"
    }
   ],
   "source": [
    "# Translate back 2 random sentences from padded_conv\n",
    "padded_s = [s for c in padded_conv for s in c]\n",
    "idx1, idx2 = np.random.choice(range(len(padded_s)), 2)\n",
    "\n",
    "translate(padded_s[idx1],tokens,to_token=False), translate(padded_s[idx2],tokens,to_token=False)"
   ]
  },
  {
   "cell_type": "code",
   "execution_count": 26,
   "metadata": {},
   "outputs": [
    {
     "data": {
      "text/plain": [
       "array([4533,    8,    9,  152,    2,    3,    4,    5,    7, 4534,    0,\n",
       "          0,    0,    0,    0,    0,    0,    0,    0,    0,    0,    0,\n",
       "          0,    0,    0], dtype=uint32)"
      ]
     },
     "execution_count": 26,
     "metadata": {},
     "output_type": "execute_result"
    }
   ],
   "source": [
    "padded_s[idx1]"
   ]
  },
  {
   "cell_type": "markdown",
   "metadata": {},
   "source": [
    "### Saving\n",
    "\n",
    "Now is a good time to save your data (end of processing). An example code using the pickle library is shown below.\n"
   ]
  },
  {
   "cell_type": "code",
   "execution_count": 31,
   "metadata": {},
   "outputs": [],
   "source": [
    "import pickle\n",
    "\n",
    "#save\n",
    "with open(\"data.pkl\", \"wb\") as file:\n",
    "    pickle.dump([padded_conv, norare_dico, tokens], file)\n",
    "    \n",
    "#load\n",
    "with open(\"data.pkl\", \"rb\") as file:\n",
    "    [filtered_sentences, dictionary, tokens] = pickle.load(file)"
   ]
  },
  {
   "cell_type": "markdown",
   "metadata": {},
   "source": [
    "## Building and training generative models of language"
   ]
  },
  {
   "cell_type": "markdown",
   "metadata": {},
   "source": [
    "### RNN vs LSTM vs GRU \n",
    "\n",
    "Build, train and compare generative models of language based on RNNs with different recurrent units (SimpleRNN, GRU and LSTM). \n",
    "\n",
    "The target of the network will be to approximate the word transition probabilities Pr(word[n+1]|H[n]) with H[n]=f(word[:n]) being the hidden state of the network.  \n",
    "\n",
    "**code** You should complete the proposed model (using the Keras API rather than the Sequential model for more flexibility). Be sure to understand each line. The embedding layer allows to transform an integer to a dense vector. That would be our input to the recurrent network - each sentence is mapped to a sequence of vectors, each representing a single word. You can then design your own readout(s) and output layers. By default, use the proposed meta parameters. You can adapt them if you have more or less computing power (32 epochs should take around 30 minutes). [2 pts]\n",
    "\n",
    "**Question** How will your networks deal with the artificial word 'PADD' that you added at the end of each sentences  [2 pts]\n",
    "\n",
    "**Answer**\n",
    "\n",
    "**code** Then train three different networks with the same architecture but using different recurrent units (simpleRNN, GRU and LSTM). Save the learning history (training/validation loss and accuracy for each epoch) as well as the models. [1 pt]\n",
    "\n",
    "**Question** How can you use this network to approximate the word transition probabilities? What will be the inputs and targets of the network at each batch? Give the input/output tensor dimensions. [2 pts]\n",
    "\n",
    "**Answer**\n",
    "\n",
    "**Figure** Show the learning curves (training and validation loss) for the different recurrent units. [1 pt]\n",
    "\n",
    "**Figure** Show the learning curves (training and validation accuracy) for the different recurrent units. [1 pt]\n",
    "\n",
    "**Question:** Which recurrent unit yields the best validation accuracy? Which is the fastest learner? [1 pt]\n",
    "\n",
    "**Answer**: \n",
    "\n",
    "**Question:** Do you observe an overfitting effect? Where and for which case? Give a possible explanation. [1 pt] \n",
    "\n",
    "**Answer**: \n",
    "\n",
    "**Question:** Suggest one option modifying your dataset to decrease overfitting. [1 pt]\n",
    "\n",
    "**Answer**: \n",
    "\n",
    "**Question:** Suggest one possible option modifying your network to decrease overfitting. [1 pt]\n",
    "\n",
    "**Answer**: \n",
    "\n",
    "**Question:** Suggest one possible option modifying the training modalities to counter overfitting. [1 pt]   \n",
    "\n",
    "**Answer**: "
   ]
  },
  {
   "cell_type": "code",
   "execution_count": 46,
   "metadata": {},
   "outputs": [],
   "source": [
    "#Meta-parameters\n",
    "embedding_size = 128\n",
    "hidden_size = 64\n",
    "dropout = 0.\n",
    "recurrent_dropout = 0.\n",
    "\n",
    "batch_size = 64\n",
    "epochs = 32\n",
    "validation_split = 0.2\n",
    "\n",
    "dataset_cut = -1"
   ]
  },
  {
   "cell_type": "code",
   "execution_count": 47,
   "metadata": {},
   "outputs": [],
   "source": [
    "I = {}\n",
    "E = {}\n",
    "H = {}\n",
    "R = {}\n",
    "Y = {}\n",
    "models = {}\n",
    "logs = {}"
   ]
  },
  {
   "cell_type": "code",
   "execution_count": 57,
   "metadata": {},
   "outputs": [
    {
     "data": {
      "text/plain": [
       "(102704, 24)"
      ]
     },
     "execution_count": 57,
     "metadata": {},
     "output_type": "execute_result"
    }
   ],
   "source": [
    "list_sentences = [s for c in filtered_sentences for s in c]\n",
    "X = np.array(list_sentences.copy())\n",
    "T = np.array(list_sentences.copy())"
   ]
  },
  {
   "cell_type": "code",
   "execution_count": 85,
   "metadata": {
    "scrolled": false
   },
   "outputs": [
    {
     "name": "stdout",
     "output_type": "stream",
     "text": [
      "_________________________________________________________________\n",
      "Layer (type)                 Output Shape              Param #   \n",
      "=================================================================\n",
      "input (InputLayer)           (None, 24)                0         \n",
      "_________________________________________________________________\n",
      "embedding (Embedding)        (None, 24, 128)           580480    \n",
      "_________________________________________________________________\n",
      "simple_rnn_19 (SimpleRNN)    (None, 64)                12352     \n",
      "_________________________________________________________________\n",
      "dropout_10 (Dropout)         (None, 64)                0         \n",
      "_________________________________________________________________\n",
      "output (Dense)               (None, 24)                1560      \n",
      "=================================================================\n",
      "Total params: 594,392\n",
      "Trainable params: 594,392\n",
      "Non-trainable params: 0\n",
      "_________________________________________________________________\n",
      "(102704, 24) (102704, 24)\n",
      "Train on 82162 samples, validate on 20541 samples\n",
      "Epoch 1/32\n",
      "82162/82162 [==============================] - 15s 180us/step - loss: 17747.8240 - acc: 0.8837 - val_loss: 15612.1223 - val_acc: 0.9946\n",
      "Epoch 2/32\n",
      "82162/82162 [==============================] - 11s 130us/step - loss: 15916.0059 - acc: 0.9884 - val_loss: 15068.1331 - val_acc: 0.9986\n",
      "Epoch 3/32\n",
      "82162/82162 [==============================] - 11s 131us/step - loss: 15504.0381 - acc: 0.9873 - val_loss: 14633.6638 - val_acc: 0.9977\n",
      "Epoch 4/32\n",
      "82162/82162 [==============================] - 11s 128us/step - loss: 15208.5907 - acc: 0.9837 - val_loss: 14323.0225 - val_acc: 0.9977\n",
      "Epoch 5/32\n",
      "82162/82162 [==============================] - 10s 128us/step - loss: 15009.4934 - acc: 0.9816 - val_loss: 14195.1246 - val_acc: 0.9969\n",
      "Epoch 6/32\n",
      "82162/82162 [==============================] - 11s 128us/step - loss: 14871.1733 - acc: 0.9806 - val_loss: 13984.2549 - val_acc: 0.9972\n",
      "Epoch 7/32\n",
      "82162/82162 [==============================] - 10s 128us/step - loss: 14781.3052 - acc: 0.9799 - val_loss: 13852.8030 - val_acc: 0.9974\n",
      "Epoch 8/32\n",
      "82162/82162 [==============================] - 10s 128us/step - loss: 14658.2109 - acc: 0.9791 - val_loss: 13762.9416 - val_acc: 0.9965\n",
      "Epoch 9/32\n",
      "82162/82162 [==============================] - 10s 128us/step - loss: 14579.6035 - acc: 0.9786 - val_loss: 13723.7698 - val_acc: 0.9969\n",
      "Epoch 10/32\n",
      "82162/82162 [==============================] - 11s 128us/step - loss: 14528.1859 - acc: 0.9769 - val_loss: 13629.5924 - val_acc: 0.9971\n",
      "Epoch 11/32\n",
      "82162/82162 [==============================] - 11s 128us/step - loss: 14485.9969 - acc: 0.9774 - val_loss: 13637.9321 - val_acc: 0.9973\n",
      "Epoch 12/32\n",
      "82162/82162 [==============================] - 11s 128us/step - loss: 14443.2124 - acc: 0.9785 - val_loss: 13580.2470 - val_acc: 0.9978\n",
      "Epoch 13/32\n",
      "82162/82162 [==============================] - 10s 127us/step - loss: 14414.8558 - acc: 0.9776 - val_loss: 13493.3072 - val_acc: 0.9965\n",
      "Epoch 14/32\n",
      "82162/82162 [==============================] - 11s 128us/step - loss: 14385.3009 - acc: 0.9761 - val_loss: 13513.1123 - val_acc: 0.9938\n",
      "Epoch 15/32\n",
      "82162/82162 [==============================] - 11s 128us/step - loss: 14346.7172 - acc: 0.9770 - val_loss: 13474.7771 - val_acc: 0.9961\n",
      "Epoch 16/32\n",
      "82162/82162 [==============================] - 11s 128us/step - loss: 14330.5812 - acc: 0.9767 - val_loss: 13414.8323 - val_acc: 0.9975\n",
      "Epoch 17/32\n",
      "82162/82162 [==============================] - 11s 128us/step - loss: 14303.8859 - acc: 0.9778 - val_loss: 13412.4277 - val_acc: 0.9971\n",
      "Epoch 18/32\n",
      "82162/82162 [==============================] - 11s 128us/step - loss: 14275.1143 - acc: 0.9767 - val_loss: 13387.9994 - val_acc: 0.9964\n",
      "Epoch 19/32\n",
      "82162/82162 [==============================] - 11s 128us/step - loss: 14257.6502 - acc: 0.9768 - val_loss: 13396.0356 - val_acc: 0.9963\n",
      "Epoch 20/32\n",
      "82162/82162 [==============================] - 11s 128us/step - loss: 14238.8847 - acc: 0.9769 - val_loss: 13333.5944 - val_acc: 0.9968\n",
      "Epoch 21/32\n",
      "82162/82162 [==============================] - 11s 128us/step - loss: 14216.9142 - acc: 0.9769 - val_loss: 13306.3559 - val_acc: 0.9972\n",
      "Epoch 22/32\n",
      "82162/82162 [==============================] - 11s 128us/step - loss: 14197.2958 - acc: 0.9774 - val_loss: 13300.7381 - val_acc: 0.9971\n",
      "Epoch 23/32\n",
      "82162/82162 [==============================] - 11s 128us/step - loss: 14179.2975 - acc: 0.9772 - val_loss: 13241.6177 - val_acc: 0.9967\n",
      "Epoch 24/32\n",
      "82162/82162 [==============================] - 10s 128us/step - loss: 14162.8595 - acc: 0.9780 - val_loss: 13297.6140 - val_acc: 0.9974\n",
      "Epoch 25/32\n",
      "82162/82162 [==============================] - 11s 128us/step - loss: 14149.1322 - acc: 0.9775 - val_loss: 13241.8189 - val_acc: 0.9978\n",
      "Epoch 26/32\n",
      "82162/82162 [==============================] - 10s 128us/step - loss: 14140.0813 - acc: 0.9772 - val_loss: 13217.0499 - val_acc: 0.9969\n",
      "Epoch 27/32\n",
      "82162/82162 [==============================] - 11s 128us/step - loss: 14135.3344 - acc: 0.9766 - val_loss: 13210.7738 - val_acc: 0.9962\n",
      "Epoch 28/32\n",
      "82162/82162 [==============================] - 11s 128us/step - loss: 14128.5607 - acc: 0.9769 - val_loss: 13206.0333 - val_acc: 0.9971\n",
      "Epoch 29/32\n",
      "82162/82162 [==============================] - 11s 128us/step - loss: 14106.4320 - acc: 0.9763 - val_loss: 13536.4612 - val_acc: 0.9967\n",
      "Epoch 30/32\n",
      "82162/82162 [==============================] - 10s 128us/step - loss: 14117.9245 - acc: 0.9783 - val_loss: 13207.5777 - val_acc: 0.9968\n",
      "Epoch 31/32\n",
      "82162/82162 [==============================] - 11s 128us/step - loss: 14117.2965 - acc: 0.9759 - val_loss: 13193.4365 - val_acc: 0.9977\n",
      "Epoch 32/32\n",
      "82162/82162 [==============================] - 11s 128us/step - loss: 14070.2779 - acc: 0.9770 - val_loss: 13170.6848 - val_acc: 0.9966\n"
     ]
    }
   ],
   "source": [
    "#Model suggestion\n",
    "\n",
    "I['RNN'] = Input(shape=(maxlen-1,), name=\"input\")\n",
    "E['RNN'] = Embedding(len(tokens), embedding_size, mask_zero=True, name=\"embedding\")(I['RNN'])\n",
    "\n",
    "#your network here\n",
    "H['RNN'] = SimpleRNN(hidden_size, activation='relu', dropout=dropout, recurrent_dropout=recurrent_dropout, unroll=True)(E['RNN'])\n",
    "\n",
    "R['RNN'] = Dropout(0.5)(H[\"RNN\"])\n",
    "Y['RNN'] = Dense(maxlen-1, activation='softmax', name='output')(R['RNN'])\n",
    "\n",
    "models['RNN'] = Model(inputs = [I['RNN']], outputs = [Y['RNN']])\n",
    "models['RNN'].compile(\n",
    "    loss='categorical_crossentropy', \n",
    "    optimizer=Adam(),\n",
    "    metrics=['acc'])\n",
    "models['RNN'].summary()\n",
    "\n",
    "print(X[:,:-1].shape, T[:,1:].shape)\n",
    "logs['RNN'] = models['RNN'].fit({'input': X[:dataset_cut,:-1]}, {'output': T[:dataset_cut,1:]}, \n",
    "                                    epochs=epochs, \n",
    "                                    validation_split=validation_split, \n",
    "                                    batch_size=batch_size).history\n",
    "\n",
    "#save\n",
    "with open(\"RNNmodel_\"+str(embedding_size)+'_'+str(hidden_size)+\"_log.pkl\", \"wb\") as file:\n",
    "    pickle.dump(logs['RNN'], file)\n",
    "models['RNN'].save(\"RNNmodel_\"+str(embedding_size)+'_'+str(hidden_size))"
   ]
  },
  {
   "cell_type": "code",
   "execution_count": 65,
   "metadata": {},
   "outputs": [],
   "source": [
    "#load\n",
    "with open(\"RNNmodel_\"+str(embedding_size)+'_'+str(hidden_size)+\"_log.pkl\", \"rb\") as file:\n",
    "    RNNmodel_log = pickle.load(file)\n",
    "RNNmodel = load_model(\"RNNmodel_\"+str(embedding_size)+'_'+str(hidden_size))"
   ]
  },
  {
   "cell_type": "code",
   "execution_count": 83,
   "metadata": {},
   "outputs": [
    {
     "name": "stdout",
     "output_type": "stream",
     "text": [
      "_________________________________________________________________\n",
      "Layer (type)                 Output Shape              Param #   \n",
      "=================================================================\n",
      "input (InputLayer)           (None, 24)                0         \n",
      "_________________________________________________________________\n",
      "embedding (Embedding)        (None, 24, 128)           580480    \n",
      "_________________________________________________________________\n",
      "lstm_3 (LSTM)                (None, 64)                49408     \n",
      "_________________________________________________________________\n",
      "dropout_8 (Dropout)          (None, 64)                0         \n",
      "_________________________________________________________________\n",
      "output (Dense)               (None, 24)                1560      \n",
      "=================================================================\n",
      "Total params: 631,448\n",
      "Trainable params: 631,448\n",
      "Non-trainable params: 0\n",
      "_________________________________________________________________\n",
      "(102704, 24) (102704, 24)\n",
      "Train on 82162 samples, validate on 20541 samples\n",
      "Epoch 1/32\n",
      "82162/82162 [==============================] - 33s 398us/step - loss: 19580.3243 - acc: 0.6103 - val_loss: 16448.0389 - val_acc: 0.9401\n",
      "Epoch 2/32\n",
      "82162/82162 [==============================] - 28s 339us/step - loss: 16803.9520 - acc: 0.9228 - val_loss: 15679.5432 - val_acc: 0.9791\n",
      "Epoch 3/32\n",
      "82162/82162 [==============================] - 28s 340us/step - loss: 16070.8210 - acc: 0.9626 - val_loss: 15429.0593 - val_acc: 0.9980\n",
      "Epoch 4/32\n",
      "82162/82162 [==============================] - 28s 339us/step - loss: 15646.3753 - acc: 0.9705 - val_loss: 14790.8896 - val_acc: 0.9981\n",
      "Epoch 5/32\n",
      "82162/82162 [==============================] - 28s 339us/step - loss: 15376.8927 - acc: 0.9758 - val_loss: 14577.5563 - val_acc: 0.9955\n",
      "Epoch 6/32\n",
      "82162/82162 [==============================] - 28s 339us/step - loss: 15070.1776 - acc: 0.9803 - val_loss: 14256.7234 - val_acc: 0.9969\n",
      "Epoch 7/32\n",
      "82162/82162 [==============================] - 28s 338us/step - loss: 14849.3294 - acc: 0.9802 - val_loss: 14015.7658 - val_acc: 0.9957\n",
      "Epoch 8/32\n",
      "82162/82162 [==============================] - 28s 341us/step - loss: 14656.5856 - acc: 0.9782 - val_loss: 13861.7302 - val_acc: 0.99840s - loss: 14651.0445 - a\n",
      "Epoch 9/32\n",
      "82162/82162 [==============================] - 28s 341us/step - loss: 14509.7835 - acc: 0.9779 - val_loss: 13719.1217 - val_acc: 0.9963\n",
      "Epoch 10/32\n",
      "82162/82162 [==============================] - 28s 340us/step - loss: 14415.4377 - acc: 0.9759 - val_loss: 13655.0335 - val_acc: 0.9966\n",
      "Epoch 11/32\n",
      "82162/82162 [==============================] - 28s 340us/step - loss: 14304.3020 - acc: 0.9757 - val_loss: 13596.4620 - val_acc: 0.9974\n",
      "Epoch 12/32\n",
      "82162/82162 [==============================] - 28s 341us/step - loss: 15413.4073 - acc: 0.9663 - val_loss: 14726.2249 - val_acc: 0.9934: 15412.3544\n",
      "Epoch 13/32\n",
      "82162/82162 [==============================] - 28s 339us/step - loss: 15155.6004 - acc: 0.9745 - val_loss: 14164.6028 - val_acc: 0.9951\n",
      "Epoch 14/32\n",
      "82162/82162 [==============================] - 28s 340us/step - loss: 14763.0354 - acc: 0.9750 - val_loss: 13997.2978 - val_acc: 0.9935\n",
      "Epoch 15/32\n",
      "82162/82162 [==============================] - 28s 340us/step - loss: 14964.2141 - acc: 0.9734 - val_loss: 14053.0515 - val_acc: 0.9950\n",
      "Epoch 16/32\n",
      "82162/82162 [==============================] - 28s 339us/step - loss: 14737.7258 - acc: 0.9745 - val_loss: 13923.8286 - val_acc: 0.9958\n",
      "Epoch 17/32\n",
      "82162/82162 [==============================] - 28s 339us/step - loss: 14656.2221 - acc: 0.9766 - val_loss: 13908.9872 - val_acc: 0.9947\n",
      "Epoch 18/32\n",
      "82162/82162 [==============================] - 28s 339us/step - loss: 14531.5546 - acc: 0.9766 - val_loss: 13779.3033 - val_acc: 0.9953\n",
      "Epoch 19/32\n",
      "82162/82162 [==============================] - 28s 340us/step - loss: 14502.3036 - acc: 0.9755 - val_loss: 14019.3490 - val_acc: 0.9889\n",
      "Epoch 20/32\n",
      "82162/82162 [==============================] - 28s 340us/step - loss: 14439.3413 - acc: 0.9753 - val_loss: 13681.6994 - val_acc: 0.9952\n",
      "Epoch 21/32\n",
      "82162/82162 [==============================] - 28s 340us/step - loss: 14318.6314 - acc: 0.9756 - val_loss: 13587.8211 - val_acc: 0.9946\n",
      "Epoch 22/32\n",
      "82162/82162 [==============================] - 28s 341us/step - loss: 14269.5421 - acc: 0.9760 - val_loss: 13540.0256 - val_acc: 0.9964\n",
      "Epoch 23/32\n",
      "82162/82162 [==============================] - 28s 339us/step - loss: 14249.1292 - acc: 0.9751 - val_loss: 13542.4174 - val_acc: 0.9968\n",
      "Epoch 24/32\n",
      "82162/82162 [==============================] - 28s 338us/step - loss: 14208.0818 - acc: 0.9750 - val_loss: 13497.5242 - val_acc: 0.9949\n",
      "Epoch 25/32\n",
      "82162/82162 [==============================] - 28s 339us/step - loss: 14163.4999 - acc: 0.9744 - val_loss: 13464.4049 - val_acc: 0.9964\n",
      "Epoch 26/32\n",
      "82162/82162 [==============================] - 28s 339us/step - loss: 14131.7179 - acc: 0.9746 - val_loss: 13414.0955 - val_acc: 0.9972\n",
      "Epoch 27/32\n",
      "82162/82162 [==============================] - 28s 341us/step - loss: 14101.9538 - acc: 0.9738 - val_loss: 13406.8815 - val_acc: 0.9939\n",
      "Epoch 28/32\n",
      "82162/82162 [==============================] - 28s 339us/step - loss: 14066.6590 - acc: 0.9732 - val_loss: 13343.4439 - val_acc: 0.9961\n",
      "Epoch 29/32\n",
      "82162/82162 [==============================] - 28s 337us/step - loss: 14024.7576 - acc: 0.9743 - val_loss: 13314.3135 - val_acc: 0.9950\n",
      "Epoch 30/32\n",
      "82162/82162 [==============================] - 28s 337us/step - loss: 13987.7144 - acc: 0.9749 - val_loss: 13289.2934 - val_acc: 0.9957\n",
      "Epoch 31/32\n",
      "82162/82162 [==============================] - 28s 337us/step - loss: 13974.1489 - acc: 0.9738 - val_loss: 13264.8379 - val_acc: 0.9962\n",
      "Epoch 32/32\n",
      "82162/82162 [==============================] - 28s 337us/step - loss: 14037.7712 - acc: 0.9738 - val_loss: 13219.0132 - val_acc: 0.9945\n"
     ]
    }
   ],
   "source": [
    "#Model suggestion\n",
    "\n",
    "I['LSTM'] = Input(shape=(maxlen-1,), name=\"input\")\n",
    "E['LSTM'] = Embedding(len(tokens), embedding_size, mask_zero=False, name=\"embedding\")(I['LSTM'])\n",
    "\n",
    "#your network here\n",
    "H['LSTM'] = LSTM(hidden_size, activation='relu', dropout=dropout, recurrent_dropout=recurrent_dropout, unroll=True)(E['LSTM'])\n",
    "#H['LSTM'] = CuDNNLSTM(hidden_size)(E['LSTM'])\n",
    "\n",
    "R['LSTM'] = Dropout(0.5)(H[\"LSTM\"])\n",
    "Y['LSTM'] = Dense(maxlen-1, activation='softmax', name='output')(R['LSTM'])\n",
    "\n",
    "models['LSTM'] = Model(inputs = [I['LSTM']], outputs = [Y['LSTM']])\n",
    "models['LSTM'].compile(\n",
    "    loss='categorical_crossentropy', \n",
    "    optimizer=Adam(),\n",
    "    metrics=['acc'])\n",
    "models['LSTM'].summary()\n",
    "\n",
    "print(X[:,:-1].shape, T[:,1:].shape)\n",
    "logs['LSTM'] = models['LSTM'].fit({'input': X[:dataset_cut,:-1]}, {'output': T[:dataset_cut,1:]}, \n",
    "                                    epochs=epochs, \n",
    "                                    validation_split=validation_split, \n",
    "                                    batch_size=batch_size).history\n",
    "\n",
    "#save\n",
    "with open(\"LSTMmodel_\"+str(embedding_size)+'_'+str(hidden_size)+\"_log.pkl\", \"wb\") as file:\n",
    "    pickle.dump(logs['LSTM'], file)\n",
    "models['LSTM'].save(\"LSTMmodel_\"+str(embedding_size)+'_'+str(hidden_size))"
   ]
  },
  {
   "cell_type": "code",
   "execution_count": 84,
   "metadata": {},
   "outputs": [
    {
     "name": "stdout",
     "output_type": "stream",
     "text": [
      "_________________________________________________________________\n",
      "Layer (type)                 Output Shape              Param #   \n",
      "=================================================================\n",
      "input (InputLayer)           (None, 24)                0         \n",
      "_________________________________________________________________\n",
      "embedding (Embedding)        (None, 24, 128)           580480    \n",
      "_________________________________________________________________\n",
      "gru_2 (GRU)                  (None, 64)                37056     \n",
      "_________________________________________________________________\n",
      "dropout_9 (Dropout)          (None, 64)                0         \n",
      "_________________________________________________________________\n",
      "output (Dense)               (None, 24)                1560      \n",
      "=================================================================\n",
      "Total params: 619,096\n",
      "Trainable params: 619,096\n",
      "Non-trainable params: 0\n",
      "_________________________________________________________________\n",
      "(102704, 24) (102704, 24)\n",
      "Train on 82162 samples, validate on 20541 samples\n",
      "Epoch 1/32\n",
      "82162/82162 [==============================] - 27s 333us/step - loss: 19697.3657 - acc: 0.6403 - val_loss: 16286.7798 - val_acc: 0.9630\n",
      "Epoch 2/32\n",
      "82162/82162 [==============================] - 23s 274us/step - loss: 16881.7056 - acc: 0.9127 - val_loss: 15555.7422 - val_acc: 0.9891\n",
      "Epoch 3/32\n",
      "82162/82162 [==============================] - 23s 275us/step - loss: 16238.3581 - acc: 0.9449 - val_loss: 15148.0568 - val_acc: 0.9945\n",
      "Epoch 4/32\n",
      "82162/82162 [==============================] - 23s 276us/step - loss: 15874.6698 - acc: 0.9560 - val_loss: 14886.8415 - val_acc: 0.9947\n",
      "Epoch 5/32\n",
      "82162/82162 [==============================] - 23s 276us/step - loss: 15573.8707 - acc: 0.9625 - val_loss: 14583.9150 - val_acc: 0.9952\n",
      "Epoch 6/32\n",
      "82162/82162 [==============================] - 23s 275us/step - loss: 15308.8500 - acc: 0.9660 - val_loss: 14247.5597 - val_acc: 0.9967\n",
      "Epoch 7/32\n",
      "82162/82162 [==============================] - 23s 276us/step - loss: 15072.1884 - acc: 0.9670 - val_loss: 13942.8851 - val_acc: 0.9953\n",
      "Epoch 8/32\n",
      "82162/82162 [==============================] - 23s 275us/step - loss: 14816.2404 - acc: 0.9668 - val_loss: 13810.7672 - val_acc: 0.9955\n",
      "Epoch 9/32\n",
      "82162/82162 [==============================] - 23s 275us/step - loss: 14696.9279 - acc: 0.9668 - val_loss: 13729.6152 - val_acc: 0.9966\n",
      "Epoch 10/32\n",
      "82162/82162 [==============================] - 23s 275us/step - loss: 14587.5293 - acc: 0.9651 - val_loss: 13605.9730 - val_acc: 0.9964\n",
      "Epoch 11/32\n",
      "82162/82162 [==============================] - 23s 275us/step - loss: 14482.3596 - acc: 0.9663 - val_loss: 13537.6084 - val_acc: 0.9958\n",
      "Epoch 12/32\n",
      "82162/82162 [==============================] - 23s 276us/step - loss: 14387.5175 - acc: 0.9678 - val_loss: 13398.6590 - val_acc: 0.9956\n",
      "Epoch 13/32\n",
      "82162/82162 [==============================] - 23s 276us/step - loss: 14342.6138 - acc: 0.9677 - val_loss: 13790.7386 - val_acc: 0.9851\n",
      "Epoch 14/32\n",
      "82162/82162 [==============================] - 23s 276us/step - loss: 14365.0048 - acc: 0.9692 - val_loss: 13295.6570 - val_acc: 0.9970\n",
      "Epoch 15/32\n",
      "82162/82162 [==============================] - 23s 275us/step - loss: 14310.6551 - acc: 0.9678 - val_loss: 13335.9777 - val_acc: 0.9909\n",
      "Epoch 16/32\n",
      "82162/82162 [==============================] - 23s 276us/step - loss: 14208.7310 - acc: 0.9681 - val_loss: 13308.9732 - val_acc: 0.9941\n",
      "Epoch 17/32\n",
      "82162/82162 [==============================] - 23s 276us/step - loss: 14190.7631 - acc: 0.9675 - val_loss: 13166.4117 - val_acc: 0.9966\n",
      "Epoch 18/32\n",
      "82162/82162 [==============================] - 23s 275us/step - loss: 14205.0326 - acc: 0.9652 - val_loss: 13100.1754 - val_acc: 0.9957\n",
      "Epoch 19/32\n",
      "82162/82162 [==============================] - 23s 275us/step - loss: 14127.1899 - acc: 0.9673 - val_loss: 13137.9168 - val_acc: 0.9918\n",
      "Epoch 20/32\n",
      "82162/82162 [==============================] - 23s 275us/step - loss: 14027.4982 - acc: 0.9661 - val_loss: 13008.2513 - val_acc: 0.9948\n",
      "Epoch 21/32\n",
      "82162/82162 [==============================] - 23s 276us/step - loss: 13989.9411 - acc: 0.9647 - val_loss: 12981.6449 - val_acc: 0.9949\n",
      "Epoch 22/32\n",
      "82162/82162 [==============================] - 23s 275us/step - loss: 13953.5339 - acc: 0.9656 - val_loss: 12933.1147 - val_acc: 0.9956\n",
      "Epoch 23/32\n",
      "82162/82162 [==============================] - 23s 275us/step - loss: 13913.4984 - acc: 0.9659 - val_loss: 12919.8583 - val_acc: 0.9924\n",
      "Epoch 24/32\n",
      "82162/82162 [==============================] - 23s 276us/step - loss: 13878.9270 - acc: 0.9639 - val_loss: 12855.7352 - val_acc: 0.9938\n",
      "Epoch 25/32\n",
      "82162/82162 [==============================] - 23s 275us/step - loss: 13883.4737 - acc: 0.9639 - val_loss: 13078.7306 - val_acc: 0.9966\n",
      "Epoch 26/32\n",
      "82162/82162 [==============================] - 23s 276us/step - loss: 13811.1286 - acc: 0.9652 - val_loss: 12823.9639 - val_acc: 0.9961\n",
      "Epoch 27/32\n",
      "82162/82162 [==============================] - 23s 277us/step - loss: 13779.6188 - acc: 0.9649 - val_loss: 12799.2343 - val_acc: 0.9962\n",
      "Epoch 28/32\n",
      "82162/82162 [==============================] - 23s 276us/step - loss: 13747.6685 - acc: 0.9656 - val_loss: 12832.1832 - val_acc: 0.9964\n",
      "Epoch 29/32\n",
      "82162/82162 [==============================] - 23s 276us/step - loss: 13742.3487 - acc: 0.9644 - val_loss: 12839.4716 - val_acc: 0.9928\n",
      "Epoch 30/32\n",
      "82162/82162 [==============================] - 23s 275us/step - loss: 13772.4374 - acc: 0.9644 - val_loss: 12745.3535 - val_acc: 0.9961\n",
      "Epoch 31/32\n",
      "82162/82162 [==============================] - 23s 275us/step - loss: 13721.8515 - acc: 0.9634 - val_loss: 12745.2775 - val_acc: 0.9970\n",
      "Epoch 32/32\n",
      "82162/82162 [==============================] - 22s 273us/step - loss: 13713.5628 - acc: 0.9649 - val_loss: 12699.1210 - val_acc: 0.9944\n"
     ]
    }
   ],
   "source": [
    "#Model suggestion\n",
    "\n",
    "I['GRU'] = Input(shape=(maxlen-1,), name=\"input\")\n",
    "E['GRU'] = Embedding(len(tokens), embedding_size, mask_zero=False, name=\"embedding\")(I['GRU'])\n",
    "\n",
    "#your network here\n",
    "H['GRU'] = GRU(hidden_size, activation='relu', dropout=dropout, recurrent_dropout=recurrent_dropout, unroll=True)(E['GRU'])\n",
    "#H['GRU'] = CuDNNLSTM(hidden_size)(E['GRU'])\n",
    "\n",
    "R['GRU'] = Dropout(0.5)(H[\"GRU\"])\n",
    "Y['GRU'] = Dense(maxlen-1, activation='softmax', name='output')(R['GRU'])\n",
    "\n",
    "models['GRU'] = Model(inputs = [I['GRU']], outputs = [Y['GRU']])\n",
    "models['GRU'].compile(\n",
    "    loss='categorical_crossentropy', \n",
    "    optimizer=Adam(),\n",
    "    metrics=['acc'])\n",
    "models['GRU'].summary()\n",
    "\n",
    "print(X[:,:-1].shape, T[:,1:].shape)\n",
    "logs['GRU'] = models['GRU'].fit({'input': X[:dataset_cut,:-1]}, {'output': T[:dataset_cut,1:]}, \n",
    "                                    epochs=epochs, \n",
    "                                    validation_split=validation_split, \n",
    "                                    batch_size=batch_size).history\n",
    "\n",
    "#save\n",
    "with open(\"GRUmodel_\"+str(embedding_size)+'_'+str(hidden_size)+\"_log.pkl\", \"wb\") as file:\n",
    "    pickle.dump(logs['GRU'], file)\n",
    "models['GRU'].save(\"GRUmodel_\"+str(embedding_size)+'_'+str(hidden_size))"
   ]
  },
  {
   "cell_type": "raw",
   "metadata": {
    "collapsed": true
   },
   "source": []
  },
  {
   "cell_type": "code",
   "execution_count": null,
   "metadata": {
    "collapsed": true
   },
   "outputs": [],
   "source": []
  },
  {
   "cell_type": "code",
   "execution_count": null,
   "metadata": {
    "collapsed": true
   },
   "outputs": [],
   "source": []
  },
  {
   "cell_type": "code",
   "execution_count": null,
   "metadata": {
    "collapsed": true
   },
   "outputs": [],
   "source": []
  },
  {
   "cell_type": "code",
   "execution_count": null,
   "metadata": {
    "collapsed": true
   },
   "outputs": [],
   "source": []
  },
  {
   "cell_type": "code",
   "execution_count": null,
   "metadata": {
    "collapsed": true
   },
   "outputs": [],
   "source": []
  },
  {
   "cell_type": "markdown",
   "metadata": {},
   "source": [
    "### Optimal network size\n",
    "\n",
    "Compare the learning curves for three networks with 64 (previous exercise), 128 and 256 GRUs (single layer) and one with two hidden layers of 64 GRUs. \n",
    "\n",
    "**Code** Build and train the networks. Apply EarlyStopping (monitor='val_acc', min_delta=0.001, patience=2). Use transfer learning, do not train from scratch your embedding layer, rather re-use the embedding layer from your best performing network in the last exercise. [4 pts]\n",
    "\n",
    "**Figure** Show the learning curves (training and validation loss) for the four models. [1 pt]\n",
    "\n",
    "**Figure** Show the learning curves (training and validation accuracy) for the four models. [1 pt]\n",
    "\n",
    "**Question** List and briefly explain the differences in the learning curves for the different models? [2 pts]\n",
    "\n",
    "**Answer**\n",
    "\n",
    "**Question** What effect had EarlyStopping? Give one advantage and one drawback. [2 pts]\n",
    "\n",
    "**Answer**\n",
    "\n",
    "**Question** What is your best model? Why? [1 pt]\n",
    "\n",
    "**Answer**\n",
    "\n"
   ]
  },
  {
   "cell_type": "code",
   "execution_count": null,
   "metadata": {},
   "outputs": [],
   "source": []
  },
  {
   "cell_type": "code",
   "execution_count": null,
   "metadata": {},
   "outputs": [],
   "source": []
  },
  {
   "cell_type": "code",
   "execution_count": null,
   "metadata": {},
   "outputs": [],
   "source": []
  },
  {
   "cell_type": "code",
   "execution_count": null,
   "metadata": {
    "collapsed": true
   },
   "outputs": [],
   "source": []
  },
  {
   "cell_type": "code",
   "execution_count": null,
   "metadata": {},
   "outputs": [],
   "source": []
  },
  {
   "cell_type": "markdown",
   "metadata": {},
   "source": [
    "### Generate sentences\n",
    "\n",
    "Now you will generate new sentences from your best performing model.\n",
    "\n",
    "**Code** To achieve that, use the provided sample function below to generate new sentences from your model. You should start by constructing a sentence that starts with the 'START' artificial word and all other words being the 'PADD' artificial word. Then sample the first word from the corresponding probabilities given by your model. Add this word to the sentence and continue like this until you sample the 'END' artificial word or the maximum sentence length. [2 pts]\n",
    "\n",
    "**Code** Generate 10 sentences for different sampling temperature in [0., 0.25, 0.5, 0.75, 1., 1.5., 2.]. [1 pt]\n",
    "\n",
    "**7 Figures** For each temperature, use matplotlib imshow to plot the probablities of every word in one generated sentence (and only these words) at each time step. y-axis should be the words that are present in the sentence. x-axis the timesteps and the imshow value the probabilities given by the model for all words in the sentence at each timestep. Use the a colormap where 0 is white, e.g. cmap='Greys'. [2 pts]\n",
    "\n",
    "**Code** Finally, seed your model with two different beginnings of max 4 words and let it generate 10 possible continuations (use sampling temperature of 1.). [2 pts]\n",
    "\n",
    "**Question** What is the effect of sampling temperature on the generated sentences? [1 pt]\n",
    "\n",
    "**Answer**\n",
    "\n",
    "**Question** In terms of sampling a probability distribution, what does a sampling temperature of 0 corresponds to? [1 pt] \n",
    "\n",
    "**Answer**\n",
    "\n",
    "**Question** In terms of sampling a probability distribution, what does a sampling temperature of 1. corresponds to? [1 pt] \n",
    "\n",
    "**Answer**\n",
    "\n",
    "**Question** In terms of sampling a probability distribution, what does a very high sampling temperature corresponds to? [1 pt]\n",
    "\n",
    "**Answer**\n",
    "\n",
    "**Question** Based on the plotted word probabilities, explain how a sentence is generated. [2 pts]\n",
    "\n",
    "**Answer**\n",
    "\n",
    "**Question** Do you observe timesteps with more than one word with non-zero probability? How do these probable words relate in terms of language? [1 pt]\n",
    "\n",
    "**Answer**"
   ]
  },
  {
   "cell_type": "code",
   "execution_count": null,
   "metadata": {},
   "outputs": [],
   "source": [
    "def sample(preds, temperature=1.):\n",
    "    # helper function to sample an index from a probability array\n",
    "    if temperature == 0.:\n",
    "        return np.argmax(preds)\n",
    "    preds = np.asarray(preds).astype('float64')\n",
    "    preds = np.log(preds) / temperature\n",
    "    exp_preds = np.exp(preds)\n",
    "    preds = exp_preds / np.sum(exp_preds)\n",
    "    probas = np.random.multinomial(1, preds, 1)\n",
    "    return np.argmax(probas)\n"
   ]
  },
  {
   "cell_type": "code",
   "execution_count": null,
   "metadata": {
    "collapsed": true
   },
   "outputs": [],
   "source": []
  },
  {
   "cell_type": "code",
   "execution_count": null,
   "metadata": {
    "collapsed": true
   },
   "outputs": [],
   "source": []
  },
  {
   "cell_type": "code",
   "execution_count": null,
   "metadata": {
    "collapsed": true
   },
   "outputs": [],
   "source": []
  },
  {
   "cell_type": "code",
   "execution_count": null,
   "metadata": {
    "collapsed": true
   },
   "outputs": [],
   "source": []
  },
  {
   "cell_type": "markdown",
   "metadata": {},
   "source": [
    "###  Word embedding visualization\n",
    "\n",
    "Here, you are asked to visualize the embedding layer. \n",
    "\n",
    "**Code** To do that, project in 2D the embedding vectors for different words. Use t-SNE, a projection that conserve the neighborhood relationships between vectors. HINT: Build a Keras model that takes as input a list of words and outputs a list of vector embeddings as learned by your best performing model. Use t-SNE dimensionality reduction (from sklearn.manifold import TSNE). [2 pts]\n",
    "\n",
    "**Figure** Plot the projection of the first 200 most frequent words in a 2D plot. On the plot, write the words. [2 pt] \n",
    "\n",
    "**Question** Do you observe clusters of words with similar meaning or role in language? Report three of them here. [1 pt]\n",
    "\n",
    "**Answer**\n",
    "\n",
    "**Question** Why is having similar vector representation for similar words a good approach for such models? Explain using the example clusters from before and argue in terms of prediction accuracy and/or generalization. [2 pts]\n",
    "\n",
    "**Answer**"
   ]
  },
  {
   "cell_type": "code",
   "execution_count": null,
   "metadata": {
    "scrolled": true
   },
   "outputs": [],
   "source": []
  },
  {
   "cell_type": "code",
   "execution_count": null,
   "metadata": {},
   "outputs": [],
   "source": []
  },
  {
   "cell_type": "code",
   "execution_count": null,
   "metadata": {
    "scrolled": true
   },
   "outputs": [],
   "source": []
  },
  {
   "cell_type": "markdown",
   "metadata": {},
   "source": [
    "## Chatbot\n",
    "\n",
    "Finally, you will construct a model with which you can chat. The network will take as input a sentence and output a response.\n",
    "\n",
    "**Code** For that, you should go back to your original data and construct a new dataset containing pairs of sentences, where each pair is a sentence and its answer. Be careful to not include any pair of sentences that contains words not present in your filtered dictionary. [2 pts]\n",
    "\n",
    "**Code** You should then tokenize, padd, truncate each sentence. Only the answers need the 'START' and 'END' artificial words. [1 pt]\n",
    "\n",
    "We provide you with a possible model, you are welcome to change it. This model uses an LSTM layer to encode the first sentence (the context). The final state of this LSTM layer is transfered to initialize the state of a decoder LSTM layer from which the answer sentence will be generated. \n",
    "\n",
    "**Code** Train your chatbot model on your dataset. [1 pt]\n",
    "\n",
    "**Code** Adapt your sentence generation code from before so that you can generate an answer given a context sentence from your model. [2 pts] \n",
    "\n",
    "**Code** After training, randomly select 10 context-answers pairs from your data and show both the real answer (the one from the data) and the generated one for two different sampling temperatures (e.g. 0.5 and 1.0). [2 pts]\n",
    "\n",
    "**Question** How similar are the generated answers and the real ones? Does your model provide probable answers (given the dataset)? Report here one good and one bad example. [2 pts]\n",
    "\n",
    "**Answer**\n",
    "\n",
    "**Question** Which sampling temperature gives better answers? why? [2 pts]\n",
    "\n",
    "**Answer**\n",
    "\n",
    "**Question** Would it be good if your model was able to reproduce exactly each real answer? Why? [1 pt]\n",
    "\n",
    "**Answer**\n",
    "\n",
    "**Code** Entertain yourself with your model. Write some code to chat with your bot, let it discuss with itself, ... be creative! [2 **bonus** pts]\n",
    "\n",
    "\n"
   ]
  },
  {
   "cell_type": "code",
   "execution_count": null,
   "metadata": {
    "collapsed": true
   },
   "outputs": [],
   "source": []
  },
  {
   "cell_type": "code",
   "execution_count": null,
   "metadata": {
    "collapsed": true
   },
   "outputs": [],
   "source": []
  },
  {
   "cell_type": "code",
   "execution_count": null,
   "metadata": {
    "collapsed": true
   },
   "outputs": [],
   "source": []
  },
  {
   "cell_type": "code",
   "execution_count": null,
   "metadata": {
    "collapsed": true
   },
   "outputs": [],
   "source": [
    "context = Input(shape=(maxlen-2,), name=\"input_context\")\n",
    "shared_embedding = E['GRU']\n",
    "context_embedding = shared_embedding(context)\n",
    "\n",
    "encoder_y, encoder_h, encoder_c = LSTM(hidden_size, \n",
    "            return_sequences=False,\n",
    "            return_state=True,\n",
    "            stateful=False,\n",
    "            dropout=dropout,\n",
    "            recurrent_dropout=recurrent_dropout,\n",
    "            go_backwards=True,\n",
    "            name=\"encoder\")(context_embedding)\n",
    "\n",
    "answer = Input(shape=(maxlen-1,), name=\"input_answer\")\n",
    "answer_embedding = shared_embedding(answer)\n",
    "\n",
    "decoder_input = answer_embedding\n",
    "decoder = LSTM(hidden_size, \n",
    "            return_sequences=True,\n",
    "            stateful=False,\n",
    "            dropout=dropout,\n",
    "            recurrent_dropout=recurrent_dropout,\n",
    "            name=\"decoder\")(answer_embedding, initial_state=[encoder_h, encoder_c])\n",
    "# decoder2 = LSTM(hidden_size, \n",
    "#             return_sequences=True,\n",
    "#             stateful=False,\n",
    "#             dropout=dropout,\n",
    "#             recurrent_dropout=recurrent_dropout,\n",
    "#             name=\"decoder2\")(decoder)\n",
    "\n",
    "R = TimeDistributed(Dense(embedding_size, activation='relu'), name='readout')(decoder)\n",
    "Y = TimeDistributed(Dense(len(tokens), activation='softmax'), name='output')(R)\n",
    "\n",
    "Chatbot = Model(inputs = [context, answer], outputs = [Y])\n",
    "Chatbot.compile(\n",
    "    loss='categorical_crossentropy', \n",
    "    optimizer=Adam(),\n",
    "    metrics=['acc'])\n",
    "Chatbot.summary()\n"
   ]
  },
  {
   "cell_type": "code",
   "execution_count": null,
   "metadata": {
    "scrolled": true
   },
   "outputs": [],
   "source": []
  },
  {
   "cell_type": "code",
   "execution_count": null,
   "metadata": {
    "collapsed": true
   },
   "outputs": [],
   "source": []
  },
  {
   "cell_type": "code",
   "execution_count": null,
   "metadata": {
    "collapsed": true
   },
   "outputs": [],
   "source": []
  }
 ],
 "metadata": {
  "kernelspec": {
   "display_name": "Python 3",
   "language": "python",
   "name": "python3"
  },
  "language_info": {
   "codemirror_mode": {
    "name": "ipython",
    "version": 3
   },
   "file_extension": ".py",
   "mimetype": "text/x-python",
   "name": "python",
   "nbconvert_exporter": "python",
   "pygments_lexer": "ipython3",
   "version": "3.6.8"
  }
 },
 "nbformat": 4,
 "nbformat_minor": 2
}
