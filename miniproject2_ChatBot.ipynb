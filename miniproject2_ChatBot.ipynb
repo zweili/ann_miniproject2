{
 "cells": [
  {
   "cell_type": "markdown",
   "metadata": {},
   "source": [
    "# Miniproject 2: Chatbot\n",
    "\n",
    "## Introduction\n",
    "\n",
    "### Description\n",
    "\n",
    "Developing a model employing ANN on real-world data requires going through several major steps, each of which with \n",
    "important design choices that directly impact the final results. \n",
    "In this project, we guide you through these choices starting from a large database of \n",
    "[conversations](http://parl.ai/downloads/personachat/personachat.tgz) to a functional chatbot. \n",
    "\n",
    "### Prerequisites\n",
    "\n",
    "- You should have a running installation of [tensorflow](https://www.tensorflow.org/install/) and [keras](https://keras.io/).\n",
    "- You should know the concepts \"recurrent neural networks\", \"LSTM\", \"training and validation data\", \"overfitting\" and \"early stopping\".\n",
    "\n",
    "### What you will learn\n",
    "\n",
    "- You will be guided through a data processing procedure and understand the importance of design choices in ANN modeling\n",
    "- You will learn how to define recurrent neural networks in keras and fit them to data.\n",
    "- You will be guided through a prototyping procedure for the application of deep learning to a specific domain.\n",
    "- You will get in contact with concepts discussed in the lecture, like \"overfitting\", \"LSTM network\", and \"Generative model\".\n",
    "- You will learn to be more patient :) Some fits may take your computer quite a bit of time; run them over night and make sure you save (and load) your data and models.\n",
    "\n",
    "### Evaluation criteria\n",
    "\n",
    "The evaluation is (mostly) based on the figures you submit and your answer sentences. \n",
    "We will only do random tests of your code and not re-run the full notebook. \n",
    "Please ensure that your notebook is fully executed before handing it in. \n",
    "\n",
    "### Submission \n",
    "\n",
    "You should submit your notebook through the Moodle page submission tool. You should work in teams of two people and each member should submit the same notebook to Moodle.\n",
    "\n"
   ]
  },
  {
   "cell_type": "markdown",
   "metadata": {},
   "source": [
    "## Functions and imports\n",
    "\n",
    "For your convenience we import some libraries and provide some functions below. Fill in your names, sciper numbers and run the following cell."
   ]
  },
  {
   "cell_type": "code",
   "execution_count": 1,
   "metadata": {},
   "outputs": [
    {
     "name": "stderr",
     "output_type": "stream",
     "text": [
      "Using TensorFlow backend.\n"
     ]
    },
    {
     "name": "stdout",
     "output_type": "stream",
     "text": [
      "[name: \"/device:CPU:0\"\n",
      "device_type: \"CPU\"\n",
      "memory_limit: 268435456\n",
      "locality {\n",
      "}\n",
      "incarnation: 7719411541087689046\n",
      ", name: \"/device:GPU:0\"\n",
      "device_type: \"GPU\"\n",
      "memory_limit: 4844879872\n",
      "locality {\n",
      "  bus_id: 1\n",
      "  links {\n",
      "  }\n",
      "}\n",
      "incarnation: 1348870672234150284\n",
      "physical_device_desc: \"device: 0, name: GeForce RTX 2060, pci bus id: 0000:01:00.0, compute capability: 7.5\"\n",
      "]\n"
     ]
    }
   ],
   "source": [
    "names = {'student_1': \"Lucas Zweili\",\n",
    "        'student_2': \"Raphaël Reis Nunes\"}\n",
    "\n",
    "sciper = {'student_1': 999999, \n",
    "          'student_2': 888888}\n",
    "\n",
    "seed = sciper['student_1']+sciper['student_2']\n",
    "\n",
    "%matplotlib inline\n",
    "\n",
    "#GPU acceleration\n",
    "from tensorflow.python.client import device_lib\n",
    "from keras import backend as K\n",
    "K.tensorflow_backend._get_available_gpus()\n",
    "print(device_lib.list_local_devices())\n",
    "\n",
    "import numpy as np\n",
    "import matplotlib.pyplot as plt\n",
    "import os, sys\n",
    "import copy\n",
    "\n",
    "plt.rcParams['font.size'] = 28\n",
    "plt.style.use('ggplot')\n",
    "plt.rcParams[\"axes.grid\"] = False\n",
    "c = plt.rcParams['axes.prop_cycle'].by_key()['color']\n",
    "\n",
    "import keras\n",
    "from keras.models import Model, load_model\n",
    "from keras.layers import Input, Masking, Reshape, TimeDistributed, Dense, Flatten, Concatenate, Dropout, LSTM, CuDNNLSTM, GRU, CuDNNGRU, SimpleRNN, Bidirectional, Embedding, BatchNormalization\n",
    "from keras.optimizers import Adam\n",
    "from keras.utils import np_utils\n",
    "from keras.preprocessing.sequence import pad_sequences\n",
    "from keras.callbacks import ModelCheckpoint, EarlyStopping\n",
    "\n",
    "\n",
    "def getRawDataFromFile(datapath=\"../../personachat/\", file=\"train_both_revised.txt\"):\n",
    "    \n",
    "    f = open(datapath+file)\n",
    "\n",
    "    conversations = []\n",
    "    current_conversation = []\n",
    "    \n",
    "    for l, line in enumerate(f):\n",
    "        #print(l, line)\n",
    "        if \"persona:\" in line:\n",
    "            if len(current_conversation) > 1:\n",
    "                conversations.append(current_conversation)\n",
    "            current_conversation = [] \n",
    "            continue\n",
    "\n",
    "        #remove numberings\n",
    "        processed_line = line.split(' ')\n",
    "        processed_line = \" \".join(processed_line[1:])\n",
    "        line = processed_line\n",
    "        #print(line)\n",
    "\n",
    "        conv = line.split('\\t')    \n",
    "        q = conv[0]\n",
    "        a = conv[1]\n",
    "        current_conversation.append(q)\n",
    "        current_conversation.append(a)\n",
    "    \n",
    "    return conversations "
   ]
  },
  {
   "cell_type": "markdown",
   "metadata": {
    "collapsed": true
   },
   "source": [
    "## Data visualization and preprocessing\n",
    "\n",
    "Here we will process and visualize the data.\n"
   ]
  },
  {
   "cell_type": "markdown",
   "metadata": {},
   "source": [
    "### Parse raw data \n",
    "\n",
    "Download the dataset on http://parl.ai/downloads/personachat/personachat.tgz. Unpack it and add it to your project folder. Read and run the getRawDataFromFile function (if needed, modify the default path). It extracts the conversations.\n",
    "\n",
    "**Output** Display two randomly selected conversations. [1 pt]"
   ]
  },
  {
   "cell_type": "code",
   "execution_count": 51,
   "metadata": {},
   "outputs": [
    {
     "data": {
      "text/plain": [
       "(['hi how are you today ?',\n",
       "  'not bad , just finished some training for the marathon .',\n",
       "  'i run at night that is cool',\n",
       "  'its invigorating to run long distances , plus i do weightlifting to strengthen the arms .',\n",
       "  'very nice . do you like pictures ?',\n",
       "  'i like taking photos , but mostly i end up taking them of my 3 great danes .',\n",
       "  'noah i am saving up for a camera',\n",
       "  'are you looking to get a dsr ?',\n",
       "  'i think so . i wanna take pictures of my job',\n",
       "  'what kind of job do you have ?',\n",
       "  'i work at a movie theater heh',\n",
       "  'interesting . on another topic , do you have any favorite foods ?',\n",
       "  'i love any kinds of spicy foods . you ?',\n",
       "  'not me , i like to keep it simple , but do not give me any sweet potatoes .'],\n",
       " ['hi how are you doing ?',\n",
       "  'wonderful , thank you ! just got done with dinner . you ?',\n",
       "  'nothing much just watching the news',\n",
       "  'the news is so depressing these days . do you have any hobbies ?',\n",
       "  'i free dive sometimes hbu ?',\n",
       "  'i spend most of my time at the gym playing racquetball .',\n",
       "  'what do you do for a living ?',\n",
       "  'i am a personal trainer . how about you ?',\n",
       "  'i am a graphic designer from cali',\n",
       "  'nice ! i have never been to california before . sounds wonderful !',\n",
       "  'do you have any hobbies ?',\n",
       "  'i enjoy music and reading . anything except that awful country .',\n",
       "  'www why not country ? lol',\n",
       "  'i do not know . never been a fan . i take it you like it ?',\n",
       "  'what city are you from ?',\n",
       "  'new york , new york . ever been there ?'])"
      ]
     },
     "execution_count": 51,
     "metadata": {},
     "output_type": "execute_result"
    }
   ],
   "source": [
    "conv = getRawDataFromFile()\n",
    "\n",
    "idx1, idx2 = np.random.choice(len(conv), 2)\n",
    "\n",
    "conv[idx1], conv[idx2]"
   ]
  },
  {
   "cell_type": "markdown",
   "metadata": {},
   "source": [
    "### Extract word tokens\n",
    "\n",
    "Let's start looking at our data. \n",
    "\n",
    "**Code** Compute the set of unique words (dictionary) in all sentences along with the number of occurences of each of these words. HINT: each word is separated by a space character, use the python string.split(' ') function to separate words. Consider punctuations as 'words'. [1 pt]"
   ]
  },
  {
   "cell_type": "code",
   "execution_count": 52,
   "metadata": {},
   "outputs": [
    {
     "name": "stdout",
     "output_type": "stream",
     "text": [
      "[('i', 103476), ('.', 101587), ('you', 48295), ('?', 43768), (',', 39499), ('a', 34213), ('to', 32102), ('do', 30574), ('is', 28573), ('my', 26950)]\n"
     ]
    }
   ],
   "source": [
    "dico = {}\n",
    "\n",
    "for c in conv:\n",
    "    for s in c:\n",
    "        words = s.split(\" \")\n",
    "        for w in words:\n",
    "            if w in dico.keys():\n",
    "                dico[w] += 1\n",
    "            else:\n",
    "                dico[w] = 1\n",
    "\n",
    "sorted_list = sorted(dico.items(), key = lambda x: x[1], reverse=True)\n",
    "# Display top 10 most frequent words used in these conversations.\n",
    "print(sorted_list[:10])"
   ]
  },
  {
   "cell_type": "markdown",
   "metadata": {},
   "source": [
    "**Figure** In a bar plot, show the first 75 most frequent words (x-axis) and their number of occurences (y-axis). [1 pt]"
   ]
  },
  {
   "cell_type": "code",
   "execution_count": 53,
   "metadata": {},
   "outputs": [
    {
     "data": {
      "image/png": "[encoded data removed]",
      "text/plain": [
       "<Figure size 360x1080 with 1 Axes>"
      ]
     },
     "metadata": {},
     "output_type": "display_data"
    }
   ],
   "source": [
    "plt.figure(figsize=(5,15))\n",
    "x = np.arange(75)\n",
    "labels = [elem[0] for elem in sorted_list[:75][::-1]]\n",
    "heights = [elem[1] for elem in sorted_list[:75][::-1]]\n",
    "bars = plt.barh(x, heights)\n",
    "\n",
    "plt.yticks(x, labels)\n",
    "plt.title(\"Top 75 most frequent words\")\n",
    "plt.show()"
   ]
  },
  {
   "cell_type": "markdown",
   "metadata": {},
   "source": [
    "**Figure** In another bar plot, show the 75 least frequent words (x-axis) and their number of occurences (y-axis). [1 pt] "
   ]
  },
  {
   "cell_type": "code",
   "execution_count": 54,
   "metadata": {},
   "outputs": [
    {
     "data": {
      "image/png": "[encoded data removed]",
      "text/plain": [
       "<Figure size 360x1080 with 1 Axes>"
      ]
     },
     "metadata": {},
     "output_type": "display_data"
    }
   ],
   "source": [
    "plt.figure(figsize=(5,15))\n",
    "x = np.arange(75)\n",
    "labels = [elem[0] for elem in sorted_list[-75:][::-1]]\n",
    "heights = [elem[1] for elem in sorted_list[-75:][::-1]]\n",
    "bars = plt.barh(x, heights)\n",
    "\n",
    "plt.yticks(x, labels)\n",
    "plt.title(\"Top 75 least frequent words\")\n",
    "plt.show()"
   ]
  },
  {
   "cell_type": "markdown",
   "metadata": {},
   "source": [
    "**Figure** In a log-log scale, plot the sorted word index (x-axis) vs their respective count (y-axis). [1 pt]"
   ]
  },
  {
   "cell_type": "code",
   "execution_count": 55,
   "metadata": {},
   "outputs": [
    {
     "data": {
      "image/png": "[encoded data removed]",
      "text/plain": [
       "<Figure size 432x288 with 1 Axes>"
      ]
     },
     "metadata": {},
     "output_type": "display_data"
    }
   ],
   "source": [
    "x = np.arange(len(dico))\n",
    "heights = [elem[1] for elem in sorted_list]\n",
    "plt.loglog(x, heights)\n",
    "\n",
    "plt.title(\"log-log words frequency\")\n",
    "plt.ylabel(\"Frequency\")\n",
    "plt.xlabel(\"Index\")\n",
    "plt.show()"
   ]
  },
  {
   "cell_type": "markdown",
   "metadata": {},
   "source": [
    "**Question** Relate the sorted word count distribution with Zipf's law.\n",
    "Argue using the log-log plot. [1 pt]"
   ]
  },
  {
   "cell_type": "markdown",
   "metadata": {},
   "source": [
    "**Answer**"
   ]
  },
  {
   "cell_type": "markdown",
   "metadata": {},
   "source": [
    "**the Zip's law states that the frequency is inversely proportional to the rank or index in our sorted_list. So the most frequent word should be 2 times more frequent than the second one and three times more than the third word and so on.  This could be verify by the linearity of the log-log plot. Which implies that the word count distribution follows the zipf's law**"
   ]
  },
  {
   "cell_type": "markdown",
   "metadata": {},
   "source": [
    "**Question** How many words appear only once in the entire dataset? [1 pt]"
   ]
  },
  {
   "cell_type": "markdown",
   "metadata": {},
   "source": [
    "**Answer**"
   ]
  },
  {
   "cell_type": "code",
   "execution_count": 56,
   "metadata": {
    "scrolled": false
   },
   "outputs": [
    {
     "data": {
      "text/plain": [
       "'7080 / 18673 words appearing only once'"
      ]
     },
     "execution_count": 56,
     "metadata": {},
     "output_type": "execute_result"
    }
   ],
   "source": [
    "#Get the length of the filtered dictionary (where frequency of the word == 1)\n",
    "num_word_1 = len({k: v for k,v in dico.items() if v == 1})\n",
    "num_word_tot = len(dico)\n",
    "\"{un} / {tot} words appearing only once\".format(un=num_word_1, tot=num_word_tot)"
   ]
  },
  {
   "cell_type": "markdown",
   "metadata": {},
   "source": [
    "### Filtering\n",
    "\n",
    "We suggest to filter your data by removing sentences containing rare words. \n",
    "\n",
    "\n",
    "**Code** To achieve that, you should create a new dataset where sentences containing rare words (words that occur less than N times in the dataset) are removed. Keep at least 50'000 sentences (depending on your computing power, you can keep more). \n",
    "HINT: Start by updating the dictionary accordingly and then remove any sentence that contains at least a single word that is not in the dictionary of words. [2 pts]"
   ]
  },
  {
   "cell_type": "code",
   "execution_count": 57,
   "metadata": {},
   "outputs": [],
   "source": [
    "# if a word occur less than n times, we remove the sentence of the conversations.\n",
    "\n",
    "n = 20\n",
    "norare_dico = {k: v for k,v in dico.items() if v > n}\n",
    "norare_conv = copy.deepcopy(conv)\n",
    "\n",
    "for i,c in enumerate(conv):\n",
    "    for s in c:\n",
    "        words = s.split(\" \")\n",
    "        for w in words:\n",
    "            if s not in norare_conv[i]:\n",
    "                break\n",
    "            else:\n",
    "                if w not in norare_dico.keys():\n",
    "                    norare_conv[i].remove(s)\n"
   ]
  },
  {
   "cell_type": "markdown",
   "metadata": {},
   "source": [
    "**Question**: How much did you reduce the number of unique words with your rare event suppression procedure? [1 pt]\n",
    "    \n",
    "**Answer**: "
   ]
  },
  {
   "cell_type": "code",
   "execution_count": 58,
   "metadata": {},
   "outputs": [
    {
     "name": "stdout",
     "output_type": "stream",
     "text": [
      "15707 / 18673 words removed\n"
     ]
    }
   ],
   "source": [
    "print(len(dico)-len(norare_dico),\"/\",len(dico), \"words removed\")"
   ]
  },
  {
   "cell_type": "markdown",
   "metadata": {},
   "source": [
    "**Question**: How many sentences are in your filtered and original dataset? [1 pt]\n",
    "\n",
    "**Answer**:"
   ]
  },
  {
   "cell_type": "code",
   "execution_count": 59,
   "metadata": {},
   "outputs": [
    {
     "name": "stdout",
     "output_type": "stream",
     "text": [
      "88100 sentences in our filtered dataset versus 131424 sentences in original dataset\n"
     ]
    }
   ],
   "source": [
    "num_s_conv = len([x for y in conv for x in y])\n",
    "num_s_norare_conv = len([x for y in norare_conv for x in y])\n",
    "\n",
    "print(\"{f} sentences in our filtered dataset versus {n} sentences in original dataset\".format(f=num_s_norare_conv, n=num_s_conv))"
   ]
  },
  {
   "cell_type": "markdown",
   "metadata": {},
   "source": [
    "**Question**: What is the impact on learning and generalization of removing sentences with rare words from your dataset? [2 pt]\n",
    "\n",
    "**Answer**: "
   ]
  },
  {
   "cell_type": "markdown",
   "metadata": {},
   "source": [
    "**pros: we removed outliers so the models will be more generalized with less overfitting**\n",
    "\n",
    "**cons: we have less samples on which we could train our models and thus losing some improvements.**"
   ]
  },
  {
   "cell_type": "markdown",
   "metadata": {},
   "source": []
  },
  {
   "cell_type": "markdown",
   "metadata": {},
   "source": [
    "### Tokenization and padding\n",
    "\n",
    "Now you will transform our filtered data into a format that is understandable by an ANN. To achieve that, you should transform words to integers, where single integers in the range [1,size of the dictionary] are mapped to single words in your dictionary. This process is commonly named 'tokenization'. In addition, we will keep the value 0 to a specific artificial word 'PADD' that will be used to account for the variable length of sentences and add to each sentence a 'START' and an 'END' word. \n",
    "\n",
    "**Code** Start by adding the three artificial words to your dictionary (list of possible tokens) and then translate every sentences to a list of integers. \n",
    "HINT: use the Python List index() method. [2 pts]\n",
    "\n",
    "**Figure** Use the violinplot to show the density of tokenized sentences length. [1pt]\n",
    "\n",
    "**Code** From this figure, select a maximum number (=maxlen) of tokens for which most of the sentences have less. Padd (and eventually truncate) all sentences with the 'PADD' token (value 0 in the integer representation) until all tokenized sentences have the same length (maxlen).\n",
    "HINT: use the pad_sequences function from keras.preprocessing.sequence [2 pts]\n",
    "\n",
    "**Code** Check that you can recover the original sentence. Randomly select two sentences from your integer and padded representation and translate them back using your dictionary. [1 pt]"
   ]
  },
  {
   "cell_type": "code",
   "execution_count": 60,
   "metadata": {},
   "outputs": [],
   "source": [
    "tokens = copy.deepcopy(norare_dico)\n",
    "\n",
    "\n",
    "#Then tokenization of the dictionary\n",
    "for i,w in enumerate(norare_dico,1):\n",
    "    tokens[w] = i\n",
    "\n",
    "# Add the 3 artifical words\n",
    "tokens[\"PADD\"] = 0\n",
    "tokens[\"START\"] = i + 1\n",
    "tokens[\"STOP\"] = i + 2"
   ]
  },
  {
   "cell_type": "code",
   "execution_count": 61,
   "metadata": {},
   "outputs": [],
   "source": [
    "def translate(s, dico_to_token, to_token):\n",
    "    new_s = []\n",
    "    if to_token:\n",
    "        for w in s:\n",
    "            token = dico_to_token[w]\n",
    "            new_s.append(token)\n",
    "    else:\n",
    "        \n",
    "        inverted_dico = {token: word for word, token in dico_to_token.items()}\n",
    "        \n",
    "        for t in s:\n",
    "            word = inverted_dico[t]\n",
    "            if word in [\"PADD\",\"START\",\"STOP\"]:\n",
    "                continue\n",
    "            else:\n",
    "                new_s.append(word)\n",
    "\n",
    "    return new_s"
   ]
  },
  {
   "cell_type": "code",
   "execution_count": 62,
   "metadata": {},
   "outputs": [],
   "source": [
    "#Translate sentences to list of integers\n",
    "translate_conv = copy.deepcopy(norare_conv)\n",
    "\n",
    "for i,c in enumerate(norare_conv):\n",
    "    for j,s in enumerate(c):\n",
    "        \n",
    "        words = s.split(\" \")\n",
    "        new_s = translate(words,tokens,to_token=True)\n",
    "            \n",
    "        # Add to every sentences START and STOP tokens\n",
    "        new_s = [tokens[\"START\"]] + new_s\n",
    "        new_s.append(tokens[\"STOP\"])\n",
    "        \n",
    "        translate_conv[i][j] = new_s"
   ]
  },
  {
   "cell_type": "code",
   "execution_count": 63,
   "metadata": {},
   "outputs": [
    {
     "data": {
      "image/png": "[encoded data removed]",
      "text/plain": [
       "<Figure size 432x288 with 1 Axes>"
      ]
     },
     "metadata": {},
     "output_type": "display_data"
    }
   ],
   "source": [
    "data = [len(s) for c in translate_conv for s in c]\n",
    "\n",
    "plt.violinplot(data,showmedians=True, showextrema=False)\n",
    "plt.ylabel(\"length of sentences\")\n",
    "plt.title(\"ViolinPlot (Showing density of tokenized sentences length)\")\n",
    "plt.show()"
   ]
  },
  {
   "cell_type": "code",
   "execution_count": 64,
   "metadata": {},
   "outputs": [],
   "source": [
    "# As, we can see on the violinPlot above, most of the sentences have less than 25 words.\n",
    "maxlen = 25\n",
    "padded_conv = copy.deepcopy(translate_conv)\n",
    "for i,c in enumerate(translate_conv):\n",
    "    padded = pad_sequences(c, maxlen = maxlen, dtype = \"uint32\", padding = \"post\", truncating = \"post\", value = 0)\n",
    "    padded_conv[i] = padded"
   ]
  },
  {
   "cell_type": "code",
   "execution_count": 67,
   "metadata": {},
   "outputs": [
    {
     "data": {
      "text/plain": [
       "(['great', '!', 'are', 'you', 'married', '?', 'any', 'kids', '?'],\n",
       " ['do', 'you', 'play', 'any', 'music', '?'])"
      ]
     },
     "execution_count": 67,
     "metadata": {},
     "output_type": "execute_result"
    }
   ],
   "source": [
    "# Translate back 2 random sentences from padded_conv\n",
    "padded_s = [s for c in padded_conv for s in c]\n",
    "idx1, idx2 = np.random.choice(range(len(padded_s)), 2)\n",
    "\n",
    "translate(padded_s[idx1],tokens,to_token=False), translate(padded_s[idx2],tokens,to_token=False)"
   ]
  },
  {
   "cell_type": "code",
   "execution_count": 68,
   "metadata": {},
   "outputs": [
    {
     "data": {
      "text/plain": [
       "array([2967,  143,   31,    4,    5,  521,    7,   64,  227,    7, 2968,\n",
       "          0,    0,    0,    0,    0,    0,    0,    0,    0,    0,    0,\n",
       "          0,    0,    0], dtype=uint32)"
      ]
     },
     "execution_count": 68,
     "metadata": {},
     "output_type": "execute_result"
    }
   ],
   "source": [
    "padded_s[idx1]"
   ]
  },
  {
   "cell_type": "markdown",
   "metadata": {},
   "source": [
    "### Saving\n",
    "\n",
    "Now is a good time to save your data (end of processing). An example code using the pickle library is shown below.\n"
   ]
  },
  {
   "cell_type": "code",
   "execution_count": 2,
   "metadata": {},
   "outputs": [],
   "source": [
    "import pickle"
   ]
  },
  {
   "cell_type": "code",
   "execution_count": 70,
   "metadata": {},
   "outputs": [],
   "source": [
    "#save\n",
    "with open(\"data.pkl\", \"wb\") as file:\n",
    "    pickle.dump([padded_conv, norare_dico, tokens], file)\n",
    "    "
   ]
  },
  {
   "cell_type": "code",
   "execution_count": 3,
   "metadata": {},
   "outputs": [],
   "source": [
    "#load\n",
    "with open(\"data.pkl\", \"rb\") as file:\n",
    "    [filtered_sentences, dictionary, tokens] = pickle.load(file)"
   ]
  },
  {
   "cell_type": "markdown",
   "metadata": {},
   "source": [
    "## Building and training generative models of language"
   ]
  },
  {
   "cell_type": "markdown",
   "metadata": {},
   "source": [
    "### RNN vs LSTM vs GRU \n",
    "\n",
    "Build, train and compare generative models of language based on RNNs with different recurrent units (SimpleRNN, GRU and LSTM). \n",
    "\n",
    "The target of the network will be to approximate the word transition probabilities Pr(word[n+1]|H[n]) with H[n]=f(word[:n]) being the hidden state of the network.  \n",
    "\n",
    "**code** You should complete the proposed model (using the Keras API rather than the Sequential model for more flexibility). Be sure to understand each line. The embedding layer allows to transform an integer to a dense vector. That would be our input to the recurrent network - each sentence is mapped to a sequence of vectors, each representing a single word. You can then design your own readout(s) and output layers. By default, use the proposed meta parameters. You can adapt them if you have more or less computing power (32 epochs should take around 30 minutes). [2 pts]\n",
    "\n",
    "**Question** How will your networks deal with the artificial word 'PADD' that you added at the end of each sentences  [2 pts]\n",
    "\n",
    "**Answer**: **It will always predict a \"PADD\" word after it. so \"PADD\" will be a**\n",
    "\n",
    "**code** Then train three different networks with the same architecture but using different recurrent units (simpleRNN, GRU and LSTM). Save the learning history (training/validation loss and accuracy for each epoch) as well as the models. [1 pt]\n",
    "\n",
    "**Question** How can you use this network to approximate the word transition probabilities? What will be the inputs and targets of the network at each batch? Give the input/output tensor dimensions. [2 pts]\n",
    "\n",
    "**Answer**: **TODO**\n",
    "\n",
    "**Figure** Show the learning curves (training and validation loss) for the different recurrent units. [1 pt]\n",
    "\n",
    "**Figure** Show the learning curves (training and validation accuracy) for the different recurrent units. [1 pt]\n",
    "\n",
    "**Question:** Which recurrent unit yields the best validation accuracy? Which is the fastest learner? [1 pt]\n",
    "\n",
    "**Answer**: **LSTM unit is yielding the best validation accuracy with 0.9787 versus 0.9424 and 0.9742 for SimpleRNN and GRU, respectively. Fastest learner is the SimpleRNN unit with an average of 11s per epochs versus 27s and 21s for LSTM and GRU, respectively.**\n",
    "\n",
    "**Question:** Do you observe an overfitting effect? Where and for which case? Give a possible explanation. [1 pt] \n",
    "\n",
    "**Answer**: **Yes for the SimpleRNN unit only. Maybe the model is too complex (too many hidden neurons).**\n",
    "\n",
    "**Question:** Suggest one option modifying your dataset to decrease overfitting. [1 pt]\n",
    "\n",
    "**Answer**: **We could increase the total number of unique words, making the dataset more complex to learn**\n",
    "\n",
    "**Question:** Suggest one possible option modifying your network to decrease overfitting. [1 pt]\n",
    "\n",
    "**Answer**: **We could decrease the number of hidden neurons, reducing the complexity of the model.**\n",
    "\n",
    "**Question:** Suggest one possible option modifying the training modalities to counter overfitting. [1 pt]   \n",
    "\n",
    "**Answer**: **We could increase the dropout probability of the recurrent layer, making the model more robust to new samples, thus decreasing overfitting. Or reducing the training duration by decreasing the number of epochs.**"
   ]
  },
  {
   "cell_type": "code",
   "execution_count": 4,
   "metadata": {},
   "outputs": [],
   "source": [
    "#Meta-parameters\n",
    "embedding_size = 128\n",
    "hidden_size = 64\n",
    "dropout = 0.\n",
    "recurrent_dropout = 0.\n",
    "\n",
    "batch_size = 64\n",
    "epochs = 32\n",
    "validation_split = 0.2\n",
    "\n",
    "dataset_cut = -1\n",
    "maxlen = 25"
   ]
  },
  {
   "cell_type": "code",
   "execution_count": 5,
   "metadata": {},
   "outputs": [],
   "source": [
    "I = {}\n",
    "E = {}\n",
    "H = {}\n",
    "R = {}\n",
    "Y = {}\n",
    "models = {}\n",
    "logs = {}"
   ]
  },
  {
   "cell_type": "code",
   "execution_count": 6,
   "metadata": {},
   "outputs": [],
   "source": [
    "list_sentences = [s for c in filtered_sentences for s in c]\n",
    "X = np.array(list_sentences.copy())\n",
    "# T = np.zeros((len(list_sentences),maxlen,len(tokens)), dtype='uint8')\n",
    "\n",
    "# #one_hot_encoding of X as target\n",
    "# for i,elem in enumerate(list_sentences):\n",
    "#     for j,w in enumerate(elem):\n",
    "#         T[i][j][w] = 1\n"
   ]
  },
  {
   "cell_type": "code",
   "execution_count": 7,
   "metadata": {},
   "outputs": [],
   "source": [
    "T = keras.utils.to_categorical(np.asarray(X))"
   ]
  },
  {
   "cell_type": "code",
   "execution_count": 9,
   "metadata": {
    "scrolled": false
   },
   "outputs": [
    {
     "name": "stdout",
     "output_type": "stream",
     "text": [
      "WARNING:tensorflow:From C:\\Users\\lucas\\Anaconda3\\envs\\gpu\\lib\\site-packages\\tensorflow\\python\\framework\\op_def_library.py:263: colocate_with (from tensorflow.python.framework.ops) is deprecated and will be removed in a future version.\n",
      "Instructions for updating:\n",
      "Colocations handled automatically by placer.\n",
      "_________________________________________________________________\n",
      "Layer (type)                 Output Shape              Param #   \n",
      "=================================================================\n",
      "input (InputLayer)           (None, 24)                0         \n",
      "_________________________________________________________________\n",
      "embedding (Embedding)        (None, 24, 128)           380032    \n",
      "_________________________________________________________________\n",
      "simple_rnn_1 (SimpleRNN)     (None, 24, 64)            12352     \n",
      "_________________________________________________________________\n",
      "readout (TimeDistributed)    (None, 24, 128)           8320      \n",
      "_________________________________________________________________\n",
      "output (TimeDistributed)     (None, 24, 2969)          383001    \n",
      "=================================================================\n",
      "Total params: 783,705\n",
      "Trainable params: 783,705\n",
      "Non-trainable params: 0\n",
      "_________________________________________________________________\n",
      "(88100, 24) (88100, 24, 2969)\n",
      "WARNING:tensorflow:From C:\\Users\\lucas\\Anaconda3\\envs\\gpu\\lib\\site-packages\\tensorflow\\python\\ops\\math_ops.py:3066: to_int32 (from tensorflow.python.ops.math_ops) is deprecated and will be removed in a future version.\n",
      "Instructions for updating:\n",
      "Use tf.cast instead.\n",
      "Train on 70479 samples, validate on 17620 samples\n",
      "Epoch 1/32\n",
      "70479/70479 [==============================] - 201s 3ms/step - loss: 3.9679 - acc: 0.3058 - val_loss: 3.4749 - val_acc: 0.3592\n",
      "Epoch 2/32\n",
      "70479/70479 [==============================] - 206s 3ms/step - loss: 3.3399 - acc: 0.3689 - val_loss: 3.2874 - val_acc: 0.3764\n",
      "Epoch 3/32\n",
      "70479/70479 [==============================] - 195s 3ms/step - loss: 3.1860 - acc: 0.3816 - val_loss: 3.2076 - val_acc: 0.3815\n",
      "Epoch 4/32\n",
      "70479/70479 [==============================] - 210s 3ms/step - loss: 3.0968 - acc: 0.3887 - val_loss: 3.1580 - val_acc: 0.3868\n",
      "Epoch 5/32\n",
      "70479/70479 [==============================] - 210s 3ms/step - loss: 3.0346 - acc: 0.3938 - val_loss: 3.1302 - val_acc: 0.3909\n",
      "Epoch 6/32\n",
      "70479/70479 [==============================] - 206s 3ms/step - loss: 2.9871 - acc: 0.3980 - val_loss: 3.1174 - val_acc: 0.3911\n",
      "Epoch 7/32\n",
      "70479/70479 [==============================] - 202s 3ms/step - loss: 2.9496 - acc: 0.4010 - val_loss: 3.1063 - val_acc: 0.3925\n",
      "Epoch 8/32\n",
      "70479/70479 [==============================] - 199s 3ms/step - loss: 2.9176 - acc: 0.4037 - val_loss: 3.1089 - val_acc: 0.3922\n",
      "Epoch 9/32\n",
      "70479/70479 [==============================] - 198s 3ms/step - loss: 2.8911 - acc: 0.4056 - val_loss: 3.0940 - val_acc: 0.3962\n",
      "Epoch 10/32\n",
      "70479/70479 [==============================] - 213s 3ms/step - loss: 2.8681 - acc: 0.4076 - val_loss: 3.0962 - val_acc: 0.3978\n",
      "Epoch 11/32\n",
      "70479/70479 [==============================] - 201s 3ms/step - loss: 2.8476 - acc: 0.4092 - val_loss: 3.1016 - val_acc: 0.3961\n",
      "Epoch 12/32\n",
      "70479/70479 [==============================] - 206s 3ms/step - loss: 2.8305 - acc: 0.4101 - val_loss: 3.1051 - val_acc: 0.3949\n",
      "Epoch 13/32\n",
      "70479/70479 [==============================] - 197s 3ms/step - loss: 2.8140 - acc: 0.4115 - val_loss: 3.1011 - val_acc: 0.3971\n",
      "Epoch 14/32\n",
      "70479/70479 [==============================] - 204s 3ms/step - loss: 2.7993 - acc: 0.4127 - val_loss: 3.1047 - val_acc: 0.3964\n",
      "Epoch 15/32\n",
      "70479/70479 [==============================] - 206s 3ms/step - loss: 2.7857 - acc: 0.4138 - val_loss: 3.1145 - val_acc: 0.3968\n",
      "Epoch 16/32\n",
      "70479/70479 [==============================] - 203s 3ms/step - loss: 2.7746 - acc: 0.4148 - val_loss: 3.1145 - val_acc: 0.3979\n",
      "Epoch 17/32\n",
      "70479/70479 [==============================] - 210s 3ms/step - loss: 2.7628 - acc: 0.4157 - val_loss: 3.1252 - val_acc: 0.3975\n",
      "Epoch 18/32\n",
      "70479/70479 [==============================] - 201s 3ms/step - loss: 2.7525 - acc: 0.4166 - val_loss: 3.1256 - val_acc: 0.3987\n",
      "Epoch 19/32\n",
      "70479/70479 [==============================] - 201s 3ms/step - loss: 2.7437 - acc: 0.4175 - val_loss: 3.1335 - val_acc: 0.3968\n",
      "Epoch 20/32\n",
      "70479/70479 [==============================] - 213s 3ms/step - loss: 2.7344 - acc: 0.4181 - val_loss: 3.1310 - val_acc: 0.3972\n",
      "Epoch 21/32\n",
      "70479/70479 [==============================] - 202s 3ms/step - loss: 2.7268 - acc: 0.4188 - val_loss: 3.1430 - val_acc: 0.3986\n",
      "Epoch 22/32\n",
      "70479/70479 [==============================] - 203s 3ms/step - loss: 2.7190 - acc: 0.4196 - val_loss: 3.1445 - val_acc: 0.3986\n",
      "Epoch 23/32\n",
      "70479/70479 [==============================] - 217s 3ms/step - loss: 2.7122 - acc: 0.4202 - val_loss: 3.1532 - val_acc: 0.3964\n",
      "Epoch 24/32\n",
      "70479/70479 [==============================] - 208s 3ms/step - loss: 2.7060 - acc: 0.4208 - val_loss: 3.1539 - val_acc: 0.3987\n",
      "Epoch 25/32\n",
      "70479/70479 [==============================] - 212s 3ms/step - loss: 2.6996 - acc: 0.4213 - val_loss: 3.1604 - val_acc: 0.3973\n",
      "Epoch 26/32\n",
      "70479/70479 [==============================] - 210s 3ms/step - loss: 2.6946 - acc: 0.4219 - val_loss: 3.1636 - val_acc: 0.3973\n",
      "Epoch 27/32\n",
      "70479/70479 [==============================] - 197s 3ms/step - loss: 2.6884 - acc: 0.4223 - val_loss: 3.1686 - val_acc: 0.3957\n",
      "Epoch 28/32\n",
      "70479/70479 [==============================] - 206s 3ms/step - loss: 2.6840 - acc: 0.4228 - val_loss: 3.1670 - val_acc: 0.3976\n",
      "Epoch 29/32\n",
      "70479/70479 [==============================] - 208s 3ms/step - loss: 2.6787 - acc: 0.4233 - val_loss: 3.1755 - val_acc: 0.3972\n",
      "Epoch 30/32\n",
      "70479/70479 [==============================] - 211s 3ms/step - loss: 2.6747 - acc: 0.4236 - val_loss: 3.1824 - val_acc: 0.3972\n",
      "Epoch 31/32\n",
      "70479/70479 [==============================] - 197s 3ms/step - loss: 2.6702 - acc: 0.4241 - val_loss: 3.1804 - val_acc: 0.3958\n",
      "Epoch 32/32\n",
      "70479/70479 [==============================] - 206s 3ms/step - loss: 2.6664 - acc: 0.4244 - val_loss: 3.1854 - val_acc: 0.3962\n"
     ]
    }
   ],
   "source": [
    "#Model suggestion\n",
    "\n",
    "I['RNN'] = Input(shape=(maxlen-1,), name=\"input\")\n",
    "E['RNN'] = Embedding(len(tokens), embedding_size, mask_zero=True, input_length=24, name=\"embedding\")(I['RNN'])\n",
    "\n",
    "#your network here\n",
    "H['RNN'] = SimpleRNN(hidden_size,activation='relu', dropout=dropout, recurrent_dropout=recurrent_dropout, unroll=True, return_sequences=True)(E['RNN'])\n",
    "\n",
    "R['RNN'] = TimeDistributed(Dense(embedding_size, activation=\"relu\"), name='readout')(H[\"RNN\"])\n",
    "\n",
    "Y['RNN'] = TimeDistributed(Dense(len(tokens), activation=\"softmax\"), name='output')(R['RNN'])\n",
    "\n",
    "\n",
    "models['RNN'] = Model(inputs = [I['RNN']], outputs = [Y['RNN']])\n",
    "models['RNN'].compile(\n",
    "    loss='categorical_crossentropy', \n",
    "    optimizer=Adam(),\n",
    "    metrics=['acc'])\n",
    "models['RNN'].summary()\n",
    "\n",
    "print(X[:,:-1].shape, T[:,1:].shape)\n",
    "logs['RNN'] = models['RNN'].fit({'input': X[:dataset_cut,:-1]}, {'output': T[:dataset_cut,1:]}, \n",
    "                                    epochs=epochs, \n",
    "                                    validation_split=validation_split, \n",
    "                                    batch_size=batch_size).history\n",
    "\n",
    "#save\n",
    "with open(\"RNNmodel_\"+str(embedding_size)+'_'+str(hidden_size)+\"_log.pkl\", \"wb\") as file:\n",
    "    pickle.dump(logs['RNN'], file)\n",
    "models['RNN'].save(\"RNNmodel_\"+str(embedding_size)+'_'+str(hidden_size))"
   ]
  },
  {
   "cell_type": "code",
   "execution_count": 21,
   "metadata": {},
   "outputs": [
    {
     "name": "stdout",
     "output_type": "stream",
     "text": [
      "WARNING:tensorflow:From C:\\Users\\lucas\\Anaconda3\\envs\\gpu\\lib\\site-packages\\tensorflow\\python\\ops\\math_ops.py:3066: to_int32 (from tensorflow.python.ops.math_ops) is deprecated and will be removed in a future version.\n",
      "Instructions for updating:\n",
      "Use tf.cast instead.\n"
     ]
    }
   ],
   "source": [
    "#load\n",
    "with open(\"RNNmodel_\"+str(embedding_size)+'_'+str(hidden_size)+\"_log.pkl\", \"rb\") as file:\n",
    "    RNNmodel_log = pickle.load(file)\n",
    "RNNmodel = load_model(\"RNNmodel_\"+str(embedding_size)+'_'+str(hidden_size))"
   ]
  },
  {
   "cell_type": "code",
   "execution_count": 10,
   "metadata": {},
   "outputs": [
    {
     "name": "stdout",
     "output_type": "stream",
     "text": [
      "_________________________________________________________________\n",
      "Layer (type)                 Output Shape              Param #   \n",
      "=================================================================\n",
      "input (InputLayer)           (None, 24)                0         \n",
      "_________________________________________________________________\n",
      "embedding (Embedding)        (None, 24, 128)           380032    \n",
      "_________________________________________________________________\n",
      "lstm_1 (LSTM)                (None, 24, 64)            49408     \n",
      "_________________________________________________________________\n",
      "readout (TimeDistributed)    (None, 24, 128)           8320      \n",
      "_________________________________________________________________\n",
      "output (TimeDistributed)     (None, 24, 2969)          383001    \n",
      "=================================================================\n",
      "Total params: 820,761\n",
      "Trainable params: 820,761\n",
      "Non-trainable params: 0\n",
      "_________________________________________________________________\n",
      "(88100, 24) (88100, 24, 2969)\n",
      "Train on 70479 samples, validate on 17620 samples\n",
      "Epoch 1/32\n",
      "70479/70479 [==============================] - 220s 3ms/step - loss: 4.1294 - acc: 0.2814 - val_loss: 3.5202 - val_acc: 0.3533\n",
      "Epoch 2/32\n",
      "70479/70479 [==============================] - 214s 3ms/step - loss: 3.3624 - acc: 0.3672 - val_loss: 3.2963 - val_acc: 0.3724\n",
      "Epoch 3/32\n",
      "70479/70479 [==============================] - 211s 3ms/step - loss: 3.1961 - acc: 0.3812 - val_loss: 3.2051 - val_acc: 0.3821\n",
      "Epoch 4/32\n",
      "70479/70479 [==============================] - 205s 3ms/step - loss: 3.0987 - acc: 0.3895 - val_loss: 3.1419 - val_acc: 0.3897\n",
      "Epoch 5/32\n",
      "70479/70479 [==============================] - 206s 3ms/step - loss: 3.0303 - acc: 0.3951 - val_loss: 3.1255 - val_acc: 0.3896\n",
      "Epoch 6/32\n",
      "70479/70479 [==============================] - 218s 3ms/step - loss: 2.9783 - acc: 0.3999 - val_loss: 3.0889 - val_acc: 0.3933\n",
      "Epoch 7/32\n",
      "70479/70479 [==============================] - 218s 3ms/step - loss: 2.9361 - acc: 0.4030 - val_loss: 3.0744 - val_acc: 0.3973\n",
      "Epoch 8/32\n",
      "70479/70479 [==============================] - 211s 3ms/step - loss: 2.9026 - acc: 0.4061 - val_loss: 3.0685 - val_acc: 0.3988\n",
      "Epoch 9/32\n",
      "70479/70479 [==============================] - 8284s 118ms/step - loss: 2.8716 - acc: 0.4090 - val_loss: 3.0623 - val_acc: 0.3998\n",
      "Epoch 10/32\n",
      "70479/70479 [==============================] - 226s 3ms/step - loss: 2.8462 - acc: 0.4109 - val_loss: 3.0588 - val_acc: 0.4009\n",
      "Epoch 11/32\n",
      "70479/70479 [==============================] - 222s 3ms/step - loss: 2.8231 - acc: 0.4126 - val_loss: 3.0579 - val_acc: 0.4021\n",
      "Epoch 12/32\n",
      "70479/70479 [==============================] - 207s 3ms/step - loss: 2.8023 - acc: 0.4150 - val_loss: 3.0572 - val_acc: 0.4013\n",
      "Epoch 13/32\n",
      "70479/70479 [==============================] - 217s 3ms/step - loss: 2.7828 - acc: 0.4164 - val_loss: 3.0656 - val_acc: 0.3997\n",
      "Epoch 14/32\n",
      "70479/70479 [==============================] - 214s 3ms/step - loss: 2.7656 - acc: 0.4182 - val_loss: 3.0743 - val_acc: 0.4019\n",
      "Epoch 15/32\n",
      "70479/70479 [==============================] - 220s 3ms/step - loss: 2.7493 - acc: 0.4199 - val_loss: 3.0660 - val_acc: 0.4024\n",
      "Epoch 16/32\n",
      "70479/70479 [==============================] - 219s 3ms/step - loss: 2.7340 - acc: 0.4211 - val_loss: 3.0838 - val_acc: 0.4032\n",
      "Epoch 17/32\n",
      "70479/70479 [==============================] - 208s 3ms/step - loss: 2.7195 - acc: 0.4228 - val_loss: 3.0750 - val_acc: 0.4020\n",
      "Epoch 18/32\n",
      "70479/70479 [==============================] - 218s 3ms/step - loss: 2.7064 - acc: 0.4239 - val_loss: 3.0810 - val_acc: 0.4019\n",
      "Epoch 19/32\n",
      "70479/70479 [==============================] - 215s 3ms/step - loss: 2.6938 - acc: 0.4253 - val_loss: 3.0862 - val_acc: 0.4028\n",
      "Epoch 20/32\n",
      "70479/70479 [==============================] - 214s 3ms/step - loss: 2.6827 - acc: 0.4261 - val_loss: 3.0932 - val_acc: 0.4039\n",
      "Epoch 21/32\n",
      "70479/70479 [==============================] - 217s 3ms/step - loss: 2.6709 - acc: 0.4279 - val_loss: 3.0962 - val_acc: 0.4031\n",
      "Epoch 22/32\n",
      "70479/70479 [==============================] - 211s 3ms/step - loss: 2.6609 - acc: 0.4288 - val_loss: 3.1061 - val_acc: 0.4025\n",
      "Epoch 23/32\n",
      "70479/70479 [==============================] - 224s 3ms/step - loss: 2.6505 - acc: 0.4301 - val_loss: 3.1135 - val_acc: 0.4023\n",
      "Epoch 24/32\n",
      "70479/70479 [==============================] - 218s 3ms/step - loss: 2.6406 - acc: 0.4309 - val_loss: 3.1219 - val_acc: 0.4018\n",
      "Epoch 25/32\n",
      "70479/70479 [==============================] - 215s 3ms/step - loss: 2.6314 - acc: 0.4320 - val_loss: 3.1221 - val_acc: 0.4016\n",
      "Epoch 26/32\n",
      "70479/70479 [==============================] - 209s 3ms/step - loss: 2.6222 - acc: 0.4330 - val_loss: 3.1208 - val_acc: 0.4021\n",
      "Epoch 27/32\n",
      "70479/70479 [==============================] - 212s 3ms/step - loss: 2.6134 - acc: 0.4343 - val_loss: 3.1336 - val_acc: 0.4026\n",
      "Epoch 28/32\n",
      "70479/70479 [==============================] - 215s 3ms/step - loss: 2.6051 - acc: 0.4351 - val_loss: 3.1377 - val_acc: 0.4010\n",
      "Epoch 29/32\n",
      "70479/70479 [==============================] - 218s 3ms/step - loss: 2.5974 - acc: 0.4358 - val_loss: 3.1481 - val_acc: 0.4011\n",
      "Epoch 30/32\n",
      "70479/70479 [==============================] - 207s 3ms/step - loss: 2.5894 - acc: 0.4372 - val_loss: 3.1480 - val_acc: 0.4018\n",
      "Epoch 31/32\n",
      "70479/70479 [==============================] - 212s 3ms/step - loss: 2.5820 - acc: 0.4377 - val_loss: 3.1618 - val_acc: 0.4010\n",
      "Epoch 32/32\n",
      "70479/70479 [==============================] - 218s 3ms/step - loss: 2.5758 - acc: 0.4386 - val_loss: 3.1637 - val_acc: 0.4021\n"
     ]
    }
   ],
   "source": [
    "#Model suggestion\n",
    "\n",
    "I['LSTM'] = Input(shape=(maxlen-1,), name=\"input\")\n",
    "E['LSTM'] = Embedding(len(tokens), embedding_size, mask_zero=True, name=\"embedding\")(I['LSTM'])\n",
    "\n",
    "#your network here\n",
    "H['LSTM'] = LSTM(hidden_size, activation='relu', dropout=dropout, recurrent_dropout=recurrent_dropout, unroll=True, return_sequences=True)(E['LSTM'])\n",
    "#H['LSTM'] = CuDNNLSTM(hidden_size)(E['LSTM'])\n",
    "\n",
    "R['LSTM'] = TimeDistributed(Dense(embedding_size, activation=\"relu\"), name='readout')(H[\"LSTM\"])\n",
    "\n",
    "Y['LSTM'] = TimeDistributed(Dense(len(tokens), activation=\"softmax\"), name='output')(R['LSTM'])\n",
    "\n",
    "models['LSTM'] = Model(inputs = [I['LSTM']], outputs = [Y['LSTM']])\n",
    "models['LSTM'].compile(\n",
    "    loss='categorical_crossentropy', \n",
    "    optimizer=Adam(),\n",
    "    metrics=['acc'])\n",
    "models['LSTM'].summary()\n",
    "\n",
    "print(X[:,:-1].shape, T[:,1:].shape)\n",
    "logs['LSTM'] = models['LSTM'].fit({'input': X[:dataset_cut,:-1]}, {'output': T[:dataset_cut,1:]}, \n",
    "                                    epochs=epochs, \n",
    "                                    validation_split=validation_split, \n",
    "                                    batch_size=batch_size).history\n",
    "\n",
    "#save\n",
    "with open(\"LSTMmodel_\"+str(embedding_size)+'_'+str(hidden_size)+\"_log.pkl\", \"wb\") as file:\n",
    "    pickle.dump(logs['LSTM'], file)\n",
    "models['LSTM'].save(\"LSTMmodel_\"+str(embedding_size)+'_'+str(hidden_size))"
   ]
  },
  {
   "cell_type": "code",
   "execution_count": 11,
   "metadata": {},
   "outputs": [
    {
     "name": "stdout",
     "output_type": "stream",
     "text": [
      "_________________________________________________________________\n",
      "Layer (type)                 Output Shape              Param #   \n",
      "=================================================================\n",
      "input (InputLayer)           (None, 24)                0         \n",
      "_________________________________________________________________\n",
      "embedding (Embedding)        (None, 24, 128)           380032    \n",
      "_________________________________________________________________\n",
      "gru_1 (GRU)                  (None, 24, 64)            37056     \n",
      "_________________________________________________________________\n",
      "readout (TimeDistributed)    (None, 24, 128)           8320      \n",
      "_________________________________________________________________\n",
      "output (TimeDistributed)     (None, 24, 2969)          383001    \n",
      "=================================================================\n",
      "Total params: 808,409\n",
      "Trainable params: 808,409\n",
      "Non-trainable params: 0\n",
      "_________________________________________________________________\n",
      "(88100, 24) (88100, 24, 2969)\n",
      "Train on 70479 samples, validate on 17620 samples\n",
      "Epoch 1/32\n",
      "70479/70479 [==============================] - 221s 3ms/step - loss: 4.0923 - acc: 0.2850 - val_loss: 3.4904 - val_acc: 0.3590\n",
      "Epoch 2/32\n",
      "70479/70479 [==============================] - 209s 3ms/step - loss: 3.3483 - acc: 0.3685 - val_loss: 3.2788 - val_acc: 0.3754\n",
      "Epoch 3/32\n",
      "70479/70479 [==============================] - 225s 3ms/step - loss: 3.1870 - acc: 0.3821 - val_loss: 3.1877 - val_acc: 0.3852\n",
      "Epoch 4/32\n",
      "70479/70479 [==============================] - 222s 3ms/step - loss: 3.0934 - acc: 0.3900 - val_loss: 3.1386 - val_acc: 0.3894\n",
      "Epoch 5/32\n",
      "70479/70479 [==============================] - 217s 3ms/step - loss: 3.0275 - acc: 0.3950 - val_loss: 3.1083 - val_acc: 0.3922\n",
      "Epoch 6/32\n",
      "70479/70479 [==============================] - 207s 3ms/step - loss: 2.9756 - acc: 0.3996 - val_loss: 3.0886 - val_acc: 0.3936\n",
      "Epoch 7/32\n",
      "70479/70479 [==============================] - 227s 3ms/step - loss: 2.9338 - acc: 0.4032 - val_loss: 3.0736 - val_acc: 0.3930\n",
      "Epoch 8/32\n",
      "70479/70479 [==============================] - 224s 3ms/step - loss: 2.8986 - acc: 0.4059 - val_loss: 3.0612 - val_acc: 0.3987\n",
      "Epoch 9/32\n",
      "70479/70479 [==============================] - 210s 3ms/step - loss: 2.8686 - acc: 0.4086 - val_loss: 3.0552 - val_acc: 0.3993\n",
      "Epoch 10/32\n",
      "70479/70479 [==============================] - 219s 3ms/step - loss: 2.8426 - acc: 0.4105 - val_loss: 3.0520 - val_acc: 0.3992\n",
      "Epoch 11/32\n",
      "70479/70479 [==============================] - 214s 3ms/step - loss: 2.8189 - acc: 0.4127 - val_loss: 3.0483 - val_acc: 0.4017\n",
      "Epoch 12/32\n",
      "70479/70479 [==============================] - 469s 7ms/step - loss: 2.7976 - acc: 0.4150 - val_loss: 3.0537 - val_acc: 0.4025\n",
      "Epoch 13/32\n",
      "70479/70479 [==============================] - 535s 8ms/step - loss: 2.7786 - acc: 0.4165 - val_loss: 3.0539 - val_acc: 0.4021\n",
      "Epoch 14/32\n",
      "70479/70479 [==============================] - 493s 7ms/step - loss: 2.7609 - acc: 0.4179 - val_loss: 3.0540 - val_acc: 0.4027\n",
      "Epoch 15/32\n",
      "70479/70479 [==============================] - 238s 3ms/step - loss: 2.7447 - acc: 0.4191 - val_loss: 3.0644 - val_acc: 0.4027\n",
      "Epoch 16/32\n",
      "70479/70479 [==============================] - 229s 3ms/step - loss: 2.7299 - acc: 0.4205 - val_loss: 3.0682 - val_acc: 0.4030\n",
      "Epoch 17/32\n",
      "70479/70479 [==============================] - 223s 3ms/step - loss: 2.7150 - acc: 0.4225 - val_loss: 3.0675 - val_acc: 0.4038\n",
      "Epoch 18/32\n",
      "70479/70479 [==============================] - 214s 3ms/step - loss: 2.7017 - acc: 0.4234 - val_loss: 3.0755 - val_acc: 0.4035\n",
      "Epoch 19/32\n",
      "70479/70479 [==============================] - 221s 3ms/step - loss: 2.6896 - acc: 0.4247 - val_loss: 3.0828 - val_acc: 0.4028\n",
      "Epoch 20/32\n",
      "70479/70479 [==============================] - 220s 3ms/step - loss: 2.6780 - acc: 0.4261 - val_loss: 3.0885 - val_acc: 0.4035\n",
      "Epoch 21/32\n",
      "70479/70479 [==============================] - 229s 3ms/step - loss: 2.6674 - acc: 0.4271 - val_loss: 3.0897 - val_acc: 0.4030\n",
      "Epoch 22/32\n",
      "70479/70479 [==============================] - 217s 3ms/step - loss: 2.6567 - acc: 0.4282 - val_loss: 3.1013 - val_acc: 0.4026\n",
      "Epoch 23/32\n",
      "70479/70479 [==============================] - 217s 3ms/step - loss: 2.6466 - acc: 0.4295 - val_loss: 3.1034 - val_acc: 0.3991\n",
      "Epoch 24/32\n",
      "70479/70479 [==============================] - 242s 3ms/step - loss: 2.6369 - acc: 0.4308 - val_loss: 3.1166 - val_acc: 0.4033\n",
      "Epoch 25/32\n",
      "70479/70479 [==============================] - 233s 3ms/step - loss: 2.6278 - acc: 0.4316 - val_loss: 3.1160 - val_acc: 0.4022\n",
      "Epoch 26/32\n",
      "70479/70479 [==============================] - 225s 3ms/step - loss: 2.6196 - acc: 0.4326 - val_loss: 3.1259 - val_acc: 0.4021\n",
      "Epoch 27/32\n",
      "70479/70479 [==============================] - 219s 3ms/step - loss: 2.6112 - acc: 0.4337 - val_loss: 3.1259 - val_acc: 0.4026\n",
      "Epoch 28/32\n",
      "70479/70479 [==============================] - 214s 3ms/step - loss: 2.6031 - acc: 0.4344 - val_loss: 3.1328 - val_acc: 0.4015\n",
      "Epoch 29/32\n",
      "70479/70479 [==============================] - 221s 3ms/step - loss: 2.5953 - acc: 0.4356 - val_loss: 3.1417 - val_acc: 0.4006\n",
      "Epoch 30/32\n",
      "70479/70479 [==============================] - 224s 3ms/step - loss: 2.5880 - acc: 0.4364 - val_loss: 3.1435 - val_acc: 0.4000\n",
      "Epoch 31/32\n",
      "70479/70479 [==============================] - 220s 3ms/step - loss: 2.5811 - acc: 0.4370 - val_loss: 3.1496 - val_acc: 0.4017\n",
      "Epoch 32/32\n",
      "70479/70479 [==============================] - 221s 3ms/step - loss: 2.5743 - acc: 0.4382 - val_loss: 3.1609 - val_acc: 0.4011\n"
     ]
    }
   ],
   "source": [
    "#Model suggestion\n",
    "\n",
    "I['GRU'] = Input(shape=(maxlen-1,), name=\"input\")\n",
    "E['GRU'] = Embedding(len(tokens), embedding_size, mask_zero=True, name=\"embedding\")(I['GRU'])\n",
    "\n",
    "#your network here\n",
    "H['GRU'] = GRU(hidden_size, activation='relu', dropout=dropout, recurrent_dropout=recurrent_dropout, unroll=True, return_sequences=True)(E['GRU'])\n",
    "#H['GRU'] = CuDNNGRU(hidden_size)(E['GRU'])\n",
    "\n",
    "R['GRU'] = TimeDistributed(Dense(embedding_size, activation=\"relu\"), name='readout')(H[\"GRU\"])\n",
    "\n",
    "Y['GRU'] = TimeDistributed(Dense(len(tokens), activation=\"softmax\"), name='output')(R['GRU'])\n",
    "\n",
    "\n",
    "models['GRU'] = Model(inputs = [I['GRU']], outputs = [Y['GRU']])\n",
    "models['GRU'].compile(\n",
    "    loss='categorical_crossentropy', \n",
    "    optimizer=Adam(),\n",
    "    metrics=['acc'])\n",
    "models['GRU'].summary()\n",
    "\n",
    "print(X[:,:-1].shape, T[:,1:].shape)\n",
    "logs['GRU'] = models['GRU'].fit({'input': X[:dataset_cut,:-1]}, {'output': T[:dataset_cut,1:]}, \n",
    "                                    epochs=epochs, \n",
    "                                    validation_split=validation_split, \n",
    "                                    batch_size=batch_size).history\n",
    "\n",
    "#save\n",
    "with open(\"GRUmodel_\"+str(embedding_size)+'_'+str(hidden_size)+\"_log.pkl\", \"wb\") as file:\n",
    "    pickle.dump(logs['GRU'], file)\n",
    "models['GRU'].save(\"GRUmodel_\"+str(embedding_size)+'_'+str(hidden_size))"
   ]
  },
  {
   "cell_type": "code",
   "execution_count": 12,
   "metadata": {},
   "outputs": [
    {
     "data": {
      "image/png": "[encoded data removed]",
      "text/plain": [
       "<Figure size 1080x360 with 3 Axes>"
      ]
     },
     "metadata": {
      "needs_background": "light"
     },
     "output_type": "display_data"
    }
   ],
   "source": [
    "r_units = [\"RNN\", \"LSTM\", \"GRU\"]\n",
    "\n",
    "\n",
    "f, ax = plt.subplots(1,3, sharey=True, figsize=(15,5))\n",
    "\n",
    "for i,r_unit in enumerate(r_units):\n",
    "    \n",
    "    ax[i].plot(logs[r_unit][\"loss\"],label=r_unit + \"_tr\", color='blue')\n",
    "    ax[i].plot(logs[r_unit][\"val_loss\"], ls=\"dashed\", label=r_unit + \"_val\", color=\"red\")\n",
    "    ax[i].set_ylabel(\"Loss\")\n",
    "    ax[i].set_xlabel(\"Epochs\")\n",
    "    ax[i].legend()\n",
    "\n",
    "plt.show()"
   ]
  },
  {
   "cell_type": "code",
   "execution_count": 13,
   "metadata": {},
   "outputs": [
    {
     "data": {
      "image/png": "[encoded data removed]",
      "text/plain": [
       "<Figure size 1080x360 with 3 Axes>"
      ]
     },
     "metadata": {
      "needs_background": "light"
     },
     "output_type": "display_data"
    }
   ],
   "source": [
    "r_units = [\"RNN\", \"LSTM\", \"GRU\"]\n",
    "\n",
    "f, ax = plt.subplots(1,3, sharey=True, figsize=(15,5))\n",
    "\n",
    "for i,r_unit in enumerate(r_units):\n",
    "    \n",
    "    ax[i].plot(logs[r_unit][\"acc\"],label=r_unit + \"_tr\", color='blue')\n",
    "    ax[i].plot(logs[r_unit][\"val_acc\"], ls=\"dashed\", label=r_unit + \"_val\", color=\"red\")\n",
    "    ax[i].set_ylabel(\"Accuracy\")\n",
    "    ax[i].set_xlabel(\"Epochs\")\n",
    "    ax[i].legend()\n",
    "\n",
    "plt.show()"
   ]
  },
  {
   "cell_type": "code",
   "execution_count": 16,
   "metadata": {},
   "outputs": [
    {
     "name": "stdout",
     "output_type": "stream",
     "text": [
      "yielded accuracy:\n",
      "RNN 0.3987243720134731\n",
      "LSTM 0.4039141099244593\n",
      "GRU 0.40382017269984277\n"
     ]
    }
   ],
   "source": [
    "print(\"yielded accuracy:\")\n",
    "\n",
    "for r_unit in r_units:\n",
    "    \n",
    "    print(r_unit, np.max(logs[r_unit][\"val_acc\"]))"
   ]
  },
  {
   "cell_type": "markdown",
   "metadata": {},
   "source": [
    "### Optimal network size\n",
    "\n",
    "Compare the learning curves for three networks with 64 (previous exercise), 128 and 256 GRUs (single layer) and one with two hidden layers of 64 GRUs. \n",
    "\n",
    "**Code** Build and train the networks. Apply EarlyStopping (monitor='val_acc', min_delta=0.001, patience=2). Use transfer learning, do not train from scratch your embedding layer, rather re-use the embedding layer from your best performing network in the last exercise. [4 pts]\n",
    "\n",
    "**Figure** Show the learning curves (training and validation loss) for the four models. [1 pt]\n",
    "\n",
    "**Figure** Show the learning curves (training and validation accuracy) for the four models. [1 pt]\n",
    "\n",
    "**Question** List and briefly explain the differences in the learning curves for the different models? [2 pts]\n",
    "\n",
    "**Answer**: **64:\n",
    "128:256:64_64**\n",
    "\n",
    "**Question** What effect had EarlyStopping? Give one advantage and one drawback. [2 pts]\n",
    "\n",
    "**Answer**: **It avoids overfitting and improves the generalization of the model but if stopped too early the model won't learn the patterns**\n",
    "\n",
    "**Question** What is your best model? Why? [1 pt]\n",
    "\n",
    "**Answer**: **TODO**\n",
    "\n"
   ]
  },
  {
   "cell_type": "code",
   "execution_count": 8,
   "metadata": {},
   "outputs": [
    {
     "name": "stdout",
     "output_type": "stream",
     "text": [
      "WARNING:tensorflow:From C:\\Users\\lucas\\Anaconda3\\envs\\gpu\\lib\\site-packages\\tensorflow\\python\\framework\\op_def_library.py:263: colocate_with (from tensorflow.python.framework.ops) is deprecated and will be removed in a future version.\n",
      "Instructions for updating:\n",
      "Colocations handled automatically by placer.\n",
      "WARNING:tensorflow:From C:\\Users\\lucas\\Anaconda3\\envs\\gpu\\lib\\site-packages\\tensorflow\\python\\ops\\math_ops.py:3066: to_int32 (from tensorflow.python.ops.math_ops) is deprecated and will be removed in a future version.\n",
      "Instructions for updating:\n",
      "Use tf.cast instead.\n"
     ]
    }
   ],
   "source": [
    "#load the best model LSTM\n",
    "with open(\"LSTMmodel_\"+str(embedding_size)+'_'+str(hidden_size)+\"_log.pkl\", \"rb\") as file:\n",
    "    LSTM = pickle.load(file)\n",
    "LSTM = load_model(\"LSTMmodel_\"+str(embedding_size)+'_'+str(hidden_size))"
   ]
  },
  {
   "cell_type": "code",
   "execution_count": 9,
   "metadata": {},
   "outputs": [],
   "source": [
    "#Using the embedding layer of the best performing network of previous exercice. (E[\"LSTM\"])\n",
    "\n",
    "lstm_embedding = LSTM.layers[1].get_weights()[0]\n",
    "from keras.initializers import Constant\n",
    "\n",
    "#Earlystopping criteria\n",
    "callback = EarlyStopping(monitor='val_acc', min_delta=0.001, patience=2)"
   ]
  },
  {
   "cell_type": "code",
   "execution_count": 10,
   "metadata": {},
   "outputs": [
    {
     "name": "stdout",
     "output_type": "stream",
     "text": [
      "_________________________________________________________________\n",
      "Layer (type)                 Output Shape              Param #   \n",
      "=================================================================\n",
      "input (InputLayer)           (None, 24)                0         \n",
      "_________________________________________________________________\n",
      "embedding_1 (Embedding)      (None, 24, 128)           380032    \n",
      "_________________________________________________________________\n",
      "gru_1 (GRU)                  (None, 24, 128)           98688     \n",
      "_________________________________________________________________\n",
      "readout (TimeDistributed)    (None, 24, 128)           16512     \n",
      "_________________________________________________________________\n",
      "output (TimeDistributed)     (None, 24, 2969)          383001    \n",
      "=================================================================\n",
      "Total params: 878,233\n",
      "Trainable params: 498,201\n",
      "Non-trainable params: 380,032\n",
      "_________________________________________________________________\n",
      "(88100, 24) (88100, 24, 2969)\n",
      "Train on 70479 samples, validate on 17620 samples\n",
      "Epoch 1/32\n",
      "70479/70479 [==============================] - 106s 2ms/step - loss: 2.1752 - acc: 0.6245 - val_loss: 1.8304 - val_acc: 0.6570\n",
      "Epoch 2/32\n",
      "70479/70479 [==============================] - 157s 2ms/step - loss: 1.7544 - acc: 0.6621 - val_loss: 1.7425 - val_acc: 0.6628\n",
      "Epoch 3/32\n",
      "70479/70479 [==============================] - 124s 2ms/step - loss: 1.6790 - acc: 0.6691 - val_loss: 1.7019 - val_acc: 0.6676\n",
      "Epoch 4/32\n",
      "70479/70479 [==============================] - 144s 2ms/step - loss: 1.6348 - acc: 0.6727 - val_loss: 1.6787 - val_acc: 0.6714\n",
      "Epoch 5/32\n",
      "70479/70479 [==============================] - 138s 2ms/step - loss: 1.6041 - acc: 0.6756 - val_loss: 1.6640 - val_acc: 0.6733\n",
      "Epoch 6/32\n",
      "70479/70479 [==============================] - 132s 2ms/step - loss: 1.5807 - acc: 0.6775 - val_loss: 1.6566 - val_acc: 0.6745\n",
      "Epoch 7/32\n",
      "70479/70479 [==============================] - 116s 2ms/step - loss: 1.5625 - acc: 0.6792 - val_loss: 1.6502 - val_acc: 0.6752\n",
      "Epoch 8/32\n",
      "70479/70479 [==============================] - 135s 2ms/step - loss: 1.5468 - acc: 0.6809 - val_loss: 1.6461 - val_acc: 0.6752\n"
     ]
    }
   ],
   "source": [
    "#Model suggestion\n",
    "hidden_size = 128\n",
    "\n",
    "I['GRU_128'] = Input(shape=(maxlen-1,), name=\"input\")\n",
    "\n",
    "E['GRU_128'] = Embedding(len(tokens), embedding_size, embeddings_initializer=Constant(lstm_embedding),\n",
    "                            trainable=False)(I['GRU_128'])\n",
    "\n",
    "#your network here\n",
    "H['GRU_128'] = GRU(hidden_size, activation='relu', dropout=dropout, recurrent_dropout=recurrent_dropout, unroll=True, return_sequences=True)(E['GRU_128'])\n",
    "#H['GRU'] = CuDNNGRU(hidden_size)(E['GRU'])\n",
    "\n",
    "R['GRU_128'] = TimeDistributed(Dense(embedding_size, activation=\"relu\"), name='readout')(H[\"GRU_128\"])\n",
    "\n",
    "Y['GRU_128'] = TimeDistributed(Dense(len(tokens), activation=\"softmax\"), name='output')(R['GRU_128'])\n",
    "\n",
    "models['GRU_128'] = Model(inputs = [I['GRU_128']], outputs = [Y['GRU_128']])\n",
    "models['GRU_128'].compile(\n",
    "    loss='categorical_crossentropy', \n",
    "    optimizer=Adam(),\n",
    "    metrics=['acc'])\n",
    "models['GRU_128'].summary()\n",
    "\n",
    "print(X[:,:-1].shape, T[:,1:].shape)\n",
    "logs['GRU_128'] = models['GRU_128'].fit({'input': X[:dataset_cut,:-1]}, {'output': T[:dataset_cut,1:]}, \n",
    "                                    epochs=epochs, \n",
    "                                    validation_split=validation_split, \n",
    "                                    batch_size=batch_size,\n",
    "                                    callbacks = [callback]).history\n",
    "\n",
    "#save\n",
    "with open(\"GRUmodel_\"+str(embedding_size)+'_'+str(hidden_size)+\"_log.pkl\", \"wb\") as file:\n",
    "    pickle.dump(logs['GRU_128'], file)\n",
    "models['GRU_128'].save(\"GRUmodel_\"+str(embedding_size)+'_'+str(hidden_size))"
   ]
  },
  {
   "cell_type": "code",
   "execution_count": 11,
   "metadata": {},
   "outputs": [
    {
     "name": "stdout",
     "output_type": "stream",
     "text": [
      "_________________________________________________________________\n",
      "Layer (type)                 Output Shape              Param #   \n",
      "=================================================================\n",
      "input (InputLayer)           (None, 24)                0         \n",
      "_________________________________________________________________\n",
      "embedding_2 (Embedding)      (None, 24, 128)           380032    \n",
      "_________________________________________________________________\n",
      "gru_2 (GRU)                  (None, 24, 256)           295680    \n",
      "_________________________________________________________________\n",
      "readout (TimeDistributed)    (None, 24, 128)           32896     \n",
      "_________________________________________________________________\n",
      "output (TimeDistributed)     (None, 24, 2969)          383001    \n",
      "=================================================================\n",
      "Total params: 1,091,609\n",
      "Trainable params: 711,577\n",
      "Non-trainable params: 380,032\n",
      "_________________________________________________________________\n",
      "(88100, 24) (88100, 24, 2969)\n",
      "Train on 70479 samples, validate on 17620 samples\n",
      "Epoch 1/32\n",
      "70479/70479 [==============================] - 144s 2ms/step - loss: 2.1215 - acc: 0.6285 - val_loss: 1.8093 - val_acc: 0.6583\n",
      "Epoch 2/32\n",
      "70479/70479 [==============================] - 145s 2ms/step - loss: 1.7315 - acc: 0.6649 - val_loss: 1.7215 - val_acc: 0.6675\n",
      "Epoch 3/32\n",
      "70479/70479 [==============================] - 107s 2ms/step - loss: 1.6544 - acc: 0.6718 - val_loss: 1.6815 - val_acc: 0.6708\n",
      "Epoch 4/32\n",
      "70479/70479 [==============================] - 123s 2ms/step - loss: 1.6073 - acc: 0.6763 - val_loss: 1.6600 - val_acc: 0.6737\n",
      "Epoch 5/32\n",
      "70479/70479 [==============================] - 145s 2ms/step - loss: 1.5729 - acc: 0.6794 - val_loss: 1.6456 - val_acc: 0.6752\n",
      "Epoch 6/32\n",
      "70479/70479 [==============================] - 117s 2ms/step - loss: 1.5459 - acc: 0.6819 - val_loss: 1.6340 - val_acc: 0.6773\n",
      "Epoch 7/32\n",
      "70479/70479 [==============================] - 147s 2ms/step - loss: 1.5234 - acc: 0.6841 - val_loss: 1.6276 - val_acc: 0.6786\n",
      "Epoch 8/32\n",
      "70479/70479 [==============================] - 125s 2ms/step - loss: 1.5045 - acc: 0.6858 - val_loss: 1.6282 - val_acc: 0.6781\n",
      "Epoch 9/32\n",
      "70479/70479 [==============================] - 135s 2ms/step - loss: 1.4874 - acc: 0.6875 - val_loss: 1.6255 - val_acc: 0.6784\n"
     ]
    }
   ],
   "source": [
    "hidden_size = 256\n",
    "\n",
    "I['GRU_256'] = Input(shape=(maxlen-1,), name=\"input\")\n",
    "\n",
    "#Using the embedding layer of the best performing network of previous exercice. (E[\"LSTM\"])\n",
    "E['GRU_256'] = Embedding(len(tokens), embedding_size, embeddings_initializer=Constant(lstm_embedding),\n",
    "                            input_length=24,\n",
    "                            trainable=False)(I['GRU_256'])\n",
    "\n",
    "#your network here\n",
    "H['GRU_256'] = GRU(hidden_size, activation='relu', dropout=dropout, recurrent_dropout=recurrent_dropout, unroll=True, return_sequences=True)(E['GRU_256'])\n",
    "#H['GRU'] = CuDNNGRU(hidden_size)(E['GRU'])\n",
    "\n",
    "R['GRU_256'] = TimeDistributed(Dense(embedding_size, activation=\"relu\"), name='readout')(H[\"GRU_256\"])\n",
    "\n",
    "Y['GRU_256'] = TimeDistributed(Dense(len(tokens), activation=\"softmax\"), name='output')(R['GRU_256'])\n",
    "\n",
    "models['GRU_256'] = Model(inputs = [I['GRU_256']], outputs = [Y['GRU_256']])\n",
    "models['GRU_256'].compile(\n",
    "    loss='categorical_crossentropy', \n",
    "    optimizer=Adam(),\n",
    "    metrics=['acc'])\n",
    "models['GRU_256'].summary()\n",
    "\n",
    "print(X[:,:-1].shape, T[:,1:].shape)\n",
    "logs['GRU_256'] = models['GRU_256'].fit({'input': X[:dataset_cut,:-1]}, {'output': T[:dataset_cut,1:]}, \n",
    "                                    epochs=epochs, \n",
    "                                    validation_split=validation_split, \n",
    "                                    batch_size=batch_size,\n",
    "                                    callbacks = [callback]).history\n",
    "\n",
    "#save\n",
    "with open(\"GRUmodel_\"+str(embedding_size)+'_'+str(hidden_size)+\"_log.pkl\", \"wb\") as file:\n",
    "    pickle.dump(logs['GRU_256'], file)\n",
    "models['GRU_256'].save(\"GRUmodel_\"+str(embedding_size)+'_'+str(hidden_size))"
   ]
  },
  {
   "cell_type": "code",
   "execution_count": 12,
   "metadata": {},
   "outputs": [
    {
     "name": "stdout",
     "output_type": "stream",
     "text": [
      "_________________________________________________________________\n",
      "Layer (type)                 Output Shape              Param #   \n",
      "=================================================================\n",
      "input (InputLayer)           (None, 24)                0         \n",
      "_________________________________________________________________\n",
      "embedding_3 (Embedding)      (None, 24, 128)           380032    \n",
      "_________________________________________________________________\n",
      "gru_3 (GRU)                  (None, 24, 64)            37056     \n",
      "_________________________________________________________________\n",
      "readout (TimeDistributed)    (None, 24, 128)           8320      \n",
      "_________________________________________________________________\n",
      "output (TimeDistributed)     (None, 24, 2969)          383001    \n",
      "=================================================================\n",
      "Total params: 808,409\n",
      "Trainable params: 428,377\n",
      "Non-trainable params: 380,032\n",
      "_________________________________________________________________\n",
      "(88100, 24) (88100, 24, 2969)\n",
      "Train on 70479 samples, validate on 17620 samples\n",
      "Epoch 1/32\n",
      "70479/70479 [==============================] - 154s 2ms/step - loss: 2.2335 - acc: 0.6167 - val_loss: 1.8560 - val_acc: 0.6520\n",
      "Epoch 2/32\n",
      "70479/70479 [==============================] - 156s 2ms/step - loss: 1.7765 - acc: 0.6590 - val_loss: 1.7615 - val_acc: 0.6617\n",
      "Epoch 3/32\n",
      "70479/70479 [==============================] - 155s 2ms/step - loss: 1.7010 - acc: 0.6659 - val_loss: 1.7197 - val_acc: 0.6660\n",
      "Epoch 4/32\n",
      "70479/70479 [==============================] - 145s 2ms/step - loss: 1.6589 - acc: 0.6695 - val_loss: 1.6974 - val_acc: 0.6682\n",
      "Epoch 5/32\n",
      "70479/70479 [==============================] - 147s 2ms/step - loss: 1.6302 - acc: 0.6719 - val_loss: 1.6852 - val_acc: 0.6706\n",
      "Epoch 6/32\n",
      "70479/70479 [==============================] - 133s 2ms/step - loss: 1.6092 - acc: 0.6738 - val_loss: 1.6760 - val_acc: 0.6712\n",
      "Epoch 7/32\n",
      "70479/70479 [==============================] - 155s 2ms/step - loss: 1.5926 - acc: 0.6752 - val_loss: 1.6722 - val_acc: 0.6719\n",
      "Epoch 8/32\n",
      "70479/70479 [==============================] - 140s 2ms/step - loss: 1.5788 - acc: 0.6762 - val_loss: 1.6674 - val_acc: 0.6728\n",
      "Epoch 9/32\n",
      "70479/70479 [==============================] - 141s 2ms/step - loss: 1.5675 - acc: 0.6771 - val_loss: 1.6648 - val_acc: 0.6734\n",
      "Epoch 10/32\n",
      "70479/70479 [==============================] - 140s 2ms/step - loss: 1.5578 - acc: 0.6780 - val_loss: 1.6642 - val_acc: 0.6733\n",
      "Epoch 11/32\n",
      "70479/70479 [==============================] - 141s 2ms/step - loss: 1.5494 - acc: 0.6786 - val_loss: 1.6618 - val_acc: 0.6740\n"
     ]
    }
   ],
   "source": [
    "hidden_size = 64\n",
    "H2 = {}\n",
    "\n",
    "I['GRU_64_64'] = Input(shape=(maxlen-1,), name=\"input\")\n",
    "\n",
    "#Using the embedding layer of the best performing network of previous exercice. (E[\"LSTM\"])\n",
    "E['GRU_64_64'] = Embedding(len(tokens), embedding_size, embeddings_initializer=Constant(lstm_embedding),\n",
    "                            input_length=24,\n",
    "                            trainable=False)(I['GRU_64_64'])\n",
    "\n",
    "#your network here\n",
    "H['GRU_64_64'] = GRU(hidden_size, activation='relu', dropout=dropout,\n",
    "                     recurrent_dropout=recurrent_dropout, unroll=True,\n",
    "                     return_sequences=True)(E['GRU_64_64'])\n",
    "H2['GRU_64_64'] = GRU(hidden_size, activation='relu', dropout=dropout,\n",
    "                      recurrent_dropout=recurrent_dropout, unroll=True,\n",
    "                     return_sequences=True)(H['GRU_64_64'])\n",
    "\n",
    "\n",
    "R['GRU_64_64'] = TimeDistributed(Dense(embedding_size, activation=\"relu\"), name='readout')(H[\"GRU_64_64\"])\n",
    "\n",
    "Y['GRU_64_64'] = TimeDistributed(Dense(len(tokens), activation=\"softmax\"), name='output')(R['GRU_64_64'])\n",
    "\n",
    "models['GRU_64_64'] = Model(inputs = [I['GRU_64_64']], outputs = [Y['GRU_64_64']])\n",
    "models['GRU_64_64'].compile(\n",
    "    loss='categorical_crossentropy', \n",
    "    optimizer=Adam(),\n",
    "    metrics=['acc'])\n",
    "models['GRU_64_64'].summary()\n",
    "\n",
    "print(X[:,:-1].shape, T[:,1:].shape)\n",
    "logs['GRU_64_64'] = models['GRU_64_64'].fit({'input': X[:dataset_cut,:-1]}, {'output': T[:dataset_cut,1:]}, \n",
    "                                    epochs=epochs, \n",
    "                                    validation_split=validation_split, \n",
    "                                    batch_size=batch_size,\n",
    "                                    callbacks = [callback]).history\n",
    "\n",
    "#save\n",
    "with open(\"GRUmodel_\"+str(embedding_size)+'_'+str(hidden_size)+\"_log.pkl\", \"wb\") as file:\n",
    "    pickle.dump(logs['GRU_64_64'], file)\n",
    "models['GRU_64_64'].save(\"GRUmodel_\"+str(embedding_size)+'_'+str(hidden_size)+'_'+str(hidden_size))"
   ]
  },
  {
   "cell_type": "code",
   "execution_count": 15,
   "metadata": {},
   "outputs": [],
   "source": [
    "#load the best model LSTM\n",
    "with open(\"GRUmodel_\"+str(embedding_size)+'_'+str(hidden_size)+\"_log.pkl\", \"rb\") as file:\n",
    "    GRU = pickle.load(file)\n",
    "GRU = load_model(\"GRUmodel_\"+str(embedding_size)+'_'+str(hidden_size))"
   ]
  },
  {
   "cell_type": "code",
   "execution_count": 16,
   "metadata": {},
   "outputs": [
    {
     "ename": "KeyError",
     "evalue": "'GRU'",
     "output_type": "error",
     "traceback": [
      "\u001b[1;31m---------------------------------------------------------------------------\u001b[0m",
      "\u001b[1;31mKeyError\u001b[0m                                  Traceback (most recent call last)",
      "\u001b[1;32m<ipython-input-16-6a641ab4daa7>\u001b[0m in \u001b[0;36m<module>\u001b[1;34m\u001b[0m\n\u001b[0;32m      6\u001b[0m \u001b[1;32mfor\u001b[0m \u001b[0mi\u001b[0m\u001b[1;33m,\u001b[0m\u001b[0mr_unit\u001b[0m \u001b[1;32min\u001b[0m \u001b[0menumerate\u001b[0m\u001b[1;33m(\u001b[0m\u001b[0mr_units\u001b[0m\u001b[1;33m)\u001b[0m\u001b[1;33m:\u001b[0m\u001b[1;33m\u001b[0m\u001b[1;33m\u001b[0m\u001b[0m\n\u001b[0;32m      7\u001b[0m \u001b[1;33m\u001b[0m\u001b[0m\n\u001b[1;32m----> 8\u001b[1;33m     \u001b[0max\u001b[0m\u001b[1;33m[\u001b[0m\u001b[0mi\u001b[0m\u001b[1;33m]\u001b[0m\u001b[1;33m.\u001b[0m\u001b[0mplot\u001b[0m\u001b[1;33m(\u001b[0m\u001b[0mlogs\u001b[0m\u001b[1;33m[\u001b[0m\u001b[0mr_unit\u001b[0m\u001b[1;33m]\u001b[0m\u001b[1;33m[\u001b[0m\u001b[1;34m\"loss\"\u001b[0m\u001b[1;33m]\u001b[0m\u001b[1;33m,\u001b[0m\u001b[0mlabel\u001b[0m\u001b[1;33m=\u001b[0m\u001b[0mr_unit\u001b[0m \u001b[1;33m+\u001b[0m \u001b[1;34m\"_tr\"\u001b[0m\u001b[1;33m,\u001b[0m \u001b[0mcolor\u001b[0m\u001b[1;33m=\u001b[0m\u001b[1;34m'blue'\u001b[0m\u001b[1;33m)\u001b[0m\u001b[1;33m\u001b[0m\u001b[1;33m\u001b[0m\u001b[0m\n\u001b[0m\u001b[0;32m      9\u001b[0m     \u001b[0max\u001b[0m\u001b[1;33m[\u001b[0m\u001b[0mi\u001b[0m\u001b[1;33m]\u001b[0m\u001b[1;33m.\u001b[0m\u001b[0mplot\u001b[0m\u001b[1;33m(\u001b[0m\u001b[0mlogs\u001b[0m\u001b[1;33m[\u001b[0m\u001b[0mr_unit\u001b[0m\u001b[1;33m]\u001b[0m\u001b[1;33m[\u001b[0m\u001b[1;34m\"val_loss\"\u001b[0m\u001b[1;33m]\u001b[0m\u001b[1;33m,\u001b[0m \u001b[0mls\u001b[0m\u001b[1;33m=\u001b[0m\u001b[1;34m\"dashed\"\u001b[0m\u001b[1;33m,\u001b[0m \u001b[0mlabel\u001b[0m\u001b[1;33m=\u001b[0m\u001b[0mr_unit\u001b[0m \u001b[1;33m+\u001b[0m \u001b[1;34m\"_val\"\u001b[0m\u001b[1;33m,\u001b[0m \u001b[0mcolor\u001b[0m\u001b[1;33m=\u001b[0m\u001b[1;34m\"red\"\u001b[0m\u001b[1;33m)\u001b[0m\u001b[1;33m\u001b[0m\u001b[1;33m\u001b[0m\u001b[0m\n\u001b[0;32m     10\u001b[0m     \u001b[0max\u001b[0m\u001b[1;33m[\u001b[0m\u001b[0mi\u001b[0m\u001b[1;33m]\u001b[0m\u001b[1;33m.\u001b[0m\u001b[0mset_ylabel\u001b[0m\u001b[1;33m(\u001b[0m\u001b[1;34m\"Loss\"\u001b[0m\u001b[1;33m)\u001b[0m\u001b[1;33m\u001b[0m\u001b[1;33m\u001b[0m\u001b[0m\n",
      "\u001b[1;31mKeyError\u001b[0m: 'GRU'"
     ]
    },
    {
     "data": {
      "image/png": "[encoded data removed]",
      "text/plain": [
       "<Figure size 1080x360 with 4 Axes>"
      ]
     },
     "metadata": {
      "needs_background": "light"
     },
     "output_type": "display_data"
    }
   ],
   "source": [
    "r_units = [\"GRU\",\"GRU_128\", \"GRU_256\", \"GRU_64_64\"]\n",
    "\n",
    "\n",
    "f, ax = plt.subplots(1,4, sharey=True, figsize=(15,5))\n",
    "\n",
    "for i,r_unit in enumerate(r_units):\n",
    "    \n",
    "    ax[i].plot(logs[r_unit][\"loss\"],label=r_unit + \"_tr\", color='blue')\n",
    "    ax[i].plot(logs[r_unit][\"val_loss\"], ls=\"dashed\", label=r_unit + \"_val\", color=\"red\")\n",
    "    ax[i].set_ylabel(\"Loss\")\n",
    "    ax[i].set_xlabel(\"Epochs\")\n",
    "    ax[i].legend()\n",
    "\n",
    "plt.show()"
   ]
  },
  {
   "cell_type": "code",
   "execution_count": 25,
   "metadata": {},
   "outputs": [
    {
     "data": {
      "image/png": "[encoded data removed]",
      "text/plain": [
       "<Figure size 1080x360 with 4 Axes>"
      ]
     },
     "metadata": {
      "needs_background": "light"
     },
     "output_type": "display_data"
    }
   ],
   "source": [
    "r_units = [\"GRU\",\"GRU_128\", \"GRU_256\", \"GRU_64_64\"]\n",
    "\n",
    "f, ax = plt.subplots(1,4, sharey=True, figsize=(15,5))\n",
    "\n",
    "for i,r_unit in enumerate(r_units):\n",
    "    \n",
    "    ax[i].plot(logs[r_unit][\"acc\"],label=r_unit + \"_tr\", color='blue')\n",
    "    ax[i].plot(logs[r_unit][\"val_acc\"], ls=\"dashed\", label=r_unit + \"_val\", color=\"red\")\n",
    "    ax[i].set_ylabel(\"Accuracy\")\n",
    "    ax[i].set_xlabel(\"Epochs\")\n",
    "    ax[i].legend()\n",
    "\n",
    "plt.show()"
   ]
  },
  {
   "cell_type": "markdown",
   "metadata": {},
   "source": [
    "### Generate sentences\n",
    "\n",
    "Now you will generate new sentences from your best performing model.\n",
    "\n",
    "**Code** To achieve that, use the provided sample function below to generate new sentences from your model. You should start by constructing a sentence that starts with the 'START' artificial word and all other words being the 'PADD' artificial word. Then sample the first word from the corresponding probabilities given by your model. Add this word to the sentence and continue like this until you sample the 'END' artificial word or the maximum sentence length. [2 pts]\n",
    "\n",
    "**Code** Generate 10 sentences for different sampling temperature in [0., 0.25, 0.5, 0.75, 1., 1.5., 2.]. [1 pt]\n",
    "\n",
    "**7 Figures** For each temperature, use matplotlib imshow to plot the probablities of every word in one generated sentence (and only these words) at each time step. y-axis should be the words that are present in the sentence. x-axis the timesteps and the imshow value the probabilities given by the model for all words in the sentence at each timestep. Use the a colormap where 0 is white, e.g. cmap='Greys'. [2 pts]\n",
    "\n",
    "**Code** Finally, seed your model with two different beginnings of max 4 words and let it generate 10 possible continuations (use sampling temperature of 1.). [2 pts]\n",
    "\n",
    "**Question** What is the effect of sampling temperature on the generated sentences? [1 pt]\n",
    "\n",
    "**Answer**\n",
    "\n",
    "**Question** In terms of sampling a probability distribution, what does a sampling temperature of 0 corresponds to? [1 pt] \n",
    "\n",
    "**Answer**\n",
    "\n",
    "**Question** In terms of sampling a probability distribution, what does a sampling temperature of 1. corresponds to? [1 pt] \n",
    "\n",
    "**Answer**\n",
    "\n",
    "**Question** In terms of sampling a probability distribution, what does a very high sampling temperature corresponds to? [1 pt]\n",
    "\n",
    "**Answer**\n",
    "\n",
    "**Question** Based on the plotted word probabilities, explain how a sentence is generated. [2 pts]\n",
    "\n",
    "**Answer**\n",
    "\n",
    "**Question** Do you observe timesteps with more than one word with non-zero probability? How do these probable words relate in terms of language? [1 pt]\n",
    "\n",
    "**Answer**"
   ]
  },
  {
   "cell_type": "code",
   "execution_count": null,
   "metadata": {},
   "outputs": [],
   "source": [
    "def sample(preds, temperature=1.):\n",
    "    # helper function to sample an index from a probability array\n",
    "    if temperature == 0.:\n",
    "        return np.argmax(preds)\n",
    "    preds = np.asarray(preds).astype('float64')\n",
    "    preds = np.log(preds) / temperature\n",
    "    exp_preds = np.exp(preds)\n",
    "    preds = exp_preds / np.sum(exp_preds)\n",
    "    probas = np.random.multinomial(1, preds, 1)\n",
    "    return np.argmax(probas)\n"
   ]
  },
  {
   "cell_type": "code",
   "execution_count": null,
   "metadata": {
    "collapsed": true
   },
   "outputs": [],
   "source": []
  },
  {
   "cell_type": "code",
   "execution_count": null,
   "metadata": {
    "collapsed": true
   },
   "outputs": [],
   "source": []
  },
  {
   "cell_type": "code",
   "execution_count": null,
   "metadata": {
    "collapsed": true
   },
   "outputs": [],
   "source": []
  },
  {
   "cell_type": "code",
   "execution_count": null,
   "metadata": {
    "collapsed": true
   },
   "outputs": [],
   "source": []
  },
  {
   "cell_type": "markdown",
   "metadata": {},
   "source": [
    "###  Word embedding visualization\n",
    "\n",
    "Here, you are asked to visualize the embedding layer. \n",
    "\n",
    "**Code** To do that, project in 2D the embedding vectors for different words. Use t-SNE, a projection that conserve the neighborhood relationships between vectors. HINT: Build a Keras model that takes as input a list of words and outputs a list of vector embeddings as learned by your best performing model. Use t-SNE dimensionality reduction (from sklearn.manifold import TSNE). [2 pts]\n",
    "\n",
    "**Figure** Plot the projection of the first 200 most frequent words in a 2D plot. On the plot, write the words. [2 pt] \n",
    "\n",
    "**Question** Do you observe clusters of words with similar meaning or role in language? Report three of them here. [1 pt]\n",
    "\n",
    "**Answer**\n",
    "\n",
    "**Question** Why is having similar vector representation for similar words a good approach for such models? Explain using the example clusters from before and argue in terms of prediction accuracy and/or generalization. [2 pts]\n",
    "\n",
    "**Answer**"
   ]
  },
  {
   "cell_type": "code",
   "execution_count": null,
   "metadata": {
    "scrolled": true
   },
   "outputs": [],
   "source": []
  },
  {
   "cell_type": "code",
   "execution_count": null,
   "metadata": {},
   "outputs": [],
   "source": []
  },
  {
   "cell_type": "code",
   "execution_count": null,
   "metadata": {
    "scrolled": true
   },
   "outputs": [],
   "source": []
  },
  {
   "cell_type": "markdown",
   "metadata": {},
   "source": [
    "## Chatbot\n",
    "\n",
    "Finally, you will construct a model with which you can chat. The network will take as input a sentence and output a response.\n",
    "\n",
    "**Code** For that, you should go back to your original data and construct a new dataset containing pairs of sentences, where each pair is a sentence and its answer. Be careful to not include any pair of sentences that contains words not present in your filtered dictionary. [2 pts]\n",
    "\n",
    "**Code** You should then tokenize, padd, truncate each sentence. Only the answers need the 'START' and 'END' artificial words. [1 pt]\n",
    "\n",
    "We provide you with a possible model, you are welcome to change it. This model uses an LSTM layer to encode the first sentence (the context). The final state of this LSTM layer is transfered to initialize the state of a decoder LSTM layer from which the answer sentence will be generated. \n",
    "\n",
    "**Code** Train your chatbot model on your dataset. [1 pt]\n",
    "\n",
    "**Code** Adapt your sentence generation code from before so that you can generate an answer given a context sentence from your model. [2 pts] \n",
    "\n",
    "**Code** After training, randomly select 10 context-answers pairs from your data and show both the real answer (the one from the data) and the generated one for two different sampling temperatures (e.g. 0.5 and 1.0). [2 pts]\n",
    "\n",
    "**Question** How similar are the generated answers and the real ones? Does your model provide probable answers (given the dataset)? Report here one good and one bad example. [2 pts]\n",
    "\n",
    "**Answer**\n",
    "\n",
    "**Question** Which sampling temperature gives better answers? why? [2 pts]\n",
    "\n",
    "**Answer**\n",
    "\n",
    "**Question** Would it be good if your model was able to reproduce exactly each real answer? Why? [1 pt]\n",
    "\n",
    "**Answer**\n",
    "\n",
    "**Code** Entertain yourself with your model. Write some code to chat with your bot, let it discuss with itself, ... be creative! [2 **bonus** pts]\n",
    "\n",
    "\n"
   ]
  },
  {
   "cell_type": "code",
   "execution_count": null,
   "metadata": {
    "collapsed": true
   },
   "outputs": [],
   "source": []
  },
  {
   "cell_type": "code",
   "execution_count": null,
   "metadata": {
    "collapsed": true
   },
   "outputs": [],
   "source": []
  },
  {
   "cell_type": "code",
   "execution_count": null,
   "metadata": {
    "collapsed": true
   },
   "outputs": [],
   "source": []
  },
  {
   "cell_type": "code",
   "execution_count": null,
   "metadata": {
    "collapsed": true
   },
   "outputs": [],
   "source": [
    "context = Input(shape=(maxlen-2,), name=\"input_context\")\n",
    "shared_embedding = E['GRU']\n",
    "context_embedding = shared_embedding(context)\n",
    "\n",
    "encoder_y, encoder_h, encoder_c = LSTM(hidden_size, \n",
    "            return_sequences=False,\n",
    "            return_state=True,\n",
    "            stateful=False,\n",
    "            dropout=dropout,\n",
    "            recurrent_dropout=recurrent_dropout,\n",
    "            go_backwards=True,\n",
    "            name=\"encoder\")(context_embedding)\n",
    "\n",
    "answer = Input(shape=(maxlen-1,), name=\"input_answer\")\n",
    "answer_embedding = shared_embedding(answer)\n",
    "\n",
    "decoder_input = answer_embedding\n",
    "decoder = LSTM(hidden_size, \n",
    "            return_sequences=True,\n",
    "            stateful=False,\n",
    "            dropout=dropout,\n",
    "            recurrent_dropout=recurrent_dropout,\n",
    "            name=\"decoder\")(answer_embedding, initial_state=[encoder_h, encoder_c])\n",
    "# decoder2 = LSTM(hidden_size, \n",
    "#             return_sequences=True,\n",
    "#             stateful=False,\n",
    "#             dropout=dropout,\n",
    "#             recurrent_dropout=recurrent_dropout,\n",
    "#             name=\"decoder2\")(decoder)\n",
    "\n",
    "R = TimeDistributed(Dense(embedding_size, activation='relu'), name='readout')(decoder)\n",
    "Y = TimeDistributed(Dense(len(tokens), activation='softmax'), name='output')(R)\n",
    "\n",
    "Chatbot = Model(inputs = [context, answer], outputs = [Y])\n",
    "Chatbot.compile(\n",
    "    loss='categorical_crossentropy', \n",
    "    optimizer=Adam(),\n",
    "    metrics=['acc'])\n",
    "Chatbot.summary()\n"
   ]
  },
  {
   "cell_type": "code",
   "execution_count": null,
   "metadata": {
    "scrolled": true
   },
   "outputs": [],
   "source": []
  },
  {
   "cell_type": "code",
   "execution_count": null,
   "metadata": {
    "collapsed": true
   },
   "outputs": [],
   "source": []
  },
  {
   "cell_type": "code",
   "execution_count": null,
   "metadata": {
    "collapsed": true
   },
   "outputs": [],
   "source": []
  }
 ],
 "metadata": {
  "kernelspec": {
   "display_name": "Python 3",
   "language": "python",
   "name": "python3"
  },
  "language_info": {
   "codemirror_mode": {
    "name": "ipython",
    "version": 3
   },
   "file_extension": ".py",
   "mimetype": "text/x-python",
   "name": "python",
   "nbconvert_exporter": "python",
   "pygments_lexer": "ipython3",
   "version": "3.6.8"
  }
 },
 "nbformat": 4,
 "nbformat_minor": 2
}
